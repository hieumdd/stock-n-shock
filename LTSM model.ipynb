{
 "cells": [
  {
   "cell_type": "code",
   "execution_count": 20,
   "metadata": {},
   "outputs": [],
   "source": [
    "import numpy as np\n",
    "import pandas as pd\n",
    "import plotly.graph_objects as go\n",
    "from sqlalchemy import create_engine\n",
    "import os\n",
    "import matplotlib.pyplot as plt\n",
    "from sklearn.preprocessing import MinMaxScaler\n",
    "from sklearn.model_selection import train_test_split\n",
    "from tensorflow.keras.models import Sequential\n",
    "from tensorflow.keras.layers import Dense, LSTM, Dropout\n",
    "from tensorflow.keras.callbacks import EarlyStopping\n",
    "from sklearn.metrics import mean_squared_error, mean_absolute_error"
   ]
  },
  {
   "cell_type": "code",
   "execution_count": 2,
   "metadata": {},
   "outputs": [],
   "source": [
    "cnxn = create_engine('sqlite:///vn.db')"
   ]
  },
  {
   "cell_type": "code",
   "execution_count": 27,
   "metadata": {},
   "outputs": [],
   "source": [
    "query = \"SELECT * FROM HSX WHERE ticker = 'VNM' ORDER BY date\""
   ]
  },
  {
   "cell_type": "code",
   "execution_count": 28,
   "metadata": {},
   "outputs": [],
   "source": [
    "df = pd.read_sql(query, cnxn, parse_dates=['date'])"
   ]
  },
  {
   "cell_type": "code",
   "execution_count": 29,
   "metadata": {},
   "outputs": [
    {
     "output_type": "execute_result",
     "data": {
      "text/plain": "              open         high          low        close        volume\ncount  1786.000000  1786.000000  1786.000000  1786.000000  1.786000e+03\nmean    133.817187   135.064601   132.614438   133.833748  6.795340e+05\nstd      24.408896    24.654265    24.183623    24.414425  6.396641e+05\nmin      83.700000    88.300000    83.700000    83.700000  1.413000e+03\n25%     117.550000   118.725000   116.225000   117.600000  2.326225e+05\n50%     133.000000   134.000000   131.850000   133.000000  5.419450e+05\n75%     143.000000   144.375000   142.000000   143.000000  9.106450e+05\nmax     214.000000   215.000000   213.100000   214.800000  9.270450e+06",
      "text/html": "<div>\n<style scoped>\n    .dataframe tbody tr th:only-of-type {\n        vertical-align: middle;\n    }\n\n    .dataframe tbody tr th {\n        vertical-align: top;\n    }\n\n    .dataframe thead th {\n        text-align: right;\n    }\n</style>\n<table border=\"1\" class=\"dataframe\">\n  <thead>\n    <tr style=\"text-align: right;\">\n      <th></th>\n      <th>open</th>\n      <th>high</th>\n      <th>low</th>\n      <th>close</th>\n      <th>volume</th>\n    </tr>\n  </thead>\n  <tbody>\n    <tr>\n      <th>count</th>\n      <td>1786.000000</td>\n      <td>1786.000000</td>\n      <td>1786.000000</td>\n      <td>1786.000000</td>\n      <td>1.786000e+03</td>\n    </tr>\n    <tr>\n      <th>mean</th>\n      <td>133.817187</td>\n      <td>135.064601</td>\n      <td>132.614438</td>\n      <td>133.833748</td>\n      <td>6.795340e+05</td>\n    </tr>\n    <tr>\n      <th>std</th>\n      <td>24.408896</td>\n      <td>24.654265</td>\n      <td>24.183623</td>\n      <td>24.414425</td>\n      <td>6.396641e+05</td>\n    </tr>\n    <tr>\n      <th>min</th>\n      <td>83.700000</td>\n      <td>88.300000</td>\n      <td>83.700000</td>\n      <td>83.700000</td>\n      <td>1.413000e+03</td>\n    </tr>\n    <tr>\n      <th>25%</th>\n      <td>117.550000</td>\n      <td>118.725000</td>\n      <td>116.225000</td>\n      <td>117.600000</td>\n      <td>2.326225e+05</td>\n    </tr>\n    <tr>\n      <th>50%</th>\n      <td>133.000000</td>\n      <td>134.000000</td>\n      <td>131.850000</td>\n      <td>133.000000</td>\n      <td>5.419450e+05</td>\n    </tr>\n    <tr>\n      <th>75%</th>\n      <td>143.000000</td>\n      <td>144.375000</td>\n      <td>142.000000</td>\n      <td>143.000000</td>\n      <td>9.106450e+05</td>\n    </tr>\n    <tr>\n      <th>max</th>\n      <td>214.000000</td>\n      <td>215.000000</td>\n      <td>213.100000</td>\n      <td>214.800000</td>\n      <td>9.270450e+06</td>\n    </tr>\n  </tbody>\n</table>\n</div>"
     },
     "metadata": {},
     "execution_count": 29
    }
   ],
   "source": [
    "df.describe()"
   ]
  },
  {
   "cell_type": "code",
   "execution_count": 30,
   "metadata": {},
   "outputs": [],
   "source": [
    "df['mid'] = (df['high'] + df['low']) / 2"
   ]
  },
  {
   "cell_type": "code",
   "execution_count": 31,
   "metadata": {},
   "outputs": [],
   "source": [
    "train_set = df[['mid']].iloc[:-40,:]\n",
    "test_set = df[['mid']].iloc[-40:,:]"
   ]
  },
  {
   "cell_type": "code",
   "execution_count": 32,
   "metadata": {},
   "outputs": [],
   "source": [
    "day_to_window = 30"
   ]
  },
  {
   "cell_type": "code",
   "execution_count": 33,
   "metadata": {},
   "outputs": [],
   "source": [
    "sc = MinMaxScaler(feature_range=(0,1))\n",
    "stage_train = sc.fit_transform(train_set.values.reshape(-1,1))\n",
    "X_train = []\n",
    "y_train = []\n",
    "for i in range(day_to_window, len(stage_train)):\n",
    "    X_train.append(stage_train[i-day_to_window:i, :])\n",
    "    y_train.append(stage_train[i, :])\n",
    "X_train, y_train = np.array(X_train), np.array(y_train)\n",
    "X_train = np.reshape(X_train, (X_train.shape[0], X_train.shape[1], 1))"
   ]
  },
  {
   "cell_type": "code",
   "execution_count": 34,
   "metadata": {},
   "outputs": [],
   "source": [
    "dataset_total = pd.concat((train_set, test_set), axis = 0)\n",
    "inputs = dataset_total[len(df) - len(test_set) - day_to_window:].values\n",
    "inputs = inputs.reshape(-1,1)\n",
    "inputs = sc.transform(inputs)\n",
    "X_test = []\n",
    "y_test = []\n",
    "for i in range(day_to_window, day_to_window + len(test_set)):\n",
    "    X_test.append(inputs[i-day_to_window:i, :])\n",
    "    y_test.append(inputs[i, :])\n",
    "X_test = np.array(X_test)\n",
    "y_test = np.array(y_test)\n",
    "X_test = np.reshape(X_test, (X_test.shape[0], X_test.shape[1], 1))"
   ]
  },
  {
   "cell_type": "code",
   "execution_count": 35,
   "metadata": {
    "tags": []
   },
   "outputs": [
    {
     "output_type": "stream",
     "name": "stdout",
     "text": "_loss: 1.8660e-04 - val_mean_absolute_error: 0.0093\nEpoch 87/200\n54/54 [==============================] - 2s 31ms/step - loss: 9.0796e-04 - mean_absolute_error: 0.0208 - val_loss: 3.0888e-04 - val_mean_absolute_error: 0.0147\nEpoch 88/200\n54/54 [==============================] - 2s 32ms/step - loss: 8.8931e-04 - mean_absolute_error: 0.0207 - val_loss: 1.8847e-04 - val_mean_absolute_error: 0.0098\nEpoch 89/200\n54/54 [==============================] - 2s 31ms/step - loss: 8.6958e-04 - mean_absolute_error: 0.0199 - val_loss: 2.8053e-04 - val_mean_absolute_error: 0.0116\nEpoch 90/200\n54/54 [==============================] - 2s 31ms/step - loss: 0.0011 - mean_absolute_error: 0.0227 - val_loss: 2.4025e-04 - val_mean_absolute_error: 0.0119\nEpoch 91/200\n54/54 [==============================] - 2s 31ms/step - loss: 9.4374e-04 - mean_absolute_error: 0.0209 - val_loss: 1.6754e-04 - val_mean_absolute_error: 0.0086\nEpoch 92/200\n54/54 [==============================] - 2s 32ms/step - loss: 7.7909e-04 - mean_absolute_error: 0.0186 - val_loss: 2.0507e-04 - val_mean_absolute_error: 0.0106\nEpoch 93/200\n54/54 [==============================] - 2s 32ms/step - loss: 7.8572e-04 - mean_absolute_error: 0.0189 - val_loss: 1.8611e-04 - val_mean_absolute_error: 0.0095\nEpoch 94/200\n54/54 [==============================] - 2s 31ms/step - loss: 9.6834e-04 - mean_absolute_error: 0.0205 - val_loss: 3.1506e-04 - val_mean_absolute_error: 0.0127\nEpoch 95/200\n54/54 [==============================] - 2s 32ms/step - loss: 8.6442e-04 - mean_absolute_error: 0.0202 - val_loss: 3.6974e-04 - val_mean_absolute_error: 0.0143\nEpoch 96/200\n54/54 [==============================] - 2s 31ms/step - loss: 8.1308e-04 - mean_absolute_error: 0.0191 - val_loss: 1.9182e-04 - val_mean_absolute_error: 0.0094\nEpoch 97/200\n54/54 [==============================] - 2s 31ms/step - loss: 8.1796e-04 - mean_absolute_error: 0.0193 - val_loss: 1.9879e-04 - val_mean_absolute_error: 0.0097\nEpoch 98/200\n54/54 [==============================] - 2s 32ms/step - loss: 8.9305e-04 - mean_absolute_error: 0.0204 - val_loss: 1.7872e-04 - val_mean_absolute_error: 0.0095\nEpoch 99/200\n54/54 [==============================] - 2s 31ms/step - loss: 8.6281e-04 - mean_absolute_error: 0.0193 - val_loss: 1.6397e-04 - val_mean_absolute_error: 0.0088\nEpoch 100/200\n54/54 [==============================] - 2s 31ms/step - loss: 8.4961e-04 - mean_absolute_error: 0.0198 - val_loss: 1.7232e-04 - val_mean_absolute_error: 0.0089\nEpoch 101/200\n54/54 [==============================] - 2s 32ms/step - loss: 7.7967e-04 - mean_absolute_error: 0.0190 - val_loss: 4.4790e-04 - val_mean_absolute_error: 0.0167\nEpoch 102/200\n54/54 [==============================] - 2s 31ms/step - loss: 8.8736e-04 - mean_absolute_error: 0.0196 - val_loss: 8.0502e-04 - val_mean_absolute_error: 0.0269\nEpoch 103/200\n54/54 [==============================] - 2s 31ms/step - loss: 8.5557e-04 - mean_absolute_error: 0.0200 - val_loss: 1.8694e-04 - val_mean_absolute_error: 0.0100\nEpoch 104/200\n54/54 [==============================] - 2s 32ms/step - loss: 8.3747e-04 - mean_absolute_error: 0.0193 - val_loss: 1.8967e-04 - val_mean_absolute_error: 0.0093\nEpoch 105/200\n54/54 [==============================] - 2s 31ms/step - loss: 9.3195e-04 - mean_absolute_error: 0.0210 - val_loss: 2.5644e-04 - val_mean_absolute_error: 0.0109\nEpoch 106/200\n54/54 [==============================] - 2s 31ms/step - loss: 8.5640e-04 - mean_absolute_error: 0.0196 - val_loss: 4.1894e-04 - val_mean_absolute_error: 0.0183\nEpoch 107/200\n54/54 [==============================] - 2s 31ms/step - loss: 8.1098e-04 - mean_absolute_error: 0.0190 - val_loss: 2.4960e-04 - val_mean_absolute_error: 0.0111\nEpoch 108/200\n54/54 [==============================] - 2s 31ms/step - loss: 8.4697e-04 - mean_absolute_error: 0.0197 - val_loss: 2.5368e-04 - val_mean_absolute_error: 0.0109\nEpoch 109/200\n54/54 [==============================] - 2s 30ms/step - loss: 9.4626e-04 - mean_absolute_error: 0.0200 - val_loss: 2.3526e-04 - val_mean_absolute_error: 0.0121\nEpoch 110/200\n54/54 [==============================] - 2s 30ms/step - loss: 9.2540e-04 - mean_absolute_error: 0.0204 - val_loss: 1.6738e-04 - val_mean_absolute_error: 0.0091\nEpoch 111/200\n54/54 [==============================] - 2s 31ms/step - loss: 7.8603e-04 - mean_absolute_error: 0.0187 - val_loss: 1.6990e-04 - val_mean_absolute_error: 0.0093\nEpoch 112/200\n54/54 [==============================] - 2s 30ms/step - loss: 7.3814e-04 - mean_absolute_error: 0.0183 - val_loss: 2.3115e-04 - val_mean_absolute_error: 0.0118\nEpoch 113/200\n54/54 [==============================] - 2s 30ms/step - loss: 7.9527e-04 - mean_absolute_error: 0.0187 - val_loss: 1.6793e-04 - val_mean_absolute_error: 0.0083\nEpoch 114/200\n54/54 [==============================] - 2s 31ms/step - loss: 7.5011e-04 - mean_absolute_error: 0.0183 - val_loss: 1.6812e-04 - val_mean_absolute_error: 0.0087\nEpoch 115/200\n54/54 [==============================] - 2s 30ms/step - loss: 7.8357e-04 - mean_absolute_error: 0.0186 - val_loss: 1.6057e-04 - val_mean_absolute_error: 0.0085\nEpoch 116/200\n54/54 [==============================] - 2s 31ms/step - loss: 7.3722e-04 - mean_absolute_error: 0.0182 - val_loss: 2.8727e-04 - val_mean_absolute_error: 0.0143\nEpoch 117/200\n54/54 [==============================] - 2s 32ms/step - loss: 7.9757e-04 - mean_absolute_error: 0.0187 - val_loss: 3.8737e-04 - val_mean_absolute_error: 0.0153\nEpoch 118/200\n54/54 [==============================] - 2s 30ms/step - loss: 9.0600e-04 - mean_absolute_error: 0.0198 - val_loss: 1.6088e-04 - val_mean_absolute_error: 0.0090\nEpoch 119/200\n54/54 [==============================] - 2s 30ms/step - loss: 8.0520e-04 - mean_absolute_error: 0.0191 - val_loss: 2.8403e-04 - val_mean_absolute_error: 0.0140\nEpoch 120/200\n54/54 [==============================] - 2s 32ms/step - loss: 7.5363e-04 - mean_absolute_error: 0.0183 - val_loss: 1.7628e-04 - val_mean_absolute_error: 0.0096\nEpoch 121/200\n54/54 [==============================] - 2s 30ms/step - loss: 9.1233e-04 - mean_absolute_error: 0.0204 - val_loss: 1.6863e-04 - val_mean_absolute_error: 0.0092\nEpoch 122/200\n54/54 [==============================] - 2s 30ms/step - loss: 8.6985e-04 - mean_absolute_error: 0.0193 - val_loss: 3.0323e-04 - val_mean_absolute_error: 0.0144\nEpoch 123/200\n54/54 [==============================] - 2s 32ms/step - loss: 7.0591e-04 - mean_absolute_error: 0.0179 - val_loss: 1.7940e-04 - val_mean_absolute_error: 0.0091\nEpoch 124/200\n54/54 [==============================] - 2s 30ms/step - loss: 7.8740e-04 - mean_absolute_error: 0.0182 - val_loss: 1.9290e-04 - val_mean_absolute_error: 0.0093\nEpoch 125/200\n54/54 [==============================] - 2s 30ms/step - loss: 8.3757e-04 - mean_absolute_error: 0.0190 - val_loss: 1.5919e-04 - val_mean_absolute_error: 0.0087\nEpoch 126/200\n54/54 [==============================] - 2s 31ms/step - loss: 8.3927e-04 - mean_absolute_error: 0.0191 - val_loss: 2.0053e-04 - val_mean_absolute_error: 0.0094\nEpoch 127/200\n54/54 [==============================] - 2s 31ms/step - loss: 7.7105e-04 - mean_absolute_error: 0.0189 - val_loss: 3.8255e-04 - val_mean_absolute_error: 0.0176\nEpoch 128/200\n54/54 [==============================] - 2s 30ms/step - loss: 9.2829e-04 - mean_absolute_error: 0.0204 - val_loss: 2.2205e-04 - val_mean_absolute_error: 0.0101\nEpoch 129/200\n54/54 [==============================] - 2s 30ms/step - loss: 7.7345e-04 - mean_absolute_error: 0.0188 - val_loss: 1.8398e-04 - val_mean_absolute_error: 0.0091\nEpoch 130/200\n54/54 [==============================] - 2s 31ms/step - loss: 7.7441e-04 - mean_absolute_error: 0.0186 - val_loss: 1.6864e-04 - val_mean_absolute_error: 0.0092\nEpoch 131/200\n54/54 [==============================] - 2s 30ms/step - loss: 8.3258e-04 - mean_absolute_error: 0.0190 - val_loss: 1.7944e-04 - val_mean_absolute_error: 0.0088\nEpoch 132/200\n54/54 [==============================] - 2s 30ms/step - loss: 7.5419e-04 - mean_absolute_error: 0.0186 - val_loss: 3.0686e-04 - val_mean_absolute_error: 0.0129\nEpoch 133/200\n54/54 [==============================] - 2s 31ms/step - loss: 7.5100e-04 - mean_absolute_error: 0.0188 - val_loss: 1.7845e-04 - val_mean_absolute_error: 0.0097\nEpoch 134/200\n54/54 [==============================] - 2s 30ms/step - loss: 6.6590e-04 - mean_absolute_error: 0.0174 - val_loss: 1.8980e-04 - val_mean_absolute_error: 0.0103\nEpoch 135/200\n54/54 [==============================] - 2s 30ms/step - loss: 7.0912e-04 - mean_absolute_error: 0.0181 - val_loss: 3.1513e-04 - val_mean_absolute_error: 0.0130\nEpoch 136/200\n53/54 [============================>.] - ETA: 0s - loss: 8.1178e-04 - mean_absolute_error: 0.01854/54 [==============================] - 2s 31ms/step - loss: 8.0587e-04 - mean_absolute_error: 0.0186 - val_loss: 1.5465e-04 - val_mean_absolute_error: 0.0085\nEpoch 137/200\n54/54 [==============================] - 2s 30ms/step - loss: 7.8718e-04 - mean_absolute_error: 0.0188 - val_loss: 2.2530e-04 - val_mean_absolute_error: 0.0121\nEpoch 138/200\n54/54 [==============================] - 2s 30ms/step - loss: 7.7026e-04 - mean_absolute_error: 0.0183 - val_loss: 1.6494e-04 - val_mean_absolute_error: 0.0092\nEpoch 139/200\n54/54 [==============================] - 2s 31ms/step - loss: 7.7197e-04 - mean_absolute_error: 0.0187 - val_loss: 1.7164e-04 - val_mean_absolute_error: 0.0094\nEpoch 140/200\n54/54 [==============================] - 2s 30ms/step - loss: 7.3987e-04 - mean_absolute_error: 0.0182 - val_loss: 2.6707e-04 - val_mean_absolute_error: 0.0138\nEpoch 141/200\n54/54 [==============================] - 2s 30ms/step - loss: 7.3573e-04 - mean_absolute_error: 0.0182 - val_loss: 2.1811e-04 - val_mean_absolute_error: 0.0102\nEpoch 142/200\n54/54 [==============================] - 2s 30ms/step - loss: 8.6268e-04 - mean_absolute_error: 0.0195 - val_loss: 2.2165e-04 - val_mean_absolute_error: 0.0103\nEpoch 143/200\n54/54 [==============================] - 2s 31ms/step - loss: 8.0099e-04 - mean_absolute_error: 0.0192 - val_loss: 1.7367e-04 - val_mean_absolute_error: 0.0098\nEpoch 144/200\n54/54 [==============================] - 2s 30ms/step - loss: 7.3980e-04 - mean_absolute_error: 0.0183 - val_loss: 2.6034e-04 - val_mean_absolute_error: 0.0115\nEpoch 145/200\n54/54 [==============================] - 2s 31ms/step - loss: 8.3110e-04 - mean_absolute_error: 0.0191 - val_loss: 1.9384e-04 - val_mean_absolute_error: 0.0097\nEpoch 146/200\n54/54 [==============================] - 2s 31ms/step - loss: 8.3031e-04 - mean_absolute_error: 0.0196 - val_loss: 2.1853e-04 - val_mean_absolute_error: 0.0112\nEpoch 147/200\n54/54 [==============================] - 2s 30ms/step - loss: 7.6745e-04 - mean_absolute_error: 0.0184 - val_loss: 2.1104e-04 - val_mean_absolute_error: 0.0100\nEpoch 148/200\n54/54 [==============================] - 2s 30ms/step - loss: 7.8149e-04 - mean_absolute_error: 0.0183 - val_loss: 1.9562e-04 - val_mean_absolute_error: 0.0094\nEpoch 149/200\n54/54 [==============================] - 2s 31ms/step - loss: 7.5279e-04 - mean_absolute_error: 0.0185 - val_loss: 1.7619e-04 - val_mean_absolute_error: 0.0088\nEpoch 150/200\n54/54 [==============================] - 2s 30ms/step - loss: 7.8170e-04 - mean_absolute_error: 0.0185 - val_loss: 1.7892e-04 - val_mean_absolute_error: 0.0100\nEpoch 151/200\n54/54 [==============================] - 2s 30ms/step - loss: 7.3060e-04 - mean_absolute_error: 0.0180 - val_loss: 1.9994e-04 - val_mean_absolute_error: 0.0107\nEpoch 152/200\n54/54 [==============================] - 2s 32ms/step - loss: 6.7316e-04 - mean_absolute_error: 0.0175 - val_loss: 1.7385e-04 - val_mean_absolute_error: 0.0090\nEpoch 153/200\n54/54 [==============================] - 2s 31ms/step - loss: 7.5405e-04 - mean_absolute_error: 0.0181 - val_loss: 4.4000e-04 - val_mean_absolute_error: 0.0188\nEpoch 154/200\n54/54 [==============================] - 2s 31ms/step - loss: 8.4495e-04 - mean_absolute_error: 0.0192 - val_loss: 2.9632e-04 - val_mean_absolute_error: 0.0125\nEpoch 155/200\n54/54 [==============================] - 2s 31ms/step - loss: 6.8805e-04 - mean_absolute_error: 0.0176 - val_loss: 1.7543e-04 - val_mean_absolute_error: 0.0088\nEpoch 156/200\n54/54 [==============================] - 2s 31ms/step - loss: 7.9927e-04 - mean_absolute_error: 0.0183 - val_loss: 1.6618e-04 - val_mean_absolute_error: 0.0088\nEpoch 157/200\n54/54 [==============================] - 2s 31ms/step - loss: 7.6905e-04 - mean_absolute_error: 0.0182 - val_loss: 1.6509e-04 - val_mean_absolute_error: 0.0086\nEpoch 158/200\n54/54 [==============================] - 2s 31ms/step - loss: 7.6585e-04 - mean_absolute_error: 0.0187 - val_loss: 2.3004e-04 - val_mean_absolute_error: 0.0120\nEpoch 159/200\n54/54 [==============================] - 2s 32ms/step - loss: 7.3164e-04 - mean_absolute_error: 0.0181 - val_loss: 1.6762e-04 - val_mean_absolute_error: 0.0094\nEpoch 160/200\n54/54 [==============================] - 2s 31ms/step - loss: 8.3448e-04 - mean_absolute_error: 0.0196 - val_loss: 2.8082e-04 - val_mean_absolute_error: 0.0118\nEpoch 161/200\n54/54 [==============================] - 2s 31ms/step - loss: 7.5038e-04 - mean_absolute_error: 0.0183 - val_loss: 1.7783e-04 - val_mean_absolute_error: 0.0097\nEpoch 162/200\n54/54 [==============================] - 2s 32ms/step - loss: 7.1135e-04 - mean_absolute_error: 0.0181 - val_loss: 1.8199e-04 - val_mean_absolute_error: 0.0098\nEpoch 163/200\n54/54 [==============================] - 2s 31ms/step - loss: 7.4137e-04 - mean_absolute_error: 0.0182 - val_loss: 1.6700e-04 - val_mean_absolute_error: 0.0091\nEpoch 164/200\n54/54 [==============================] - 2s 31ms/step - loss: 7.0992e-04 - mean_absolute_error: 0.0175 - val_loss: 1.6212e-04 - val_mean_absolute_error: 0.0083\nEpoch 165/200\n54/54 [==============================] - 2s 32ms/step - loss: 7.1467e-04 - mean_absolute_error: 0.0175 - val_loss: 2.8800e-04 - val_mean_absolute_error: 0.0142\nEpoch 166/200\n54/54 [==============================] - 2s 31ms/step - loss: 7.0595e-04 - mean_absolute_error: 0.0179 - val_loss: 1.7551e-04 - val_mean_absolute_error: 0.0095\nEpoch 167/200\n54/54 [==============================] - 2s 31ms/step - loss: 6.5287e-04 - mean_absolute_error: 0.0169 - val_loss: 1.6771e-04 - val_mean_absolute_error: 0.0085\nEpoch 168/200\n54/54 [==============================] - 2s 32ms/step - loss: 7.2506e-04 - mean_absolute_error: 0.0181 - val_loss: 2.5855e-04 - val_mean_absolute_error: 0.0134\nEpoch 169/200\n54/54 [==============================] - 2s 31ms/step - loss: 8.0838e-04 - mean_absolute_error: 0.0185 - val_loss: 3.0819e-04 - val_mean_absolute_error: 0.0129\nEpoch 170/200\n54/54 [==============================] - 2s 31ms/step - loss: 7.6748e-04 - mean_absolute_error: 0.0183 - val_loss: 1.7590e-04 - val_mean_absolute_error: 0.0096\nEpoch 171/200\n54/54 [==============================] - 2s 32ms/step - loss: 7.0231e-04 - mean_absolute_error: 0.0175 - val_loss: 1.9954e-04 - val_mean_absolute_error: 0.0093\nEpoch 172/200\n54/54 [==============================] - 2s 31ms/step - loss: 7.7466e-04 - mean_absolute_error: 0.0185 - val_loss: 2.0338e-04 - val_mean_absolute_error: 0.0097\nEpoch 173/200\n54/54 [==============================] - 2s 31ms/step - loss: 7.6409e-04 - mean_absolute_error: 0.0192 - val_loss: 1.5855e-04 - val_mean_absolute_error: 0.0088\nEpoch 174/200\n54/54 [==============================] - 2s 33ms/step - loss: 7.0467e-04 - mean_absolute_error: 0.0177 - val_loss: 1.5499e-04 - val_mean_absolute_error: 0.0087\nEpoch 175/200\n54/54 [==============================] - 2s 31ms/step - loss: 6.8665e-04 - mean_absolute_error: 0.0172 - val_loss: 2.5039e-04 - val_mean_absolute_error: 0.0129\nEpoch 176/200\n54/54 [==============================] - 2s 31ms/step - loss: 6.7343e-04 - mean_absolute_error: 0.0177 - val_loss: 1.5352e-04 - val_mean_absolute_error: 0.0084\nEpoch 177/200\n54/54 [==============================] - 2s 30ms/step - loss: 6.7225e-04 - mean_absolute_error: 0.0168 - val_loss: 2.0131e-04 - val_mean_absolute_error: 0.0096\nEpoch 178/200\n54/54 [==============================] - 2s 31ms/step - loss: 7.4957e-04 - mean_absolute_error: 0.0182 - val_loss: 2.1296e-04 - val_mean_absolute_error: 0.0116\nEpoch 179/200\n54/54 [==============================] - 2s 31ms/step - loss: 6.9358e-04 - mean_absolute_error: 0.0180 - val_loss: 2.3432e-04 - val_mean_absolute_error: 0.0125\nEpoch 180/200\n54/54 [==============================] - 2s 30ms/step - loss: 6.9965e-04 - mean_absolute_error: 0.0178 - val_loss: 3.0496e-04 - val_mean_absolute_error: 0.0144\nEpoch 181/200\n54/54 [==============================] - 2s 32ms/step - loss: 8.5480e-04 - mean_absolute_error: 0.0195 - val_loss: 1.8862e-04 - val_mean_absolute_error: 0.0091\nEpoch 182/200\n54/54 [==============================] - 2s 30ms/step - loss: 7.5851e-04 - mean_absolute_error: 0.0189 - val_loss: 1.6416e-04 - val_mean_absolute_error: 0.0090\nEpoch 183/200\n54/54 [==============================] - 2s 30ms/step - loss: 7.5157e-04 - mean_absolute_error: 0.0181 - val_loss: 2.2233e-04 - val_mean_absolute_error: 0.0100\nEpoch 184/200\n54/54 [==============================] - 2s 32ms/step - loss: 8.2518e-04 - mean_absolute_error: 0.0193 - val_loss: 2.1191e-04 - val_mean_absolute_error: 0.0117\nEpoch 185/200\n54/54 [==============================] - 2s 30ms/step - loss: 6.5054e-04 - mean_absolute_error: 0.0169 - val_loss: 1.6027e-04 - val_mean_absolute_error: 0.0084\nEpoch 186/200\n54/54 [==============================] - 2s 30ms/step - loss: 7.0022e-04 - mean_absolute_error: 0.0174 - val_loss: 1.9576e-04 - val_mean_absolute_error: 0.0108\nEpoch 187/200\n54/54 [==============================] - 2s 32ms/step - loss: 8.4709e-04 - mean_absolute_error: 0.0201 - val_loss: 4.9004e-04 - val_mean_absolute_error: 0.0185\nEpoch 188/200\n54/54 [==============================] - 2s 31ms/step - loss: 7.2383e-04 - mean_absolute_error: 0.0182 - val_loss: 1.7663e-04 - val_mean_absolute_error: 0.0089\nEpoch 189/200\n54/54 [==============================] - 2s 30ms/step - loss: 7.0373e-04 - mean_absolute_error: 0.0179 - val_loss: 1.6101e-04 - val_mean_absolute_error: 0.0086\nEpoch 190/200\n54/54 [==============================] - 2s 30ms/step - loss: 7.0301e-04 - mean_absolute_error: 0.0176 - val_loss: 1.7228e-04 - val_mean_absolute_error: 0.0096\nEpoch 191/200\n54/54 [==============================] - 2s 30ms/step - loss: 7.5810e-04 - mean_absolute_error: 0.0186 - val_loss: 2.1689e-04 - val_mean_absolute_error: 0.0100\nEpoch 192/200\n54/54 [==============================] - 2s 30ms/step - loss: 7.4433e-04 - mean_absolute_error: 0.0181 - val_loss: 1.6263e-04 - val_mean_absolute_error: 0.0090\nEpoch 193/200\n54/54 [==============================] - 2s 30ms/step - loss: 8.1207e-04 - mean_absolute_error: 0.0188 - val_loss: 1.5366e-04 - val_mean_absolute_error: 0.0086\nEpoch 194/200\n54/54 [==============================] - 2s 31ms/step - loss: 7.4989e-04 - mean_absolute_error: 0.0183 - val_loss: 1.6064e-04 - val_mean_absolute_error: 0.0090\nEpoch 195/200\n54/54 [==============================] - 2s 30ms/step - loss: 8.1201e-04 - mean_absolute_error: 0.0189 - val_loss: 1.6148e-04 - val_mean_absolute_error: 0.0087\nEpoch 196/200\n54/54 [==============================] - 2s 30ms/step - loss: 8.0637e-04 - mean_absolute_error: 0.0192 - val_loss: 1.7264e-04 - val_mean_absolute_error: 0.0089\nEpoch 197/200\n54/54 [==============================] - 2s 31ms/step - loss: 6.2915e-04 - mean_absolute_error: 0.0168 - val_loss: 1.5292e-04 - val_mean_absolute_error: 0.0084\nEpoch 198/200\n54/54 [==============================] - 2s 30ms/step - loss: 7.4027e-04 - mean_absolute_error: 0.0181 - val_loss: 3.9014e-04 - val_mean_absolute_error: 0.0157\nEpoch 199/200\n54/54 [==============================] - 2s 30ms/step - loss: 7.6513e-04 - mean_absolute_error: 0.0186 - val_loss: 2.1683e-04 - val_mean_absolute_error: 0.0101\nEpoch 200/200\n54/54 [==============================] - 2s 31ms/step - loss: 7.0788e-04 - mean_absolute_error: 0.0176 - val_loss: 3.2990e-04 - val_mean_absolute_error: 0.0157\n"
    }
   ],
   "source": [
    "model = Sequential()\n",
    "\n",
    "model.add(LSTM(50, return_sequences=True, input_shape=(X_train.shape[1], 1)))\n",
    "model.add(Dropout(0.2))\n",
    "\n",
    "model.add(LSTM(50, return_sequences=True))\n",
    "model.add(Dropout(0.2))\n",
    "\n",
    "model.add(LSTM(50, return_sequences=True))\n",
    "model.add(Dropout(0.2))\n",
    "\n",
    "model.add(LSTM(50))\n",
    "model.add(Dropout(0.2))\n",
    "\n",
    "model.add(Dense(1, activation='relu'))\n",
    "\n",
    "model.compile(optimizer = 'adam', loss = 'mean_squared_error', metrics=['mean_absolute_error'])\n",
    "\n",
    "early_stopping = EarlyStopping(monitor='val_loss', patience=5)\n",
    "\n",
    "nn = model.fit(X_train, y_train, validation_data=(X_test, y_test), epochs = 200, batch_size = 32)"
   ]
  },
  {
   "cell_type": "code",
   "execution_count": 36,
   "metadata": {},
   "outputs": [
    {
     "output_type": "execute_result",
     "data": {
      "text/plain": "[<matplotlib.lines.Line2D at 0x13e942cdc48>]"
     },
     "metadata": {},
     "execution_count": 36
    },
    {
     "output_type": "display_data",
     "data": {
      "text/plain": "<Figure size 432x288 with 1 Axes>",
      "image/svg+xml": "<?xml version=\"1.0\" encoding=\"utf-8\" standalone=\"no\"?>\r\n<!DOCTYPE svg PUBLIC \"-//W3C//DTD SVG 1.1//EN\"\r\n  \"http://www.w3.org/Graphics/SVG/1.1/DTD/svg11.dtd\">\r\n<!-- Created with matplotlib (https://matplotlib.org/) -->\r\n<svg height=\"248.518125pt\" version=\"1.1\" viewBox=\"0 0 391.190625 248.518125\" width=\"391.190625pt\" xmlns=\"http://www.w3.org/2000/svg\" xmlns:xlink=\"http://www.w3.org/1999/xlink\">\r\n <defs>\r\n  <style type=\"text/css\">\r\n*{stroke-linecap:butt;stroke-linejoin:round;}\r\n  </style>\r\n </defs>\r\n <g id=\"figure_1\">\r\n  <g id=\"patch_1\">\r\n   <path d=\"M 0 248.518125 \r\nL 391.190625 248.518125 \r\nL 391.190625 0 \r\nL 0 0 \r\nz\r\n\" style=\"fill:none;\"/>\r\n  </g>\r\n  <g id=\"axes_1\">\r\n   <g id=\"patch_2\">\r\n    <path d=\"M 49.190625 224.64 \r\nL 383.990625 224.64 \r\nL 383.990625 7.2 \r\nL 49.190625 7.2 \r\nz\r\n\" style=\"fill:#ffffff;\"/>\r\n   </g>\r\n   <g id=\"matplotlib.axis_1\">\r\n    <g id=\"xtick_1\">\r\n     <g id=\"line2d_1\">\r\n      <defs>\r\n       <path d=\"M 0 0 \r\nL 0 3.5 \r\n\" id=\"m39f7a36101\" style=\"stroke:#000000;stroke-width:0.8;\"/>\r\n      </defs>\r\n      <g>\r\n       <use style=\"stroke:#000000;stroke-width:0.8;\" x=\"64.408807\" xlink:href=\"#m39f7a36101\" y=\"224.64\"/>\r\n      </g>\r\n     </g>\r\n     <g id=\"text_1\">\r\n      <!-- 0 -->\r\n      <defs>\r\n       <path d=\"M 31.78125 66.40625 \r\nQ 24.171875 66.40625 20.328125 58.90625 \r\nQ 16.5 51.421875 16.5 36.375 \r\nQ 16.5 21.390625 20.328125 13.890625 \r\nQ 24.171875 6.390625 31.78125 6.390625 \r\nQ 39.453125 6.390625 43.28125 13.890625 \r\nQ 47.125 21.390625 47.125 36.375 \r\nQ 47.125 51.421875 43.28125 58.90625 \r\nQ 39.453125 66.40625 31.78125 66.40625 \r\nz\r\nM 31.78125 74.21875 \r\nQ 44.046875 74.21875 50.515625 64.515625 \r\nQ 56.984375 54.828125 56.984375 36.375 \r\nQ 56.984375 17.96875 50.515625 8.265625 \r\nQ 44.046875 -1.421875 31.78125 -1.421875 \r\nQ 19.53125 -1.421875 13.0625 8.265625 \r\nQ 6.59375 17.96875 6.59375 36.375 \r\nQ 6.59375 54.828125 13.0625 64.515625 \r\nQ 19.53125 74.21875 31.78125 74.21875 \r\nz\r\n\" id=\"DejaVuSans-48\"/>\r\n      </defs>\r\n      <g transform=\"translate(61.227557 239.238437)scale(0.1 -0.1)\">\r\n       <use xlink:href=\"#DejaVuSans-48\"/>\r\n      </g>\r\n     </g>\r\n    </g>\r\n    <g id=\"xtick_2\">\r\n     <g id=\"line2d_2\">\r\n      <g>\r\n       <use style=\"stroke:#000000;stroke-width:0.8;\" x=\"102.645445\" xlink:href=\"#m39f7a36101\" y=\"224.64\"/>\r\n      </g>\r\n     </g>\r\n     <g id=\"text_2\">\r\n      <!-- 25 -->\r\n      <defs>\r\n       <path d=\"M 19.1875 8.296875 \r\nL 53.609375 8.296875 \r\nL 53.609375 0 \r\nL 7.328125 0 \r\nL 7.328125 8.296875 \r\nQ 12.9375 14.109375 22.625 23.890625 \r\nQ 32.328125 33.6875 34.8125 36.53125 \r\nQ 39.546875 41.84375 41.421875 45.53125 \r\nQ 43.3125 49.21875 43.3125 52.78125 \r\nQ 43.3125 58.59375 39.234375 62.25 \r\nQ 35.15625 65.921875 28.609375 65.921875 \r\nQ 23.96875 65.921875 18.8125 64.3125 \r\nQ 13.671875 62.703125 7.8125 59.421875 \r\nL 7.8125 69.390625 \r\nQ 13.765625 71.78125 18.9375 73 \r\nQ 24.125 74.21875 28.421875 74.21875 \r\nQ 39.75 74.21875 46.484375 68.546875 \r\nQ 53.21875 62.890625 53.21875 53.421875 \r\nQ 53.21875 48.921875 51.53125 44.890625 \r\nQ 49.859375 40.875 45.40625 35.40625 \r\nQ 44.1875 33.984375 37.640625 27.21875 \r\nQ 31.109375 20.453125 19.1875 8.296875 \r\nz\r\n\" id=\"DejaVuSans-50\"/>\r\n       <path d=\"M 10.796875 72.90625 \r\nL 49.515625 72.90625 \r\nL 49.515625 64.59375 \r\nL 19.828125 64.59375 \r\nL 19.828125 46.734375 \r\nQ 21.96875 47.46875 24.109375 47.828125 \r\nQ 26.265625 48.1875 28.421875 48.1875 \r\nQ 40.625 48.1875 47.75 41.5 \r\nQ 54.890625 34.8125 54.890625 23.390625 \r\nQ 54.890625 11.625 47.5625 5.09375 \r\nQ 40.234375 -1.421875 26.90625 -1.421875 \r\nQ 22.3125 -1.421875 17.546875 -0.640625 \r\nQ 12.796875 0.140625 7.71875 1.703125 \r\nL 7.71875 11.625 \r\nQ 12.109375 9.234375 16.796875 8.0625 \r\nQ 21.484375 6.890625 26.703125 6.890625 \r\nQ 35.15625 6.890625 40.078125 11.328125 \r\nQ 45.015625 15.765625 45.015625 23.390625 \r\nQ 45.015625 31 40.078125 35.4375 \r\nQ 35.15625 39.890625 26.703125 39.890625 \r\nQ 22.75 39.890625 18.8125 39.015625 \r\nQ 14.890625 38.140625 10.796875 36.28125 \r\nz\r\n\" id=\"DejaVuSans-53\"/>\r\n      </defs>\r\n      <g transform=\"translate(96.282945 239.238437)scale(0.1 -0.1)\">\r\n       <use xlink:href=\"#DejaVuSans-50\"/>\r\n       <use x=\"63.623047\" xlink:href=\"#DejaVuSans-53\"/>\r\n      </g>\r\n     </g>\r\n    </g>\r\n    <g id=\"xtick_3\">\r\n     <g id=\"line2d_3\">\r\n      <g>\r\n       <use style=\"stroke:#000000;stroke-width:0.8;\" x=\"140.882082\" xlink:href=\"#m39f7a36101\" y=\"224.64\"/>\r\n      </g>\r\n     </g>\r\n     <g id=\"text_3\">\r\n      <!-- 50 -->\r\n      <g transform=\"translate(134.519582 239.238437)scale(0.1 -0.1)\">\r\n       <use xlink:href=\"#DejaVuSans-53\"/>\r\n       <use x=\"63.623047\" xlink:href=\"#DejaVuSans-48\"/>\r\n      </g>\r\n     </g>\r\n    </g>\r\n    <g id=\"xtick_4\">\r\n     <g id=\"line2d_4\">\r\n      <g>\r\n       <use style=\"stroke:#000000;stroke-width:0.8;\" x=\"179.11872\" xlink:href=\"#m39f7a36101\" y=\"224.64\"/>\r\n      </g>\r\n     </g>\r\n     <g id=\"text_4\">\r\n      <!-- 75 -->\r\n      <defs>\r\n       <path d=\"M 8.203125 72.90625 \r\nL 55.078125 72.90625 \r\nL 55.078125 68.703125 \r\nL 28.609375 0 \r\nL 18.3125 0 \r\nL 43.21875 64.59375 \r\nL 8.203125 64.59375 \r\nz\r\n\" id=\"DejaVuSans-55\"/>\r\n      </defs>\r\n      <g transform=\"translate(172.75622 239.238437)scale(0.1 -0.1)\">\r\n       <use xlink:href=\"#DejaVuSans-55\"/>\r\n       <use x=\"63.623047\" xlink:href=\"#DejaVuSans-53\"/>\r\n      </g>\r\n     </g>\r\n    </g>\r\n    <g id=\"xtick_5\">\r\n     <g id=\"line2d_5\">\r\n      <g>\r\n       <use style=\"stroke:#000000;stroke-width:0.8;\" x=\"217.355358\" xlink:href=\"#m39f7a36101\" y=\"224.64\"/>\r\n      </g>\r\n     </g>\r\n     <g id=\"text_5\">\r\n      <!-- 100 -->\r\n      <defs>\r\n       <path d=\"M 12.40625 8.296875 \r\nL 28.515625 8.296875 \r\nL 28.515625 63.921875 \r\nL 10.984375 60.40625 \r\nL 10.984375 69.390625 \r\nL 28.421875 72.90625 \r\nL 38.28125 72.90625 \r\nL 38.28125 8.296875 \r\nL 54.390625 8.296875 \r\nL 54.390625 0 \r\nL 12.40625 0 \r\nz\r\n\" id=\"DejaVuSans-49\"/>\r\n      </defs>\r\n      <g transform=\"translate(207.811608 239.238437)scale(0.1 -0.1)\">\r\n       <use xlink:href=\"#DejaVuSans-49\"/>\r\n       <use x=\"63.623047\" xlink:href=\"#DejaVuSans-48\"/>\r\n       <use x=\"127.246094\" xlink:href=\"#DejaVuSans-48\"/>\r\n      </g>\r\n     </g>\r\n    </g>\r\n    <g id=\"xtick_6\">\r\n     <g id=\"line2d_6\">\r\n      <g>\r\n       <use style=\"stroke:#000000;stroke-width:0.8;\" x=\"255.591995\" xlink:href=\"#m39f7a36101\" y=\"224.64\"/>\r\n      </g>\r\n     </g>\r\n     <g id=\"text_6\">\r\n      <!-- 125 -->\r\n      <g transform=\"translate(246.048245 239.238437)scale(0.1 -0.1)\">\r\n       <use xlink:href=\"#DejaVuSans-49\"/>\r\n       <use x=\"63.623047\" xlink:href=\"#DejaVuSans-50\"/>\r\n       <use x=\"127.246094\" xlink:href=\"#DejaVuSans-53\"/>\r\n      </g>\r\n     </g>\r\n    </g>\r\n    <g id=\"xtick_7\">\r\n     <g id=\"line2d_7\">\r\n      <g>\r\n       <use style=\"stroke:#000000;stroke-width:0.8;\" x=\"293.828633\" xlink:href=\"#m39f7a36101\" y=\"224.64\"/>\r\n      </g>\r\n     </g>\r\n     <g id=\"text_7\">\r\n      <!-- 150 -->\r\n      <g transform=\"translate(284.284883 239.238437)scale(0.1 -0.1)\">\r\n       <use xlink:href=\"#DejaVuSans-49\"/>\r\n       <use x=\"63.623047\" xlink:href=\"#DejaVuSans-53\"/>\r\n       <use x=\"127.246094\" xlink:href=\"#DejaVuSans-48\"/>\r\n      </g>\r\n     </g>\r\n    </g>\r\n    <g id=\"xtick_8\">\r\n     <g id=\"line2d_8\">\r\n      <g>\r\n       <use style=\"stroke:#000000;stroke-width:0.8;\" x=\"332.065271\" xlink:href=\"#m39f7a36101\" y=\"224.64\"/>\r\n      </g>\r\n     </g>\r\n     <g id=\"text_8\">\r\n      <!-- 175 -->\r\n      <g transform=\"translate(322.521521 239.238437)scale(0.1 -0.1)\">\r\n       <use xlink:href=\"#DejaVuSans-49\"/>\r\n       <use x=\"63.623047\" xlink:href=\"#DejaVuSans-55\"/>\r\n       <use x=\"127.246094\" xlink:href=\"#DejaVuSans-53\"/>\r\n      </g>\r\n     </g>\r\n    </g>\r\n    <g id=\"xtick_9\">\r\n     <g id=\"line2d_9\">\r\n      <g>\r\n       <use style=\"stroke:#000000;stroke-width:0.8;\" x=\"370.301909\" xlink:href=\"#m39f7a36101\" y=\"224.64\"/>\r\n      </g>\r\n     </g>\r\n     <g id=\"text_9\">\r\n      <!-- 200 -->\r\n      <g transform=\"translate(360.758159 239.238437)scale(0.1 -0.1)\">\r\n       <use xlink:href=\"#DejaVuSans-50\"/>\r\n       <use x=\"63.623047\" xlink:href=\"#DejaVuSans-48\"/>\r\n       <use x=\"127.246094\" xlink:href=\"#DejaVuSans-48\"/>\r\n      </g>\r\n     </g>\r\n    </g>\r\n   </g>\r\n   <g id=\"matplotlib.axis_2\">\r\n    <g id=\"ytick_1\">\r\n     <g id=\"line2d_10\">\r\n      <defs>\r\n       <path d=\"M 0 0 \r\nL -3.5 0 \r\n\" id=\"m603902fc65\" style=\"stroke:#000000;stroke-width:0.8;\"/>\r\n      </defs>\r\n      <g>\r\n       <use style=\"stroke:#000000;stroke-width:0.8;\" x=\"49.190625\" xlink:href=\"#m603902fc65\" y=\"216.396111\"/>\r\n      </g>\r\n     </g>\r\n     <g id=\"text_10\">\r\n      <!-- 0.0000 -->\r\n      <defs>\r\n       <path d=\"M 10.6875 12.40625 \r\nL 21 12.40625 \r\nL 21 0 \r\nL 10.6875 0 \r\nz\r\n\" id=\"DejaVuSans-46\"/>\r\n      </defs>\r\n      <g transform=\"translate(7.2 220.195329)scale(0.1 -0.1)\">\r\n       <use xlink:href=\"#DejaVuSans-48\"/>\r\n       <use x=\"63.623047\" xlink:href=\"#DejaVuSans-46\"/>\r\n       <use x=\"95.410156\" xlink:href=\"#DejaVuSans-48\"/>\r\n       <use x=\"159.033203\" xlink:href=\"#DejaVuSans-48\"/>\r\n       <use x=\"222.65625\" xlink:href=\"#DejaVuSans-48\"/>\r\n       <use x=\"286.279297\" xlink:href=\"#DejaVuSans-48\"/>\r\n      </g>\r\n     </g>\r\n    </g>\r\n    <g id=\"ytick_2\">\r\n     <g id=\"line2d_11\">\r\n      <g>\r\n       <use style=\"stroke:#000000;stroke-width:0.8;\" x=\"49.190625\" xlink:href=\"#m603902fc65\" y=\"189.588139\"/>\r\n      </g>\r\n     </g>\r\n     <g id=\"text_11\">\r\n      <!-- 0.0025 -->\r\n      <g transform=\"translate(7.2 193.387358)scale(0.1 -0.1)\">\r\n       <use xlink:href=\"#DejaVuSans-48\"/>\r\n       <use x=\"63.623047\" xlink:href=\"#DejaVuSans-46\"/>\r\n       <use x=\"95.410156\" xlink:href=\"#DejaVuSans-48\"/>\r\n       <use x=\"159.033203\" xlink:href=\"#DejaVuSans-48\"/>\r\n       <use x=\"222.65625\" xlink:href=\"#DejaVuSans-50\"/>\r\n       <use x=\"286.279297\" xlink:href=\"#DejaVuSans-53\"/>\r\n      </g>\r\n     </g>\r\n    </g>\r\n    <g id=\"ytick_3\">\r\n     <g id=\"line2d_12\">\r\n      <g>\r\n       <use style=\"stroke:#000000;stroke-width:0.8;\" x=\"49.190625\" xlink:href=\"#m603902fc65\" y=\"162.780167\"/>\r\n      </g>\r\n     </g>\r\n     <g id=\"text_12\">\r\n      <!-- 0.0050 -->\r\n      <g transform=\"translate(7.2 166.579386)scale(0.1 -0.1)\">\r\n       <use xlink:href=\"#DejaVuSans-48\"/>\r\n       <use x=\"63.623047\" xlink:href=\"#DejaVuSans-46\"/>\r\n       <use x=\"95.410156\" xlink:href=\"#DejaVuSans-48\"/>\r\n       <use x=\"159.033203\" xlink:href=\"#DejaVuSans-48\"/>\r\n       <use x=\"222.65625\" xlink:href=\"#DejaVuSans-53\"/>\r\n       <use x=\"286.279297\" xlink:href=\"#DejaVuSans-48\"/>\r\n      </g>\r\n     </g>\r\n    </g>\r\n    <g id=\"ytick_4\">\r\n     <g id=\"line2d_13\">\r\n      <g>\r\n       <use style=\"stroke:#000000;stroke-width:0.8;\" x=\"49.190625\" xlink:href=\"#m603902fc65\" y=\"135.972196\"/>\r\n      </g>\r\n     </g>\r\n     <g id=\"text_13\">\r\n      <!-- 0.0075 -->\r\n      <g transform=\"translate(7.2 139.771414)scale(0.1 -0.1)\">\r\n       <use xlink:href=\"#DejaVuSans-48\"/>\r\n       <use x=\"63.623047\" xlink:href=\"#DejaVuSans-46\"/>\r\n       <use x=\"95.410156\" xlink:href=\"#DejaVuSans-48\"/>\r\n       <use x=\"159.033203\" xlink:href=\"#DejaVuSans-48\"/>\r\n       <use x=\"222.65625\" xlink:href=\"#DejaVuSans-55\"/>\r\n       <use x=\"286.279297\" xlink:href=\"#DejaVuSans-53\"/>\r\n      </g>\r\n     </g>\r\n    </g>\r\n    <g id=\"ytick_5\">\r\n     <g id=\"line2d_14\">\r\n      <g>\r\n       <use style=\"stroke:#000000;stroke-width:0.8;\" x=\"49.190625\" xlink:href=\"#m603902fc65\" y=\"109.164224\"/>\r\n      </g>\r\n     </g>\r\n     <g id=\"text_14\">\r\n      <!-- 0.0100 -->\r\n      <g transform=\"translate(7.2 112.963443)scale(0.1 -0.1)\">\r\n       <use xlink:href=\"#DejaVuSans-48\"/>\r\n       <use x=\"63.623047\" xlink:href=\"#DejaVuSans-46\"/>\r\n       <use x=\"95.410156\" xlink:href=\"#DejaVuSans-48\"/>\r\n       <use x=\"159.033203\" xlink:href=\"#DejaVuSans-49\"/>\r\n       <use x=\"222.65625\" xlink:href=\"#DejaVuSans-48\"/>\r\n       <use x=\"286.279297\" xlink:href=\"#DejaVuSans-48\"/>\r\n      </g>\r\n     </g>\r\n    </g>\r\n    <g id=\"ytick_6\">\r\n     <g id=\"line2d_15\">\r\n      <g>\r\n       <use style=\"stroke:#000000;stroke-width:0.8;\" x=\"49.190625\" xlink:href=\"#m603902fc65\" y=\"82.356252\"/>\r\n      </g>\r\n     </g>\r\n     <g id=\"text_15\">\r\n      <!-- 0.0125 -->\r\n      <g transform=\"translate(7.2 86.155471)scale(0.1 -0.1)\">\r\n       <use xlink:href=\"#DejaVuSans-48\"/>\r\n       <use x=\"63.623047\" xlink:href=\"#DejaVuSans-46\"/>\r\n       <use x=\"95.410156\" xlink:href=\"#DejaVuSans-48\"/>\r\n       <use x=\"159.033203\" xlink:href=\"#DejaVuSans-49\"/>\r\n       <use x=\"222.65625\" xlink:href=\"#DejaVuSans-50\"/>\r\n       <use x=\"286.279297\" xlink:href=\"#DejaVuSans-53\"/>\r\n      </g>\r\n     </g>\r\n    </g>\r\n    <g id=\"ytick_7\">\r\n     <g id=\"line2d_16\">\r\n      <g>\r\n       <use style=\"stroke:#000000;stroke-width:0.8;\" x=\"49.190625\" xlink:href=\"#m603902fc65\" y=\"55.548281\"/>\r\n      </g>\r\n     </g>\r\n     <g id=\"text_16\">\r\n      <!-- 0.0150 -->\r\n      <g transform=\"translate(7.2 59.347499)scale(0.1 -0.1)\">\r\n       <use xlink:href=\"#DejaVuSans-48\"/>\r\n       <use x=\"63.623047\" xlink:href=\"#DejaVuSans-46\"/>\r\n       <use x=\"95.410156\" xlink:href=\"#DejaVuSans-48\"/>\r\n       <use x=\"159.033203\" xlink:href=\"#DejaVuSans-49\"/>\r\n       <use x=\"222.65625\" xlink:href=\"#DejaVuSans-53\"/>\r\n       <use x=\"286.279297\" xlink:href=\"#DejaVuSans-48\"/>\r\n      </g>\r\n     </g>\r\n    </g>\r\n    <g id=\"ytick_8\">\r\n     <g id=\"line2d_17\">\r\n      <g>\r\n       <use style=\"stroke:#000000;stroke-width:0.8;\" x=\"49.190625\" xlink:href=\"#m603902fc65\" y=\"28.740309\"/>\r\n      </g>\r\n     </g>\r\n     <g id=\"text_17\">\r\n      <!-- 0.0175 -->\r\n      <g transform=\"translate(7.2 32.539528)scale(0.1 -0.1)\">\r\n       <use xlink:href=\"#DejaVuSans-48\"/>\r\n       <use x=\"63.623047\" xlink:href=\"#DejaVuSans-46\"/>\r\n       <use x=\"95.410156\" xlink:href=\"#DejaVuSans-48\"/>\r\n       <use x=\"159.033203\" xlink:href=\"#DejaVuSans-49\"/>\r\n       <use x=\"222.65625\" xlink:href=\"#DejaVuSans-55\"/>\r\n       <use x=\"286.279297\" xlink:href=\"#DejaVuSans-53\"/>\r\n      </g>\r\n     </g>\r\n    </g>\r\n   </g>\r\n   <g id=\"line2d_18\">\r\n    <path clip-path=\"url(#p8e48f080c7)\" d=\"M 64.408807 17.083636 \r\nL 65.938272 158.308852 \r\nL 67.467738 162.839445 \r\nL 68.997203 165.184278 \r\nL 70.526669 170.064138 \r\nL 72.056134 166.446868 \r\nL 73.5856 177.185498 \r\nL 75.115065 178.076955 \r\nL 76.644531 181.711821 \r\nL 78.173996 178.562698 \r\nL 79.703462 181.041346 \r\nL 81.232927 185.28512 \r\nL 82.762393 185.422228 \r\nL 84.291858 186.654285 \r\nL 85.821324 187.357599 \r\nL 87.350789 186.189936 \r\nL 88.880255 188.236805 \r\nL 90.40972 187.387724 \r\nL 91.939186 188.973388 \r\nL 93.468651 191.036323 \r\nL 94.998117 191.038133 \r\nL 96.527583 192.823818 \r\nL 98.057048 191.781529 \r\nL 99.586514 190.455376 \r\nL 101.115979 194.413059 \r\nL 102.645445 193.800103 \r\nL 104.17491 194.356697 \r\nL 105.704376 194.020615 \r\nL 107.233841 196.935643 \r\nL 108.763307 199.052152 \r\nL 110.292772 196.611848 \r\nL 111.822238 196.732756 \r\nL 113.351703 197.783731 \r\nL 114.881169 198.565961 \r\nL 116.410634 198.008033 \r\nL 117.9401 198.318365 \r\nL 119.469565 200.655909 \r\nL 120.999031 199.638509 \r\nL 122.528496 199.406444 \r\nL 124.057962 200.168237 \r\nL 127.116893 201.455413 \r\nL 128.646358 201.551537 \r\nL 130.175824 202.226319 \r\nL 131.705289 201.610501 \r\nL 133.234755 201.303118 \r\nL 134.76422 202.267639 \r\nL 136.293686 202.677577 \r\nL 137.823151 202.078554 \r\nL 139.352617 203.39406 \r\nL 140.882082 203.337247 \r\nL 143.941013 203.540236 \r\nL 145.470479 203.530016 \r\nL 146.999944 203.863957 \r\nL 148.52941 204.558118 \r\nL 150.058875 204.095774 \r\nL 151.588341 204.367293 \r\nL 153.117806 205.745108 \r\nL 154.647272 205.360632 \r\nL 156.176737 205.656024 \r\nL 157.706203 204.445666 \r\nL 159.235668 204.802689 \r\nL 160.765134 205.348634 \r\nL 162.294599 204.502969 \r\nL 163.824065 205.613237 \r\nL 165.35353 206.256752 \r\nL 166.882996 206.39392 \r\nL 168.412461 205.33274 \r\nL 169.941927 203.240802 \r\nL 171.471392 206.188564 \r\nL 173.000858 206.25217 \r\nL 174.530323 206.0741 \r\nL 176.059789 204.932407 \r\nL 177.589255 205.00996 \r\nL 179.11872 206.631625 \r\nL 180.648186 205.271377 \r\nL 182.177651 207.30982 \r\nL 183.707117 206.705562 \r\nL 185.236582 205.776319 \r\nL 186.766048 206.967967 \r\nL 188.295513 207.125317 \r\nL 189.824979 205.794941 \r\nL 192.88391 207.768266 \r\nL 194.413375 206.729514 \r\nL 195.942841 206.659906 \r\nL 199.001772 207.071491 \r\nL 200.531237 204.799806 \r\nL 202.060703 206.27617 \r\nL 203.590168 208.04179 \r\nL 205.119634 207.970711 \r\nL 206.649099 206.01241 \r\nL 208.178565 207.126738 \r\nL 209.70803 207.677328 \r\nL 211.237496 207.625018 \r\nL 212.766961 206.819713 \r\nL 214.296427 207.144018 \r\nL 215.825892 207.285577 \r\nL 217.355358 208.035604 \r\nL 218.884823 206.880788 \r\nL 220.414289 207.221659 \r\nL 221.943754 207.415808 \r\nL 223.47322 206.402649 \r\nL 225.002685 207.212812 \r\nL 226.532151 207.699825 \r\nL 228.061616 207.313937 \r\nL 229.591082 206.249204 \r\nL 231.120547 206.472835 \r\nL 232.650013 207.967334 \r\nL 234.179478 208.480876 \r\nL 235.708944 207.868233 \r\nL 237.238409 208.35254 \r\nL 238.767875 207.993698 \r\nL 240.29734 208.490812 \r\nL 241.826806 207.84363 \r\nL 243.356271 206.680941 \r\nL 244.885737 207.761752 \r\nL 246.415202 208.314835 \r\nL 247.944668 206.613059 \r\nL 249.474133 207.068496 \r\nL 251.003599 208.826526 \r\nL 252.533064 207.952699 \r\nL 254.06253 207.414659 \r\nL 255.591995 207.396487 \r\nL 257.121461 208.127986 \r\nL 258.650927 206.441853 \r\nL 260.180392 208.102215 \r\nL 261.709858 208.091964 \r\nL 263.239323 207.468151 \r\nL 264.768789 208.308746 \r\nL 266.298254 208.342977 \r\nL 267.82772 209.255562 \r\nL 269.357185 208.792031 \r\nL 270.886651 207.754638 \r\nL 273.945582 208.13652 \r\nL 275.475047 208.118138 \r\nL 277.004513 208.462394 \r\nL 278.533978 208.506791 \r\nL 280.063444 207.145414 \r\nL 283.122375 208.463113 \r\nL 284.65184 207.484045 \r\nL 286.181306 207.492554 \r\nL 287.710771 208.166552 \r\nL 289.240237 208.01602 \r\nL 290.769702 208.323812 \r\nL 292.299168 208.013834 \r\nL 295.358099 209.177689 \r\nL 298.41703 207.335508 \r\nL 299.946495 209.018052 \r\nL 301.475961 207.825434 \r\nL 303.005426 208.149457 \r\nL 304.534892 208.183781 \r\nL 306.064357 208.550621 \r\nL 307.593823 207.447831 \r\nL 309.123288 208.349619 \r\nL 310.652754 208.768182 \r\nL 312.182219 208.446263 \r\nL 313.711685 208.783539 \r\nL 315.24115 208.732534 \r\nL 316.770616 208.826035 \r\nL 318.300081 209.395246 \r\nL 321.359012 207.727752 \r\nL 322.888478 208.166281 \r\nL 324.417943 208.86511 \r\nL 325.947409 208.089311 \r\nL 327.476874 208.202666 \r\nL 329.00634 208.83981 \r\nL 332.065271 209.174819 \r\nL 333.594736 209.187463 \r\nL 335.124202 208.358353 \r\nL 336.653667 208.958669 \r\nL 338.183133 208.893596 \r\nL 339.712599 207.229877 \r\nL 341.242064 208.262419 \r\nL 342.77153 208.336908 \r\nL 344.300995 207.547565 \r\nL 345.830461 209.420288 \r\nL 347.359926 208.887469 \r\nL 348.889392 207.312572 \r\nL 350.418857 208.634347 \r\nL 351.948323 208.849846 \r\nL 353.477788 208.857625 \r\nL 355.007254 208.266879 \r\nL 356.536719 208.414474 \r\nL 358.066185 207.688129 \r\nL 359.59565 208.354902 \r\nL 361.125116 207.688796 \r\nL 362.654581 207.749269 \r\nL 364.184047 209.649601 \r\nL 365.713512 208.458095 \r\nL 367.242978 208.191449 \r\nL 368.772443 208.805367 \r\nL 368.772443 208.805367 \r\n\" style=\"fill:none;stroke:#1f77b4;stroke-linecap:square;stroke-width:1.5;\"/>\r\n   </g>\r\n   <g id=\"line2d_19\">\r\n    <path clip-path=\"url(#p8e48f080c7)\" d=\"M 64.408807 209.366396 \r\nL 65.938272 207.677666 \r\nL 67.467738 209.494606 \r\nL 68.997203 196.655799 \r\nL 70.526669 208.096699 \r\nL 72.056134 205.777371 \r\nL 73.5856 204.073887 \r\nL 75.115065 206.81632 \r\nL 76.644531 201.633373 \r\nL 78.173996 206.969993 \r\nL 79.703462 205.741242 \r\nL 81.232927 206.142672 \r\nL 82.762393 203.1261 \r\nL 84.291858 206.033306 \r\nL 85.821324 206.778107 \r\nL 87.350789 205.799639 \r\nL 88.880255 206.539157 \r\nL 90.40972 206.52161 \r\nL 91.939186 204.870786 \r\nL 93.468651 206.993626 \r\nL 94.998117 205.348243 \r\nL 96.527583 203.158258 \r\nL 98.057048 208.050712 \r\nL 99.586514 203.895811 \r\nL 101.115979 207.89841 \r\nL 102.645445 208.861441 \r\nL 104.17491 208.344682 \r\nL 105.704376 208.723893 \r\nL 107.233841 208.743562 \r\nL 108.763307 209.434967 \r\nL 110.292772 207.770335 \r\nL 111.822238 209.793199 \r\nL 113.351703 209.153914 \r\nL 114.881169 210.262596 \r\nL 116.410634 209.075924 \r\nL 117.9401 210.188331 \r\nL 119.469565 209.798512 \r\nL 120.999031 210.630481 \r\nL 122.528496 209.328833 \r\nL 124.057962 210.661203 \r\nL 125.587427 211.192386 \r\nL 128.646358 211.381069 \r\nL 130.175824 210.771036 \r\nL 131.705289 211.404 \r\nL 133.234755 211.139117 \r\nL 134.76422 211.798437 \r\nL 136.293686 211.546727 \r\nL 137.823151 212.229562 \r\nL 139.352617 212.130489 \r\nL 140.882082 212.177831 \r\nL 142.411548 212.041904 \r\nL 145.470479 212.260525 \r\nL 146.999944 212.751037 \r\nL 148.52941 212.049903 \r\nL 150.058875 212.150761 \r\nL 151.588341 213.034139 \r\nL 153.117806 213.31225 \r\nL 154.647272 213.107172 \r\nL 156.176737 206.068187 \r\nL 157.706203 209.603346 \r\nL 159.235668 207.527351 \r\nL 160.765134 213.464352 \r\nL 162.294599 213.210567 \r\nL 163.824065 213.551746 \r\nL 165.35353 213.766251 \r\nL 166.882996 209.229564 \r\nL 168.412461 211.524433 \r\nL 169.941927 210.887774 \r\nL 171.471392 213.974 \r\nL 173.000858 212.915355 \r\nL 174.530323 213.989792 \r\nL 176.059789 211.394491 \r\nL 177.589255 214.121309 \r\nL 179.11872 212.758604 \r\nL 182.177651 214.149564 \r\nL 183.707117 214.059223 \r\nL 185.236582 210.003761 \r\nL 186.766048 214.401318 \r\nL 188.295513 214.402049 \r\nL 189.824979 213.12079 \r\nL 191.354444 214.233404 \r\nL 192.88391 213.296237 \r\nL 194.413375 214.395139 \r\nL 195.942841 213.083917 \r\nL 197.472306 214.37513 \r\nL 199.001772 213.387895 \r\nL 200.531237 213.819872 \r\nL 202.060703 214.599577 \r\nL 203.590168 214.197152 \r\nL 205.119634 214.400462 \r\nL 206.649099 213.017693 \r\nL 208.178565 212.431266 \r\nL 209.70803 214.339156 \r\nL 211.237496 214.264417 \r\nL 214.296427 214.637835 \r\nL 215.825892 214.548308 \r\nL 217.355358 211.593221 \r\nL 218.884823 207.763776 \r\nL 220.414289 214.391498 \r\nL 221.943754 214.362273 \r\nL 223.47322 213.646236 \r\nL 225.002685 211.903749 \r\nL 226.532151 213.719614 \r\nL 228.061616 213.675883 \r\nL 229.591082 213.873372 \r\nL 231.120547 214.601216 \r\nL 232.650013 214.57419 \r\nL 234.179478 213.917428 \r\nL 235.708944 214.595387 \r\nL 238.767875 214.674253 \r\nL 240.29734 213.315699 \r\nL 241.826806 212.242266 \r\nL 243.356271 214.670919 \r\nL 244.885737 213.35038 \r\nL 246.415202 214.505829 \r\nL 247.944668 214.587807 \r\nL 249.474133 213.144541 \r\nL 251.003599 214.472403 \r\nL 252.533064 214.327619 \r\nL 254.06253 214.689124 \r\nL 255.591995 214.245771 \r\nL 257.121461 212.293949 \r\nL 258.650927 214.01504 \r\nL 260.180392 214.423256 \r\nL 261.709858 214.587783 \r\nL 263.239323 214.471913 \r\nL 264.768789 213.105623 \r\nL 266.298254 214.482505 \r\nL 267.82772 214.360803 \r\nL 269.357185 213.016886 \r\nL 270.886651 214.737786 \r\nL 272.416116 213.980134 \r\nL 273.945582 214.627396 \r\nL 275.475047 214.555621 \r\nL 277.004513 213.532218 \r\nL 278.533978 214.057225 \r\nL 280.063444 214.019333 \r\nL 281.592909 214.533846 \r\nL 283.122375 213.604382 \r\nL 284.65184 214.317477 \r\nL 286.181306 214.052792 \r\nL 289.240237 214.298409 \r\nL 290.769702 214.50674 \r\nL 292.299168 214.47748 \r\nL 293.828633 214.252083 \r\nL 295.358099 214.531897 \r\nL 296.887564 211.677931 \r\nL 298.41703 213.218608 \r\nL 299.946495 214.514983 \r\nL 303.005426 214.625801 \r\nL 304.534892 213.929372 \r\nL 306.064357 214.598649 \r\nL 307.593823 213.384851 \r\nL 309.123288 214.489184 \r\nL 310.652754 214.44458 \r\nL 313.711685 214.657718 \r\nL 315.24115 213.307782 \r\nL 316.770616 214.51407 \r\nL 318.300081 214.59768 \r\nL 319.829547 213.623633 \r\nL 321.359012 213.091349 \r\nL 322.888478 214.509906 \r\nL 324.417943 214.256423 \r\nL 325.947409 214.215276 \r\nL 327.476874 214.695973 \r\nL 329.00634 214.734123 \r\nL 330.535805 213.71117 \r\nL 332.065271 214.749839 \r\nL 333.594736 214.237383 \r\nL 336.653667 213.883408 \r\nL 338.183133 213.126011 \r\nL 339.712599 214.373544 \r\nL 341.242064 214.635773 \r\nL 342.77153 214.01202 \r\nL 344.300995 214.123738 \r\nL 345.830461 214.677545 \r\nL 347.359926 214.296907 \r\nL 348.889392 211.141269 \r\nL 350.418857 214.502088 \r\nL 351.948323 214.669528 \r\nL 353.477788 214.548719 \r\nL 355.007254 214.070351 \r\nL 356.536719 214.6522 \r\nL 358.066185 214.748397 \r\nL 362.654581 214.544886 \r\nL 364.184047 214.756364 \r\nL 365.713512 212.212583 \r\nL 367.242978 214.070949 \r\nL 368.772443 212.85849 \r\nL 368.772443 212.85849 \r\n\" style=\"fill:none;stroke:#bfbf00;stroke-linecap:square;stroke-width:1.5;\"/>\r\n   </g>\r\n   <g id=\"patch_3\">\r\n    <path d=\"M 49.190625 224.64 \r\nL 49.190625 7.2 \r\n\" style=\"fill:none;stroke:#000000;stroke-linecap:square;stroke-linejoin:miter;stroke-width:0.8;\"/>\r\n   </g>\r\n   <g id=\"patch_4\">\r\n    <path d=\"M 383.990625 224.64 \r\nL 383.990625 7.2 \r\n\" style=\"fill:none;stroke:#000000;stroke-linecap:square;stroke-linejoin:miter;stroke-width:0.8;\"/>\r\n   </g>\r\n   <g id=\"patch_5\">\r\n    <path d=\"M 49.190625 224.64 \r\nL 383.990625 224.64 \r\n\" style=\"fill:none;stroke:#000000;stroke-linecap:square;stroke-linejoin:miter;stroke-width:0.8;\"/>\r\n   </g>\r\n   <g id=\"patch_6\">\r\n    <path d=\"M 49.190625 7.2 \r\nL 383.990625 7.2 \r\n\" style=\"fill:none;stroke:#000000;stroke-linecap:square;stroke-linejoin:miter;stroke-width:0.8;\"/>\r\n   </g>\r\n  </g>\r\n </g>\r\n <defs>\r\n  <clipPath id=\"p8e48f080c7\">\r\n   <rect height=\"217.44\" width=\"334.8\" x=\"49.190625\" y=\"7.2\"/>\r\n  </clipPath>\r\n </defs>\r\n</svg>\r\n",
      "image/png": "[encoded data removed]"
     },
     "metadata": {
      "needs_background": "light"
     }
    }
   ],
   "source": [
    "fig, ax = plt.subplots()\n",
    "ax.plot(nn.history['loss'])\n",
    "ax.plot(nn.history['val_loss'], color='y')"
   ]
  },
  {
   "cell_type": "code",
   "execution_count": 37,
   "metadata": {},
   "outputs": [],
   "source": [
    "predicted_stock_price = model.predict(X_test)\n",
    "predicted_stock_price = sc.inverse_transform(predicted_stock_price)"
   ]
  },
  {
   "cell_type": "code",
   "execution_count": 38,
   "metadata": {},
   "outputs": [],
   "source": [
    "real = test_set.values"
   ]
  },
  {
   "cell_type": "code",
   "execution_count": 39,
   "metadata": {},
   "outputs": [
    {
     "output_type": "display_data",
     "data": {
      "application/vnd.plotly.v1+json": {
       "config": {
        "plotlyServerURL": "https://plot.ly"
       },
       "data": [
        {
         "name": "real",
         "type": "scatter",
         "x": [
          "2020-06-16T00:00:00",
          "2020-06-18T00:00:00",
          "2020-06-19T00:00:00",
          "2020-06-22T00:00:00",
          "2020-06-23T00:00:00",
          "2020-06-24T00:00:00",
          "2020-06-25T00:00:00",
          "2020-06-29T00:00:00",
          "2020-06-30T00:00:00",
          "2020-07-01T00:00:00",
          "2020-07-02T00:00:00",
          "2020-07-03T00:00:00",
          "2020-07-06T00:00:00",
          "2020-07-07T00:00:00",
          "2020-07-08T00:00:00",
          "2020-07-09T00:00:00",
          "2020-07-10T00:00:00",
          "2020-07-13T00:00:00",
          "2020-07-14T00:00:00",
          "2020-07-15T00:00:00",
          "2020-07-16T00:00:00",
          "2020-07-17T00:00:00",
          "2020-07-20T00:00:00",
          "2020-07-21T00:00:00",
          "2020-07-22T00:00:00",
          "2020-07-23T00:00:00",
          "2020-07-24T00:00:00",
          "2020-07-27T00:00:00",
          "2020-07-30T00:00:00",
          "2020-07-31T00:00:00",
          "2020-08-03T00:00:00",
          "2020-08-04T00:00:00",
          "2020-08-05T00:00:00",
          "2020-08-06T00:00:00",
          "2020-08-07T00:00:00",
          "2020-08-10T00:00:00",
          "2020-08-11T00:00:00",
          "2020-08-12T00:00:00",
          "2020-08-13T00:00:00",
          "2020-08-17T00:00:00"
         ],
         "y": [
          115.75,
          115.35,
          115.75,
          115.35,
          116,
          117.4,
          115.9,
          112.19999999999999,
          112.7,
          113.5,
          113.95,
          113.5,
          115.44999999999999,
          116.55,
          115.75,
          116.1,
          115.85,
          115.05,
          114.55000000000001,
          116.5,
          116.85,
          116.95,
          116.1,
          115.44999999999999,
          115.05,
          114.05,
          111.6,
          105.5,
          108.15,
          107.85,
          108.85,
          110.6,
          111.8,
          114.05,
          115.4,
          115.5,
          114.5,
          115.2,
          116.25,
          116.6
         ]
        },
        {
         "name": "pred",
         "type": "scatter",
         "x": [
          "2020-06-16T00:00:00",
          "2020-06-18T00:00:00",
          "2020-06-19T00:00:00",
          "2020-06-22T00:00:00",
          "2020-06-23T00:00:00",
          "2020-06-24T00:00:00",
          "2020-06-25T00:00:00",
          "2020-06-29T00:00:00",
          "2020-06-30T00:00:00",
          "2020-07-01T00:00:00",
          "2020-07-02T00:00:00",
          "2020-07-03T00:00:00",
          "2020-07-06T00:00:00",
          "2020-07-07T00:00:00",
          "2020-07-08T00:00:00",
          "2020-07-09T00:00:00",
          "2020-07-10T00:00:00",
          "2020-07-13T00:00:00",
          "2020-07-14T00:00:00",
          "2020-07-15T00:00:00",
          "2020-07-16T00:00:00",
          "2020-07-17T00:00:00",
          "2020-07-20T00:00:00",
          "2020-07-21T00:00:00",
          "2020-07-22T00:00:00",
          "2020-07-23T00:00:00",
          "2020-07-24T00:00:00",
          "2020-07-27T00:00:00",
          "2020-07-30T00:00:00",
          "2020-07-31T00:00:00",
          "2020-08-03T00:00:00",
          "2020-08-04T00:00:00",
          "2020-08-05T00:00:00",
          "2020-08-06T00:00:00",
          "2020-08-07T00:00:00",
          "2020-08-10T00:00:00",
          "2020-08-11T00:00:00",
          "2020-08-12T00:00:00",
          "2020-08-13T00:00:00",
          "2020-08-17T00:00:00"
         ],
         "y": [
          115.37744140625,
          114.42253112792969,
          113.90621948242188,
          114.16165161132812,
          113.94253540039062,
          114.43489837646484,
          115.73646545410156,
          114.7377700805664,
          111.40447235107422,
          110.93828582763672,
          111.53056335449219,
          112.09554290771484,
          111.87321472167969,
          113.42762756347656,
          114.78377532958984,
          114.39116668701172,
          114.54681396484375,
          114.36814880371094,
          113.648681640625,
          113.06189727783203,
          114.5551986694336,
          115.27951049804688,
          115.51702880859375,
          114.84383392333984,
          114.13154602050781,
          113.62857818603516,
          112.69052124023438,
          110.47992706298828,
          105.20140838623047,
          105.65647888183594,
          105.83901977539062,
          106.70484924316406,
          108.38825225830078,
          109.8382568359375,
          112.02534484863281,
          113.65522766113281,
          114.02639770507812,
          113.1914291381836,
          113.52324676513672,
          114.49517059326172
         ]
        }
       ],
       "layout": {
        "template": {
         "data": {
          "bar": [
           {
            "error_x": {
             "color": "#2a3f5f"
            },
            "error_y": {
             "color": "#2a3f5f"
            },
            "marker": {
             "line": {
              "color": "#E5ECF6",
              "width": 0.5
             }
            },
            "type": "bar"
           }
          ],
          "barpolar": [
           {
            "marker": {
             "line": {
              "color": "#E5ECF6",
              "width": 0.5
             }
            },
            "type": "barpolar"
           }
          ],
          "carpet": [
           {
            "aaxis": {
             "endlinecolor": "#2a3f5f",
             "gridcolor": "white",
             "linecolor": "white",
             "minorgridcolor": "white",
             "startlinecolor": "#2a3f5f"
            },
            "baxis": {
             "endlinecolor": "#2a3f5f",
             "gridcolor": "white",
             "linecolor": "white",
             "minorgridcolor": "white",
             "startlinecolor": "#2a3f5f"
            },
            "type": "carpet"
           }
          ],
          "choropleth": [
           {
            "colorbar": {
             "outlinewidth": 0,
             "ticks": ""
            },
            "type": "choropleth"
           }
          ],
          "contour": [
           {
            "colorbar": {
             "outlinewidth": 0,
             "ticks": ""
            },
            "colorscale": [
             [
              0,
              "#0d0887"
             ],
             [
              0.1111111111111111,
              "#46039f"
             ],
             [
              0.2222222222222222,
              "#7201a8"
             ],
             [
              0.3333333333333333,
              "#9c179e"
             ],
             [
              0.4444444444444444,
              "#bd3786"
             ],
             [
              0.5555555555555556,
              "#d8576b"
             ],
             [
              0.6666666666666666,
              "#ed7953"
             ],
             [
              0.7777777777777778,
              "#fb9f3a"
             ],
             [
              0.8888888888888888,
              "#fdca26"
             ],
             [
              1,
              "#f0f921"
             ]
            ],
            "type": "contour"
           }
          ],
          "contourcarpet": [
           {
            "colorbar": {
             "outlinewidth": 0,
             "ticks": ""
            },
            "type": "contourcarpet"
           }
          ],
          "heatmap": [
           {
            "colorbar": {
             "outlinewidth": 0,
             "ticks": ""
            },
            "colorscale": [
             [
              0,
              "#0d0887"
             ],
             [
              0.1111111111111111,
              "#46039f"
             ],
             [
              0.2222222222222222,
              "#7201a8"
             ],
             [
              0.3333333333333333,
              "#9c179e"
             ],
             [
              0.4444444444444444,
              "#bd3786"
             ],
             [
              0.5555555555555556,
              "#d8576b"
             ],
             [
              0.6666666666666666,
              "#ed7953"
             ],
             [
              0.7777777777777778,
              "#fb9f3a"
             ],
             [
              0.8888888888888888,
              "#fdca26"
             ],
             [
              1,
              "#f0f921"
             ]
            ],
            "type": "heatmap"
           }
          ],
          "heatmapgl": [
           {
            "colorbar": {
             "outlinewidth": 0,
             "ticks": ""
            },
            "colorscale": [
             [
              0,
              "#0d0887"
             ],
             [
              0.1111111111111111,
              "#46039f"
             ],
             [
              0.2222222222222222,
              "#7201a8"
             ],
             [
              0.3333333333333333,
              "#9c179e"
             ],
             [
              0.4444444444444444,
              "#bd3786"
             ],
             [
              0.5555555555555556,
              "#d8576b"
             ],
             [
              0.6666666666666666,
              "#ed7953"
             ],
             [
              0.7777777777777778,
              "#fb9f3a"
             ],
             [
              0.8888888888888888,
              "#fdca26"
             ],
             [
              1,
              "#f0f921"
             ]
            ],
            "type": "heatmapgl"
           }
          ],
          "histogram": [
           {
            "marker": {
             "colorbar": {
              "outlinewidth": 0,
              "ticks": ""
             }
            },
            "type": "histogram"
           }
          ],
          "histogram2d": [
           {
            "colorbar": {
             "outlinewidth": 0,
             "ticks": ""
            },
            "colorscale": [
             [
              0,
              "#0d0887"
             ],
             [
              0.1111111111111111,
              "#46039f"
             ],
             [
              0.2222222222222222,
              "#7201a8"
             ],
             [
              0.3333333333333333,
              "#9c179e"
             ],
             [
              0.4444444444444444,
              "#bd3786"
             ],
             [
              0.5555555555555556,
              "#d8576b"
             ],
             [
              0.6666666666666666,
              "#ed7953"
             ],
             [
              0.7777777777777778,
              "#fb9f3a"
             ],
             [
              0.8888888888888888,
              "#fdca26"
             ],
             [
              1,
              "#f0f921"
             ]
            ],
            "type": "histogram2d"
           }
          ],
          "histogram2dcontour": [
           {
            "colorbar": {
             "outlinewidth": 0,
             "ticks": ""
            },
            "colorscale": [
             [
              0,
              "#0d0887"
             ],
             [
              0.1111111111111111,
              "#46039f"
             ],
             [
              0.2222222222222222,
              "#7201a8"
             ],
             [
              0.3333333333333333,
              "#9c179e"
             ],
             [
              0.4444444444444444,
              "#bd3786"
             ],
             [
              0.5555555555555556,
              "#d8576b"
             ],
             [
              0.6666666666666666,
              "#ed7953"
             ],
             [
              0.7777777777777778,
              "#fb9f3a"
             ],
             [
              0.8888888888888888,
              "#fdca26"
             ],
             [
              1,
              "#f0f921"
             ]
            ],
            "type": "histogram2dcontour"
           }
          ],
          "mesh3d": [
           {
            "colorbar": {
             "outlinewidth": 0,
             "ticks": ""
            },
            "type": "mesh3d"
           }
          ],
          "parcoords": [
           {
            "line": {
             "colorbar": {
              "outlinewidth": 0,
              "ticks": ""
             }
            },
            "type": "parcoords"
           }
          ],
          "pie": [
           {
            "automargin": true,
            "type": "pie"
           }
          ],
          "scatter": [
           {
            "marker": {
             "colorbar": {
              "outlinewidth": 0,
              "ticks": ""
             }
            },
            "type": "scatter"
           }
          ],
          "scatter3d": [
           {
            "line": {
             "colorbar": {
              "outlinewidth": 0,
              "ticks": ""
             }
            },
            "marker": {
             "colorbar": {
              "outlinewidth": 0,
              "ticks": ""
             }
            },
            "type": "scatter3d"
           }
          ],
          "scattercarpet": [
           {
            "marker": {
             "colorbar": {
              "outlinewidth": 0,
              "ticks": ""
             }
            },
            "type": "scattercarpet"
           }
          ],
          "scattergeo": [
           {
            "marker": {
             "colorbar": {
              "outlinewidth": 0,
              "ticks": ""
             }
            },
            "type": "scattergeo"
           }
          ],
          "scattergl": [
           {
            "marker": {
             "colorbar": {
              "outlinewidth": 0,
              "ticks": ""
             }
            },
            "type": "scattergl"
           }
          ],
          "scattermapbox": [
           {
            "marker": {
             "colorbar": {
              "outlinewidth": 0,
              "ticks": ""
             }
            },
            "type": "scattermapbox"
           }
          ],
          "scatterpolar": [
           {
            "marker": {
             "colorbar": {
              "outlinewidth": 0,
              "ticks": ""
             }
            },
            "type": "scatterpolar"
           }
          ],
          "scatterpolargl": [
           {
            "marker": {
             "colorbar": {
              "outlinewidth": 0,
              "ticks": ""
             }
            },
            "type": "scatterpolargl"
           }
          ],
          "scatterternary": [
           {
            "marker": {
             "colorbar": {
              "outlinewidth": 0,
              "ticks": ""
             }
            },
            "type": "scatterternary"
           }
          ],
          "surface": [
           {
            "colorbar": {
             "outlinewidth": 0,
             "ticks": ""
            },
            "colorscale": [
             [
              0,
              "#0d0887"
             ],
             [
              0.1111111111111111,
              "#46039f"
             ],
             [
              0.2222222222222222,
              "#7201a8"
             ],
             [
              0.3333333333333333,
              "#9c179e"
             ],
             [
              0.4444444444444444,
              "#bd3786"
             ],
             [
              0.5555555555555556,
              "#d8576b"
             ],
             [
              0.6666666666666666,
              "#ed7953"
             ],
             [
              0.7777777777777778,
              "#fb9f3a"
             ],
             [
              0.8888888888888888,
              "#fdca26"
             ],
             [
              1,
              "#f0f921"
             ]
            ],
            "type": "surface"
           }
          ],
          "table": [
           {
            "cells": {
             "fill": {
              "color": "#EBF0F8"
             },
             "line": {
              "color": "white"
             }
            },
            "header": {
             "fill": {
              "color": "#C8D4E3"
             },
             "line": {
              "color": "white"
             }
            },
            "type": "table"
           }
          ]
         },
         "layout": {
          "annotationdefaults": {
           "arrowcolor": "#2a3f5f",
           "arrowhead": 0,
           "arrowwidth": 1
          },
          "coloraxis": {
           "colorbar": {
            "outlinewidth": 0,
            "ticks": ""
           }
          },
          "colorscale": {
           "diverging": [
            [
             0,
             "#8e0152"
            ],
            [
             0.1,
             "#c51b7d"
            ],
            [
             0.2,
             "#de77ae"
            ],
            [
             0.3,
             "#f1b6da"
            ],
            [
             0.4,
             "#fde0ef"
            ],
            [
             0.5,
             "#f7f7f7"
            ],
            [
             0.6,
             "#e6f5d0"
            ],
            [
             0.7,
             "#b8e186"
            ],
            [
             0.8,
             "#7fbc41"
            ],
            [
             0.9,
             "#4d9221"
            ],
            [
             1,
             "#276419"
            ]
           ],
           "sequential": [
            [
             0,
             "#0d0887"
            ],
            [
             0.1111111111111111,
             "#46039f"
            ],
            [
             0.2222222222222222,
             "#7201a8"
            ],
            [
             0.3333333333333333,
             "#9c179e"
            ],
            [
             0.4444444444444444,
             "#bd3786"
            ],
            [
             0.5555555555555556,
             "#d8576b"
            ],
            [
             0.6666666666666666,
             "#ed7953"
            ],
            [
             0.7777777777777778,
             "#fb9f3a"
            ],
            [
             0.8888888888888888,
             "#fdca26"
            ],
            [
             1,
             "#f0f921"
            ]
           ],
           "sequentialminus": [
            [
             0,
             "#0d0887"
            ],
            [
             0.1111111111111111,
             "#46039f"
            ],
            [
             0.2222222222222222,
             "#7201a8"
            ],
            [
             0.3333333333333333,
             "#9c179e"
            ],
            [
             0.4444444444444444,
             "#bd3786"
            ],
            [
             0.5555555555555556,
             "#d8576b"
            ],
            [
             0.6666666666666666,
             "#ed7953"
            ],
            [
             0.7777777777777778,
             "#fb9f3a"
            ],
            [
             0.8888888888888888,
             "#fdca26"
            ],
            [
             1,
             "#f0f921"
            ]
           ]
          },
          "colorway": [
           "#636efa",
           "#EF553B",
           "#00cc96",
           "#ab63fa",
           "#FFA15A",
           "#19d3f3",
           "#FF6692",
           "#B6E880",
           "#FF97FF",
           "#FECB52"
          ],
          "font": {
           "color": "#2a3f5f"
          },
          "geo": {
           "bgcolor": "white",
           "lakecolor": "white",
           "landcolor": "#E5ECF6",
           "showlakes": true,
           "showland": true,
           "subunitcolor": "white"
          },
          "hoverlabel": {
           "align": "left"
          },
          "hovermode": "closest",
          "mapbox": {
           "style": "light"
          },
          "paper_bgcolor": "white",
          "plot_bgcolor": "#E5ECF6",
          "polar": {
           "angularaxis": {
            "gridcolor": "white",
            "linecolor": "white",
            "ticks": ""
           },
           "bgcolor": "#E5ECF6",
           "radialaxis": {
            "gridcolor": "white",
            "linecolor": "white",
            "ticks": ""
           }
          },
          "scene": {
           "xaxis": {
            "backgroundcolor": "#E5ECF6",
            "gridcolor": "white",
            "gridwidth": 2,
            "linecolor": "white",
            "showbackground": true,
            "ticks": "",
            "zerolinecolor": "white"
           },
           "yaxis": {
            "backgroundcolor": "#E5ECF6",
            "gridcolor": "white",
            "gridwidth": 2,
            "linecolor": "white",
            "showbackground": true,
            "ticks": "",
            "zerolinecolor": "white"
           },
           "zaxis": {
            "backgroundcolor": "#E5ECF6",
            "gridcolor": "white",
            "gridwidth": 2,
            "linecolor": "white",
            "showbackground": true,
            "ticks": "",
            "zerolinecolor": "white"
           }
          },
          "shapedefaults": {
           "line": {
            "color": "#2a3f5f"
           }
          },
          "ternary": {
           "aaxis": {
            "gridcolor": "white",
            "linecolor": "white",
            "ticks": ""
           },
           "baxis": {
            "gridcolor": "white",
            "linecolor": "white",
            "ticks": ""
           },
           "bgcolor": "#E5ECF6",
           "caxis": {
            "gridcolor": "white",
            "linecolor": "white",
            "ticks": ""
           }
          },
          "title": {
           "x": 0.05
          },
          "xaxis": {
           "automargin": true,
           "gridcolor": "white",
           "linecolor": "white",
           "ticks": "",
           "title": {
            "standoff": 15
           },
           "zerolinecolor": "white",
           "zerolinewidth": 2
          },
          "yaxis": {
           "automargin": true,
           "gridcolor": "white",
           "linecolor": "white",
           "ticks": "",
           "title": {
            "standoff": 15
           },
           "zerolinecolor": "white",
           "zerolinewidth": 2
          }
         }
        }
       }
      }
     },
     "metadata": {}
    }
   ],
   "source": [
    "fig = go.Figure()\n",
    "\n",
    "fig.add_trace(\n",
    "    go.Scatter(\n",
    "        name='real',\n",
    "        x=df.iloc[-40:,:]['date'],\n",
    "        y=real.flatten()\n",
    "    )\n",
    ")\n",
    "\n",
    "fig.add_trace(\n",
    "    go.Scatter(\n",
    "        name='pred',\n",
    "        x=df.iloc[-40:,:]['date'],\n",
    "        y=predicted_stock_price.flatten()\n",
    "    )\n",
    ")\n",
    "fig.show()"
   ]
  },
  {
   "cell_type": "code",
   "execution_count": 40,
   "metadata": {},
   "outputs": [
    {
     "output_type": "execute_result",
     "data": {
      "text/plain": "5.409361499134738"
     },
     "metadata": {},
     "execution_count": 40
    }
   ],
   "source": [
    "mean_squared_error(real, predicted_stock_price)"
   ]
  },
  {
   "cell_type": "code",
   "execution_count": null,
   "metadata": {},
   "outputs": [],
   "source": [
    "0.08086984669252982"
   ]
  }
 ],
 "metadata": {
  "kernelspec": {
   "display_name": "Python 3",
   "language": "python",
   "name": "python3"
  },
  "language_info": {
   "codemirror_mode": {
    "name": "ipython",
    "version": 3
   },
   "file_extension": ".py",
   "mimetype": "text/x-python",
   "name": "python",
   "nbconvert_exporter": "python",
   "pygments_lexer": "ipython3",
   "version": "3.7.7-final"
  }
 },
 "nbformat": 4,
 "nbformat_minor": 4
}