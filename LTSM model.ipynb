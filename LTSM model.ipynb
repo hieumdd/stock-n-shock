{
 "cells": [
  {
   "cell_type": "code",
   "execution_count": 1,
   "metadata": {},
   "outputs": [],
   "source": [
    "import numpy as np\n",
    "import pandas as pd\n",
    "import plotly.graph_objects as go\n",
    "from sqlalchemy import create_engine\n",
    "import os\n",
    "import matplotlib.pyplot as plt\n",
    "from sklearn.preprocessing import MinMaxScaler\n",
    "from sklearn.model_selection import train_test_split\n",
    "from tensorflow.keras.models import Sequential\n",
    "from tensorflow.keras.layers import Dense, LSTM, Dropout\n",
    "from tensorflow.keras.callbacks import EarlyStopping\n",
    "from sklearn.metrics import mean_squared_error, mean_absolute_error"
   ]
  },
  {
   "cell_type": "code",
   "execution_count": 2,
   "metadata": {},
   "outputs": [],
   "source": [
    "cnxn = create_engine('sqlite:///vn.db')"
   ]
  },
  {
   "cell_type": "code",
   "execution_count": 6,
   "metadata": {},
   "outputs": [],
   "source": [
    "query = \"SELECT * FROM HSX WHERE ticker = 'VNM' ORDER BY date\""
   ]
  },
  {
   "cell_type": "code",
   "execution_count": 7,
   "metadata": {},
   "outputs": [],
   "source": [
    "df = pd.read_sql(query, cnxn, parse_dates=['date'])"
   ]
  },
  {
   "cell_type": "code",
   "execution_count": 8,
   "metadata": {},
   "outputs": [
    {
     "output_type": "execute_result",
     "data": {
      "text/plain": "     ticker       date   open   high    low  close   volume\n1784    VNM 2020-08-13  116.0  116.6  115.9  116.4  1238980\n1785    VNM 2020-08-17  117.0  117.9  115.3  117.0   906890\n1786    VNM 2020-08-18  117.0  117.4  115.6  115.6   604570\n1787    VNM 2020-08-19  116.0  116.0  114.9  115.3   981840\n1788    VNM 2020-08-20  115.3  115.8  114.6  115.2  1254280",
      "text/html": "<div>\n<style scoped>\n    .dataframe tbody tr th:only-of-type {\n        vertical-align: middle;\n    }\n\n    .dataframe tbody tr th {\n        vertical-align: top;\n    }\n\n    .dataframe thead th {\n        text-align: right;\n    }\n</style>\n<table border=\"1\" class=\"dataframe\">\n  <thead>\n    <tr style=\"text-align: right;\">\n      <th></th>\n      <th>ticker</th>\n      <th>date</th>\n      <th>open</th>\n      <th>high</th>\n      <th>low</th>\n      <th>close</th>\n      <th>volume</th>\n    </tr>\n  </thead>\n  <tbody>\n    <tr>\n      <th>1784</th>\n      <td>VNM</td>\n      <td>2020-08-13</td>\n      <td>116.0</td>\n      <td>116.6</td>\n      <td>115.9</td>\n      <td>116.4</td>\n      <td>1238980</td>\n    </tr>\n    <tr>\n      <th>1785</th>\n      <td>VNM</td>\n      <td>2020-08-17</td>\n      <td>117.0</td>\n      <td>117.9</td>\n      <td>115.3</td>\n      <td>117.0</td>\n      <td>906890</td>\n    </tr>\n    <tr>\n      <th>1786</th>\n      <td>VNM</td>\n      <td>2020-08-18</td>\n      <td>117.0</td>\n      <td>117.4</td>\n      <td>115.6</td>\n      <td>115.6</td>\n      <td>604570</td>\n    </tr>\n    <tr>\n      <th>1787</th>\n      <td>VNM</td>\n      <td>2020-08-19</td>\n      <td>116.0</td>\n      <td>116.0</td>\n      <td>114.9</td>\n      <td>115.3</td>\n      <td>981840</td>\n    </tr>\n    <tr>\n      <th>1788</th>\n      <td>VNM</td>\n      <td>2020-08-20</td>\n      <td>115.3</td>\n      <td>115.8</td>\n      <td>114.6</td>\n      <td>115.2</td>\n      <td>1254280</td>\n    </tr>\n  </tbody>\n</table>\n</div>"
     },
     "metadata": {},
     "execution_count": 8
    }
   ],
   "source": [
    "df.tail()"
   ]
  },
  {
   "cell_type": "code",
   "execution_count": 9,
   "metadata": {},
   "outputs": [],
   "source": [
    "df['mid'] = (df['high'] + df['low']) / 2"
   ]
  },
  {
   "cell_type": "code",
   "execution_count": 10,
   "metadata": {},
   "outputs": [],
   "source": [
    "train_set = df[['mid']].iloc[:-40,:]\n",
    "test_set = df[['mid']].iloc[-40:,:]"
   ]
  },
  {
   "cell_type": "code",
   "execution_count": 11,
   "metadata": {},
   "outputs": [],
   "source": [
    "day_to_window = 30"
   ]
  },
  {
   "cell_type": "code",
   "execution_count": 12,
   "metadata": {},
   "outputs": [],
   "source": [
    "sc = MinMaxScaler(feature_range=(0,1))\n",
    "stage_train = sc.fit_transform(train_set.values.reshape(-1,1))\n",
    "X_train = []\n",
    "y_train = []\n",
    "for i in range(day_to_window, len(stage_train)):\n",
    "    X_train.append(stage_train[i-day_to_window:i, :])\n",
    "    y_train.append(stage_train[i, :])\n",
    "X_train, y_train = np.array(X_train), np.array(y_train)\n",
    "X_train = np.reshape(X_train, (X_train.shape[0], X_train.shape[1], 1))"
   ]
  },
  {
   "cell_type": "code",
   "execution_count": 13,
   "metadata": {},
   "outputs": [],
   "source": [
    "dataset_total = pd.concat((train_set, test_set), axis = 0)\n",
    "inputs = dataset_total[len(df) - len(test_set) - day_to_window:].values\n",
    "inputs = inputs.reshape(-1,1)\n",
    "inputs = sc.transform(inputs)\n",
    "X_test = []\n",
    "y_test = []\n",
    "for i in range(day_to_window, day_to_window + len(test_set)):\n",
    "    X_test.append(inputs[i-day_to_window:i, :])\n",
    "    y_test.append(inputs[i, :])\n",
    "X_test = np.array(X_test)\n",
    "y_test = np.array(y_test)\n",
    "X_test = np.reshape(X_test, (X_test.shape[0], X_test.shape[1], 1))"
   ]
  },
  {
   "cell_type": "code",
   "execution_count": 14,
   "metadata": {
    "tags": [
     "outputPrepend"
    ]
   },
   "outputs": [
    {
     "output_type": "stream",
     "name": "stdout",
     "text": " 0.0116\nEpoch 86/200\n54/54 [==============================] - 2s 28ms/step - loss: 7.9279e-04 - mean_absolute_error: 0.0193 - val_loss: 5.3901e-04 - val_mean_absolute_error: 0.0214\nEpoch 87/200\n54/54 [==============================] - 1s 28ms/step - loss: 7.6424e-04 - mean_absolute_error: 0.0188 - val_loss: 1.8690e-04 - val_mean_absolute_error: 0.0100\nEpoch 88/200\n54/54 [==============================] - 1s 28ms/step - loss: 9.0277e-04 - mean_absolute_error: 0.0199 - val_loss: 3.3966e-04 - val_mean_absolute_error: 0.0160\nEpoch 89/200\n54/54 [==============================] - 1s 28ms/step - loss: 8.3671e-04 - mean_absolute_error: 0.0196 - val_loss: 5.5335e-04 - val_mean_absolute_error: 0.0194\nEpoch 90/200\n54/54 [==============================] - 2s 28ms/step - loss: 8.7397e-04 - mean_absolute_error: 0.0203 - val_loss: 2.6878e-04 - val_mean_absolute_error: 0.0115\nEpoch 91/200\n54/54 [==============================] - 2s 28ms/step - loss: 8.8838e-04 - mean_absolute_error: 0.0198 - val_loss: 2.4269e-04 - val_mean_absolute_error: 0.0121\nEpoch 92/200\n54/54 [==============================] - 2s 28ms/step - loss: 8.6189e-04 - mean_absolute_error: 0.0201 - val_loss: 1.8324e-04 - val_mean_absolute_error: 0.0090\nEpoch 93/200\n54/54 [==============================] - 2s 28ms/step - loss: 9.1888e-04 - mean_absolute_error: 0.0201 - val_loss: 2.1106e-04 - val_mean_absolute_error: 0.0097\nEpoch 94/200\n54/54 [==============================] - 2s 28ms/step - loss: 0.0011 - mean_absolute_error: 0.0228 - val_loss: 1.7675e-04 - val_mean_absolute_error: 0.0092\nEpoch 95/200\n54/54 [==============================] - 2s 28ms/step - loss: 9.5238e-04 - mean_absolute_error: 0.0204 - val_loss: 1.6299e-04 - val_mean_absolute_error: 0.0088\nEpoch 96/200\n54/54 [==============================] - 1s 28ms/step - loss: 7.8829e-04 - mean_absolute_error: 0.0188 - val_loss: 1.8541e-04 - val_mean_absolute_error: 0.0099\nEpoch 97/200\n54/54 [==============================] - 2s 28ms/step - loss: 8.0498e-04 - mean_absolute_error: 0.0193 - val_loss: 2.4905e-04 - val_mean_absolute_error: 0.0127\nEpoch 98/200\n54/54 [==============================] - 2s 28ms/step - loss: 8.1853e-04 - mean_absolute_error: 0.0191 - val_loss: 1.9341e-04 - val_mean_absolute_error: 0.0092\nEpoch 99/200\n54/54 [==============================] - 2s 28ms/step - loss: 8.1123e-04 - mean_absolute_error: 0.0191 - val_loss: 2.3483e-04 - val_mean_absolute_error: 0.0104\nEpoch 100/200\n54/54 [==============================] - 1s 27ms/step - loss: 8.7486e-04 - mean_absolute_error: 0.0192 - val_loss: 1.8147e-04 - val_mean_absolute_error: 0.0097\nEpoch 101/200\n54/54 [==============================] - 1s 27ms/step - loss: 6.9629e-04 - mean_absolute_error: 0.0183 - val_loss: 1.6311e-04 - val_mean_absolute_error: 0.0088\nEpoch 102/200\n54/54 [==============================] - 1s 27ms/step - loss: 8.0631e-04 - mean_absolute_error: 0.0192 - val_loss: 3.1625e-04 - val_mean_absolute_error: 0.0129\nEpoch 103/200\n54/54 [==============================] - 1s 27ms/step - loss: 7.8269e-04 - mean_absolute_error: 0.0189 - val_loss: 1.9153e-04 - val_mean_absolute_error: 0.0105\nEpoch 104/200\n54/54 [==============================] - 1s 26ms/step - loss: 7.8090e-04 - mean_absolute_error: 0.0182 - val_loss: 1.6222e-04 - val_mean_absolute_error: 0.0088\nEpoch 105/200\n54/54 [==============================] - 1s 27ms/step - loss: 8.7615e-04 - mean_absolute_error: 0.0198 - val_loss: 2.3174e-04 - val_mean_absolute_error: 0.0123\nEpoch 106/200\n54/54 [==============================] - 1s 27ms/step - loss: 7.7587e-04 - mean_absolute_error: 0.0187 - val_loss: 1.8420e-04 - val_mean_absolute_error: 0.0099\nEpoch 107/200\n54/54 [==============================] - 1s 27ms/step - loss: 8.4203e-04 - mean_absolute_error: 0.0191 - val_loss: 2.3337e-04 - val_mean_absolute_error: 0.0105\nEpoch 108/200\n54/54 [==============================] - 1s 26ms/step - loss: 7.9880e-04 - mean_absolute_error: 0.0190 - val_loss: 1.8233e-04 - val_mean_absolute_error: 0.0095\nEpoch 109/200\n54/54 [==============================] - 1s 26ms/step - loss: 8.7139e-04 - mean_absolute_error: 0.0194 - val_loss: 3.7015e-04 - val_mean_absolute_error: 0.0146\nEpoch 110/200\n54/54 [==============================] - 1s 26ms/step - loss: 7.3763e-04 - mean_absolute_error: 0.0187 - val_loss: 1.7565e-04 - val_mean_absolute_error: 0.0095\nEpoch 111/200\n54/54 [==============================] - 1s 26ms/step - loss: 8.0775e-04 - mean_absolute_error: 0.0187 - val_loss: 1.7504e-04 - val_mean_absolute_error: 0.0095\nEpoch 112/200\n54/54 [==============================] - 1s 27ms/step - loss: 7.6004e-04 - mean_absolute_error: 0.0184 - val_loss: 2.1253e-04 - val_mean_absolute_error: 0.0112\nEpoch 113/200\n54/54 [==============================] - 1s 27ms/step - loss: 7.8535e-04 - mean_absolute_error: 0.0183 - val_loss: 2.2452e-04 - val_mean_absolute_error: 0.0102\nEpoch 114/200\n54/54 [==============================] - 1s 27ms/step - loss: 8.1791e-04 - mean_absolute_error: 0.0196 - val_loss: 1.7643e-04 - val_mean_absolute_error: 0.0096\nEpoch 115/200\n54/54 [==============================] - 1s 27ms/step - loss: 8.3829e-04 - mean_absolute_error: 0.0192 - val_loss: 3.1644e-04 - val_mean_absolute_error: 0.0130\nEpoch 116/200\n54/54 [==============================] - 1s 26ms/step - loss: 7.7025e-04 - mean_absolute_error: 0.0186 - val_loss: 1.6639e-04 - val_mean_absolute_error: 0.0089\nEpoch 117/200\n54/54 [==============================] - 1s 26ms/step - loss: 7.1820e-04 - mean_absolute_error: 0.0179 - val_loss: 1.6358e-04 - val_mean_absolute_error: 0.0091\nEpoch 118/200\n54/54 [==============================] - 1s 27ms/step - loss: 8.6855e-04 - mean_absolute_error: 0.0200 - val_loss: 3.2976e-04 - val_mean_absolute_error: 0.0159\nEpoch 119/200\n54/54 [==============================] - 1s 27ms/step - loss: 8.5526e-04 - mean_absolute_error: 0.0198 - val_loss: 2.7653e-04 - val_mean_absolute_error: 0.0118\nEpoch 120/200\n54/54 [==============================] - 1s 28ms/step - loss: 7.3618e-04 - mean_absolute_error: 0.0180 - val_loss: 1.7385e-04 - val_mean_absolute_error: 0.0095\nEpoch 121/200\n54/54 [==============================] - 2s 28ms/step - loss: 7.6703e-04 - mean_absolute_error: 0.0183 - val_loss: 1.7092e-04 - val_mean_absolute_error: 0.0088\nEpoch 122/200\n54/54 [==============================] - 2s 29ms/step - loss: 8.0135e-04 - mean_absolute_error: 0.0186 - val_loss: 1.6114e-04 - val_mean_absolute_error: 0.0091\nEpoch 123/200\n54/54 [==============================] - 1s 27ms/step - loss: 7.9349e-04 - mean_absolute_error: 0.0190 - val_loss: 1.6565e-04 - val_mean_absolute_error: 0.0092\nEpoch 124/200\n54/54 [==============================] - 2s 31ms/step - loss: 7.9123e-04 - mean_absolute_error: 0.0185 - val_loss: 1.6808e-04 - val_mean_absolute_error: 0.0092\nEpoch 125/200\n54/54 [==============================] - 2s 33ms/step - loss: 9.1960e-04 - mean_absolute_error: 0.0199 - val_loss: 1.7041e-04 - val_mean_absolute_error: 0.0095\nEpoch 126/200\n54/54 [==============================] - 2s 36ms/step - loss: 8.0412e-04 - mean_absolute_error: 0.0193 - val_loss: 2.5874e-04 - val_mean_absolute_error: 0.0113\nEpoch 127/200\n54/54 [==============================] - 2s 35ms/step - loss: 7.3922e-04 - mean_absolute_error: 0.0181 - val_loss: 1.7909e-04 - val_mean_absolute_error: 0.0093\nEpoch 128/200\n54/54 [==============================] - 2s 32ms/step - loss: 8.0109e-04 - mean_absolute_error: 0.0191 - val_loss: 5.1046e-04 - val_mean_absolute_error: 0.0192\nEpoch 129/200\n54/54 [==============================] - 2s 34ms/step - loss: 7.4614e-04 - mean_absolute_error: 0.0180 - val_loss: 2.3072e-04 - val_mean_absolute_error: 0.0107\nEpoch 130/200\n54/54 [==============================] - 2s 32ms/step - loss: 8.2878e-04 - mean_absolute_error: 0.0192 - val_loss: 1.6325e-04 - val_mean_absolute_error: 0.0092\nEpoch 131/200\n54/54 [==============================] - 2s 32ms/step - loss: 7.7407e-04 - mean_absolute_error: 0.0182 - val_loss: 2.9001e-04 - val_mean_absolute_error: 0.0125\nEpoch 132/200\n54/54 [==============================] - 2s 32ms/step - loss: 8.0284e-04 - mean_absolute_error: 0.0192 - val_loss: 3.5205e-04 - val_mean_absolute_error: 0.0168\nEpoch 133/200\n54/54 [==============================] - 2s 33ms/step - loss: 7.5582e-04 - mean_absolute_error: 0.0189 - val_loss: 1.9619e-04 - val_mean_absolute_error: 0.0095\nEpoch 134/200\n54/54 [==============================] - 2s 30ms/step - loss: 7.6971e-04 - mean_absolute_error: 0.0186 - val_loss: 2.0973e-04 - val_mean_absolute_error: 0.0099\nEpoch 135/200\n54/54 [==============================] - 2s 28ms/step - loss: 7.5283e-04 - mean_absolute_error: 0.0188 - val_loss: 1.6611e-04 - val_mean_absolute_error: 0.0090\nEpoch 136/200\n54/54 [==============================] - 2s 28ms/step - loss: 7.5024e-04 - mean_absolute_error: 0.0187 - val_loss: 2.3267e-04 - val_mean_absolute_error: 0.0124\nEpoch 137/200\n54/54 [==============================] - 1s 26ms/step - loss: 7.9103e-04 - mean_absolute_error: 0.0185 - val_loss: 1.6931e-04 - val_mean_absolute_error: 0.0092\nEpoch 138/200\n54/54 [==============================] - 2s 28ms/step - loss: 6.5520e-04 - mean_absolute_error: 0.0171 - val_loss: 1.6923e-04 - val_mean_absolute_error: 0.0088\nEpoch 139/200\n54/54 [==============================] - 1s 27ms/step - loss: 8.2094e-04 - mean_absolute_error: 0.0187 - val_loss: 2.4099e-04 - val_mean_absolute_error: 0.0108\nEpoch 140/200\n54/54 [==============================] - 1s 27ms/step - loss: 7.5492e-04 - mean_absolute_error: 0.0185 - val_loss: 1.8281e-04 - val_mean_absolute_error: 0.0098\nEpoch 141/200\n54/54 [==============================] - 1s 27ms/step - loss: 8.0409e-04 - mean_absolute_error: 0.0188 - val_loss: 2.0430e-04 - val_mean_absolute_error: 0.0095\nEpoch 142/200\n54/54 [==============================] - 2s 28ms/step - loss: 6.8989e-04 - mean_absolute_error: 0.0177 - val_loss: 2.3935e-04 - val_mean_absolute_error: 0.0107\nEpoch 143/200\n54/54 [==============================] - 1s 27ms/step - loss: 8.0307e-04 - mean_absolute_error: 0.0194 - val_loss: 1.8942e-04 - val_mean_absolute_error: 0.0092\nEpoch 144/200\n54/54 [==============================] - 1s 27ms/step - loss: 9.3701e-04 - mean_absolute_error: 0.0209 - val_loss: 3.1017e-04 - val_mean_absolute_error: 0.0129\nEpoch 145/200\n54/54 [==============================] - 1s 27ms/step - loss: 7.3818e-04 - mean_absolute_error: 0.0181 - val_loss: 1.7463e-04 - val_mean_absolute_error: 0.0089\nEpoch 146/200\n54/54 [==============================] - 1s 27ms/step - loss: 7.8249e-04 - mean_absolute_error: 0.0182 - val_loss: 1.6092e-04 - val_mean_absolute_error: 0.0089\nEpoch 147/200\n54/54 [==============================] - 1s 27ms/step - loss: 6.9447e-04 - mean_absolute_error: 0.0174 - val_loss: 1.6867e-04 - val_mean_absolute_error: 0.0091\nEpoch 148/200\n54/54 [==============================] - 1s 27ms/step - loss: 8.4418e-04 - mean_absolute_error: 0.0187 - val_loss: 2.5630e-04 - val_mean_absolute_error: 0.0134\nEpoch 149/200\n54/54 [==============================] - 1s 27ms/step - loss: 7.9685e-04 - mean_absolute_error: 0.0184 - val_loss: 1.9827e-04 - val_mean_absolute_error: 0.0106\nEpoch 150/200\n54/54 [==============================] - 1s 27ms/step - loss: 7.3812e-04 - mean_absolute_error: 0.0182 - val_loss: 1.9474e-04 - val_mean_absolute_error: 0.0108\nEpoch 151/200\n54/54 [==============================] - 1s 27ms/step - loss: 8.3465e-04 - mean_absolute_error: 0.0191 - val_loss: 3.2641e-04 - val_mean_absolute_error: 0.0159\nEpoch 152/200\n54/54 [==============================] - 1s 27ms/step - loss: 9.0545e-04 - mean_absolute_error: 0.0214 - val_loss: 4.6448e-04 - val_mean_absolute_error: 0.0176\nEpoch 153/200\n54/54 [==============================] - 1s 27ms/step - loss: 7.8981e-04 - mean_absolute_error: 0.0189 - val_loss: 1.5441e-04 - val_mean_absolute_error: 0.0085\nEpoch 154/200\n54/54 [==============================] - 1s 26ms/step - loss: 7.6770e-04 - mean_absolute_error: 0.0183 - val_loss: 2.0691e-04 - val_mean_absolute_error: 0.0096\nEpoch 155/200\n54/54 [==============================] - 1s 26ms/step - loss: 7.4909e-04 - mean_absolute_error: 0.0181 - val_loss: 1.9140e-04 - val_mean_absolute_error: 0.0104\nEpoch 156/200\n54/54 [==============================] - 1s 26ms/step - loss: 6.9092e-04 - mean_absolute_error: 0.0176 - val_loss: 2.1230e-04 - val_mean_absolute_error: 0.0115\nEpoch 157/200\n54/54 [==============================] - 1s 26ms/step - loss: 7.5251e-04 - mean_absolute_error: 0.0182 - val_loss: 1.6215e-04 - val_mean_absolute_error: 0.0090\nEpoch 158/200\n54/54 [==============================] - 1s 26ms/step - loss: 8.4062e-04 - mean_absolute_error: 0.0187 - val_loss: 1.5609e-04 - val_mean_absolute_error: 0.0087\nEpoch 159/200\n54/54 [==============================] - 1s 26ms/step - loss: 8.0465e-04 - mean_absolute_error: 0.0185 - val_loss: 2.4142e-04 - val_mean_absolute_error: 0.0109\nEpoch 160/200\n54/54 [==============================] - 1s 27ms/step - loss: 7.9431e-04 - mean_absolute_error: 0.0194 - val_loss: 1.6746e-04 - val_mean_absolute_error: 0.0093\nEpoch 161/200\n54/54 [==============================] - 1s 27ms/step - loss: 7.2162e-04 - mean_absolute_error: 0.0176 - val_loss: 3.3673e-04 - val_mean_absolute_error: 0.0137\nEpoch 162/200\n54/54 [==============================] - 1s 27ms/step - loss: 8.7617e-04 - mean_absolute_error: 0.0191 - val_loss: 1.7537e-04 - val_mean_absolute_error: 0.0089\nEpoch 163/200\n54/54 [==============================] - 1s 27ms/step - loss: 7.3123e-04 - mean_absolute_error: 0.0184 - val_loss: 1.6264e-04 - val_mean_absolute_error: 0.0082\nEpoch 164/200\n54/54 [==============================] - 2s 28ms/step - loss: 7.7748e-04 - mean_absolute_error: 0.0190 - val_loss: 2.4480e-04 - val_mean_absolute_error: 0.0109\nEpoch 165/200\n54/54 [==============================] - 2s 28ms/step - loss: 8.1149e-04 - mean_absolute_error: 0.0181 - val_loss: 2.9432e-04 - val_mean_absolute_error: 0.0125\nEpoch 166/200\n54/54 [==============================] - 1s 27ms/step - loss: 7.9637e-04 - mean_absolute_error: 0.0190 - val_loss: 1.7665e-04 - val_mean_absolute_error: 0.0091\nEpoch 167/200\n54/54 [==============================] - 2s 28ms/step - loss: 6.9955e-04 - mean_absolute_error: 0.0173 - val_loss: 1.5828e-04 - val_mean_absolute_error: 0.0088\nEpoch 168/200\n54/54 [==============================] - 1s 27ms/step - loss: 6.9682e-04 - mean_absolute_error: 0.0176 - val_loss: 2.0800e-04 - val_mean_absolute_error: 0.0099\nEpoch 169/200\n54/54 [==============================] - 2s 28ms/step - loss: 7.9207e-04 - mean_absolute_error: 0.0182 - val_loss: 2.8398e-04 - val_mean_absolute_error: 0.0122\nEpoch 170/200\n54/54 [==============================] - 1s 27ms/step - loss: 7.2484e-04 - mean_absolute_error: 0.0180 - val_loss: 1.7091e-04 - val_mean_absolute_error: 0.0094\nEpoch 171/200\n54/54 [==============================] - 1s 27ms/step - loss: 6.6708e-04 - mean_absolute_error: 0.0175 - val_loss: 2.4212e-04 - val_mean_absolute_error: 0.0109\nEpoch 172/200\n54/54 [==============================] - 1s 28ms/step - loss: 7.5842e-04 - mean_absolute_error: 0.0183 - val_loss: 1.7251e-04 - val_mean_absolute_error: 0.0086\nEpoch 173/200\n54/54 [==============================] - 1s 28ms/step - loss: 6.8821e-04 - mean_absolute_error: 0.0172 - val_loss: 2.3409e-04 - val_mean_absolute_error: 0.0119\nEpoch 174/200\n54/54 [==============================] - 1s 28ms/step - loss: 6.7826e-04 - mean_absolute_error: 0.0172 - val_loss: 1.6535e-04 - val_mean_absolute_error: 0.0091\nEpoch 175/200\n54/54 [==============================] - 1s 28ms/step - loss: 6.9077e-04 - mean_absolute_error: 0.0170 - val_loss: 1.5950e-04 - val_mean_absolute_error: 0.0088\nEpoch 176/200\n54/54 [==============================] - 2s 28ms/step - loss: 6.7590e-04 - mean_absolute_error: 0.0172 - val_loss: 1.8863e-04 - val_mean_absolute_error: 0.0102\nEpoch 177/200\n54/54 [==============================] - 1s 26ms/step - loss: 6.8965e-04 - mean_absolute_error: 0.0180 - val_loss: 6.5859e-04 - val_mean_absolute_error: 0.0227\nEpoch 178/200\n54/54 [==============================] - 1s 26ms/step - loss: 7.2744e-04 - mean_absolute_error: 0.0174 - val_loss: 1.6079e-04 - val_mean_absolute_error: 0.0089\nEpoch 179/200\n54/54 [==============================] - 1s 26ms/step - loss: 6.2830e-04 - mean_absolute_error: 0.0165 - val_loss: 1.6769e-04 - val_mean_absolute_error: 0.0088\nEpoch 180/200\n54/54 [==============================] - 1s 27ms/step - loss: 6.8828e-04 - mean_absolute_error: 0.0176 - val_loss: 1.7091e-04 - val_mean_absolute_error: 0.0094\nEpoch 181/200\n54/54 [==============================] - 1s 27ms/step - loss: 7.0357e-04 - mean_absolute_error: 0.0176 - val_loss: 2.7100e-04 - val_mean_absolute_error: 0.0139\nEpoch 182/200\n54/54 [==============================] - 1s 26ms/step - loss: 8.7939e-04 - mean_absolute_error: 0.0203 - val_loss: 4.7383e-04 - val_mean_absolute_error: 0.0199\nEpoch 183/200\n54/54 [==============================] - 1s 26ms/step - loss: 8.0881e-04 - mean_absolute_error: 0.0191 - val_loss: 1.6130e-04 - val_mean_absolute_error: 0.0092\nEpoch 184/200\n54/54 [==============================] - 1s 27ms/step - loss: 7.4371e-04 - mean_absolute_error: 0.0182 - val_loss: 2.1539e-04 - val_mean_absolute_error: 0.0102\nEpoch 185/200\n54/54 [==============================] - 1s 26ms/step - loss: 7.0211e-04 - mean_absolute_error: 0.0177 - val_loss: 2.7993e-04 - val_mean_absolute_error: 0.0120\nEpoch 186/200\n54/54 [==============================] - 1s 26ms/step - loss: 7.7418e-04 - mean_absolute_error: 0.0183 - val_loss: 3.8592e-04 - val_mean_absolute_error: 0.0156\nEpoch 187/200\n54/54 [==============================] - 1s 26ms/step - loss: 7.2103e-04 - mean_absolute_error: 0.0174 - val_loss: 1.9690e-04 - val_mean_absolute_error: 0.0107\nEpoch 188/200\n54/54 [==============================] - 1s 27ms/step - loss: 7.0633e-04 - mean_absolute_error: 0.0175 - val_loss: 1.8249e-04 - val_mean_absolute_error: 0.0089\nEpoch 189/200\n54/54 [==============================] - 1s 26ms/step - loss: 7.2835e-04 - mean_absolute_error: 0.0185 - val_loss: 2.0434e-04 - val_mean_absolute_error: 0.0097\nEpoch 190/200\n54/54 [==============================] - 1s 27ms/step - loss: 6.9046e-04 - mean_absolute_error: 0.0172 - val_loss: 2.0424e-04 - val_mean_absolute_error: 0.0097\nEpoch 191/200\n54/54 [==============================] - 1s 27ms/step - loss: 7.0822e-04 - mean_absolute_error: 0.0177 - val_loss: 1.5719e-04 - val_mean_absolute_error: 0.0088\nEpoch 192/200\n54/54 [==============================] - 1s 27ms/step - loss: 7.5855e-04 - mean_absolute_error: 0.0183 - val_loss: 1.9383e-04 - val_mean_absolute_error: 0.0094\nEpoch 193/200\n54/54 [==============================] - 1s 26ms/step - loss: 6.8879e-04 - mean_absolute_error: 0.0173 - val_loss: 1.9354e-04 - val_mean_absolute_error: 0.0106\nEpoch 194/200\n54/54 [==============================] - 1s 26ms/step - loss: 7.3525e-04 - mean_absolute_error: 0.0184 - val_loss: 1.6366e-04 - val_mean_absolute_error: 0.0089\nEpoch 195/200\n54/54 [==============================] - 1s 27ms/step - loss: 7.1440e-04 - mean_absolute_error: 0.0178 - val_loss: 1.6693e-04 - val_mean_absolute_error: 0.0086\nEpoch 196/200\n54/54 [==============================] - 1s 27ms/step - loss: 7.3282e-04 - mean_absolute_error: 0.0178 - val_loss: 1.5460e-04 - val_mean_absolute_error: 0.0085\nEpoch 197/200\n54/54 [==============================] - 1s 26ms/step - loss: 6.8623e-04 - mean_absolute_error: 0.0172 - val_loss: 2.9187e-04 - val_mean_absolute_error: 0.0124\nEpoch 198/200\n54/54 [==============================] - 1s 27ms/step - loss: 6.9211e-04 - mean_absolute_error: 0.0178 - val_loss: 1.7147e-04 - val_mean_absolute_error: 0.0091\nEpoch 199/200\n54/54 [==============================] - 1s 27ms/step - loss: 7.0689e-04 - mean_absolute_error: 0.0178 - val_loss: 1.8166e-04 - val_mean_absolute_error: 0.0100\nEpoch 200/200\n54/54 [==============================] - 1s 27ms/step - loss: 6.9164e-04 - mean_absolute_error: 0.0175 - val_loss: 1.5403e-04 - val_mean_absolute_error: 0.0085\n"
    }
   ],
   "source": [
    "model = Sequential()\n",
    "\n",
    "model.add(LSTM(50, return_sequences=True, input_shape=(X_train.shape[1], 1)))\n",
    "model.add(Dropout(0.2))\n",
    "\n",
    "model.add(LSTM(50, return_sequences=True))\n",
    "model.add(Dropout(0.2))\n",
    "\n",
    "model.add(LSTM(50, return_sequences=True))\n",
    "model.add(Dropout(0.2))\n",
    "\n",
    "model.add(LSTM(50))\n",
    "model.add(Dropout(0.2))\n",
    "\n",
    "model.add(Dense(1, activation='relu'))\n",
    "\n",
    "model.compile(optimizer = 'adam', loss = 'mean_squared_error', metrics=['mean_absolute_error'])\n",
    "\n",
    "early_stopping = EarlyStopping(monitor='val_loss', patience=5)\n",
    "\n",
    "nn = model.fit(X_train, y_train, validation_data=(X_test, y_test), epochs = 200, batch_size = 32)"
   ]
  },
  {
   "cell_type": "code",
   "execution_count": 15,
   "metadata": {},
   "outputs": [
    {
     "output_type": "execute_result",
     "data": {
      "text/plain": "[<matplotlib.lines.Line2D at 0x21c9db491c8>]"
     },
     "metadata": {},
     "execution_count": 15
    },
    {
     "output_type": "display_data",
     "data": {
      "text/plain": "<Figure size 432x288 with 1 Axes>",
      "image/svg+xml": "<?xml version=\"1.0\" encoding=\"utf-8\" standalone=\"no\"?>\r\n<!DOCTYPE svg PUBLIC \"-//W3C//DTD SVG 1.1//EN\"\r\n  \"http://www.w3.org/Graphics/SVG/1.1/DTD/svg11.dtd\">\r\n<!-- Created with matplotlib (https://matplotlib.org/) -->\r\n<svg height=\"248.518125pt\" version=\"1.1\" viewBox=\"0 0 384.828125 248.518125\" width=\"384.828125pt\" xmlns=\"http://www.w3.org/2000/svg\" xmlns:xlink=\"http://www.w3.org/1999/xlink\">\r\n <defs>\r\n  <style type=\"text/css\">\r\n*{stroke-linecap:butt;stroke-linejoin:round;}\r\n  </style>\r\n </defs>\r\n <g id=\"figure_1\">\r\n  <g id=\"patch_1\">\r\n   <path d=\"M 0 248.518125 \r\nL 384.828125 248.518125 \r\nL 384.828125 0 \r\nL 0 0 \r\nz\r\n\" style=\"fill:none;\"/>\r\n  </g>\r\n  <g id=\"axes_1\">\r\n   <g id=\"patch_2\">\r\n    <path d=\"M 42.828125 224.64 \r\nL 377.628125 224.64 \r\nL 377.628125 7.2 \r\nL 42.828125 7.2 \r\nz\r\n\" style=\"fill:#ffffff;\"/>\r\n   </g>\r\n   <g id=\"matplotlib.axis_1\">\r\n    <g id=\"xtick_1\">\r\n     <g id=\"line2d_1\">\r\n      <defs>\r\n       <path d=\"M 0 0 \r\nL 0 3.5 \r\n\" id=\"me8ca91c59c\" style=\"stroke:#000000;stroke-width:0.8;\"/>\r\n      </defs>\r\n      <g>\r\n       <use style=\"stroke:#000000;stroke-width:0.8;\" x=\"58.046307\" xlink:href=\"#me8ca91c59c\" y=\"224.64\"/>\r\n      </g>\r\n     </g>\r\n     <g id=\"text_1\">\r\n      <!-- 0 -->\r\n      <defs>\r\n       <path d=\"M 31.78125 66.40625 \r\nQ 24.171875 66.40625 20.328125 58.90625 \r\nQ 16.5 51.421875 16.5 36.375 \r\nQ 16.5 21.390625 20.328125 13.890625 \r\nQ 24.171875 6.390625 31.78125 6.390625 \r\nQ 39.453125 6.390625 43.28125 13.890625 \r\nQ 47.125 21.390625 47.125 36.375 \r\nQ 47.125 51.421875 43.28125 58.90625 \r\nQ 39.453125 66.40625 31.78125 66.40625 \r\nz\r\nM 31.78125 74.21875 \r\nQ 44.046875 74.21875 50.515625 64.515625 \r\nQ 56.984375 54.828125 56.984375 36.375 \r\nQ 56.984375 17.96875 50.515625 8.265625 \r\nQ 44.046875 -1.421875 31.78125 -1.421875 \r\nQ 19.53125 -1.421875 13.0625 8.265625 \r\nQ 6.59375 17.96875 6.59375 36.375 \r\nQ 6.59375 54.828125 13.0625 64.515625 \r\nQ 19.53125 74.21875 31.78125 74.21875 \r\nz\r\n\" id=\"DejaVuSans-48\"/>\r\n      </defs>\r\n      <g transform=\"translate(54.865057 239.238438)scale(0.1 -0.1)\">\r\n       <use xlink:href=\"#DejaVuSans-48\"/>\r\n      </g>\r\n     </g>\r\n    </g>\r\n    <g id=\"xtick_2\">\r\n     <g id=\"line2d_2\">\r\n      <g>\r\n       <use style=\"stroke:#000000;stroke-width:0.8;\" x=\"96.282945\" xlink:href=\"#me8ca91c59c\" y=\"224.64\"/>\r\n      </g>\r\n     </g>\r\n     <g id=\"text_2\">\r\n      <!-- 25 -->\r\n      <defs>\r\n       <path d=\"M 19.1875 8.296875 \r\nL 53.609375 8.296875 \r\nL 53.609375 0 \r\nL 7.328125 0 \r\nL 7.328125 8.296875 \r\nQ 12.9375 14.109375 22.625 23.890625 \r\nQ 32.328125 33.6875 34.8125 36.53125 \r\nQ 39.546875 41.84375 41.421875 45.53125 \r\nQ 43.3125 49.21875 43.3125 52.78125 \r\nQ 43.3125 58.59375 39.234375 62.25 \r\nQ 35.15625 65.921875 28.609375 65.921875 \r\nQ 23.96875 65.921875 18.8125 64.3125 \r\nQ 13.671875 62.703125 7.8125 59.421875 \r\nL 7.8125 69.390625 \r\nQ 13.765625 71.78125 18.9375 73 \r\nQ 24.125 74.21875 28.421875 74.21875 \r\nQ 39.75 74.21875 46.484375 68.546875 \r\nQ 53.21875 62.890625 53.21875 53.421875 \r\nQ 53.21875 48.921875 51.53125 44.890625 \r\nQ 49.859375 40.875 45.40625 35.40625 \r\nQ 44.1875 33.984375 37.640625 27.21875 \r\nQ 31.109375 20.453125 19.1875 8.296875 \r\nz\r\n\" id=\"DejaVuSans-50\"/>\r\n       <path d=\"M 10.796875 72.90625 \r\nL 49.515625 72.90625 \r\nL 49.515625 64.59375 \r\nL 19.828125 64.59375 \r\nL 19.828125 46.734375 \r\nQ 21.96875 47.46875 24.109375 47.828125 \r\nQ 26.265625 48.1875 28.421875 48.1875 \r\nQ 40.625 48.1875 47.75 41.5 \r\nQ 54.890625 34.8125 54.890625 23.390625 \r\nQ 54.890625 11.625 47.5625 5.09375 \r\nQ 40.234375 -1.421875 26.90625 -1.421875 \r\nQ 22.3125 -1.421875 17.546875 -0.640625 \r\nQ 12.796875 0.140625 7.71875 1.703125 \r\nL 7.71875 11.625 \r\nQ 12.109375 9.234375 16.796875 8.0625 \r\nQ 21.484375 6.890625 26.703125 6.890625 \r\nQ 35.15625 6.890625 40.078125 11.328125 \r\nQ 45.015625 15.765625 45.015625 23.390625 \r\nQ 45.015625 31 40.078125 35.4375 \r\nQ 35.15625 39.890625 26.703125 39.890625 \r\nQ 22.75 39.890625 18.8125 39.015625 \r\nQ 14.890625 38.140625 10.796875 36.28125 \r\nz\r\n\" id=\"DejaVuSans-53\"/>\r\n      </defs>\r\n      <g transform=\"translate(89.920445 239.238438)scale(0.1 -0.1)\">\r\n       <use xlink:href=\"#DejaVuSans-50\"/>\r\n       <use x=\"63.623047\" xlink:href=\"#DejaVuSans-53\"/>\r\n      </g>\r\n     </g>\r\n    </g>\r\n    <g id=\"xtick_3\">\r\n     <g id=\"line2d_3\">\r\n      <g>\r\n       <use style=\"stroke:#000000;stroke-width:0.8;\" x=\"134.519582\" xlink:href=\"#me8ca91c59c\" y=\"224.64\"/>\r\n      </g>\r\n     </g>\r\n     <g id=\"text_3\">\r\n      <!-- 50 -->\r\n      <g transform=\"translate(128.157082 239.238438)scale(0.1 -0.1)\">\r\n       <use xlink:href=\"#DejaVuSans-53\"/>\r\n       <use x=\"63.623047\" xlink:href=\"#DejaVuSans-48\"/>\r\n      </g>\r\n     </g>\r\n    </g>\r\n    <g id=\"xtick_4\">\r\n     <g id=\"line2d_4\">\r\n      <g>\r\n       <use style=\"stroke:#000000;stroke-width:0.8;\" x=\"172.75622\" xlink:href=\"#me8ca91c59c\" y=\"224.64\"/>\r\n      </g>\r\n     </g>\r\n     <g id=\"text_4\">\r\n      <!-- 75 -->\r\n      <defs>\r\n       <path d=\"M 8.203125 72.90625 \r\nL 55.078125 72.90625 \r\nL 55.078125 68.703125 \r\nL 28.609375 0 \r\nL 18.3125 0 \r\nL 43.21875 64.59375 \r\nL 8.203125 64.59375 \r\nz\r\n\" id=\"DejaVuSans-55\"/>\r\n      </defs>\r\n      <g transform=\"translate(166.39372 239.238438)scale(0.1 -0.1)\">\r\n       <use xlink:href=\"#DejaVuSans-55\"/>\r\n       <use x=\"63.623047\" xlink:href=\"#DejaVuSans-53\"/>\r\n      </g>\r\n     </g>\r\n    </g>\r\n    <g id=\"xtick_5\">\r\n     <g id=\"line2d_5\">\r\n      <g>\r\n       <use style=\"stroke:#000000;stroke-width:0.8;\" x=\"210.992858\" xlink:href=\"#me8ca91c59c\" y=\"224.64\"/>\r\n      </g>\r\n     </g>\r\n     <g id=\"text_5\">\r\n      <!-- 100 -->\r\n      <defs>\r\n       <path d=\"M 12.40625 8.296875 \r\nL 28.515625 8.296875 \r\nL 28.515625 63.921875 \r\nL 10.984375 60.40625 \r\nL 10.984375 69.390625 \r\nL 28.421875 72.90625 \r\nL 38.28125 72.90625 \r\nL 38.28125 8.296875 \r\nL 54.390625 8.296875 \r\nL 54.390625 0 \r\nL 12.40625 0 \r\nz\r\n\" id=\"DejaVuSans-49\"/>\r\n      </defs>\r\n      <g transform=\"translate(201.449108 239.238438)scale(0.1 -0.1)\">\r\n       <use xlink:href=\"#DejaVuSans-49\"/>\r\n       <use x=\"63.623047\" xlink:href=\"#DejaVuSans-48\"/>\r\n       <use x=\"127.246094\" xlink:href=\"#DejaVuSans-48\"/>\r\n      </g>\r\n     </g>\r\n    </g>\r\n    <g id=\"xtick_6\">\r\n     <g id=\"line2d_6\">\r\n      <g>\r\n       <use style=\"stroke:#000000;stroke-width:0.8;\" x=\"249.229495\" xlink:href=\"#me8ca91c59c\" y=\"224.64\"/>\r\n      </g>\r\n     </g>\r\n     <g id=\"text_6\">\r\n      <!-- 125 -->\r\n      <g transform=\"translate(239.685745 239.238438)scale(0.1 -0.1)\">\r\n       <use xlink:href=\"#DejaVuSans-49\"/>\r\n       <use x=\"63.623047\" xlink:href=\"#DejaVuSans-50\"/>\r\n       <use x=\"127.246094\" xlink:href=\"#DejaVuSans-53\"/>\r\n      </g>\r\n     </g>\r\n    </g>\r\n    <g id=\"xtick_7\">\r\n     <g id=\"line2d_7\">\r\n      <g>\r\n       <use style=\"stroke:#000000;stroke-width:0.8;\" x=\"287.466133\" xlink:href=\"#me8ca91c59c\" y=\"224.64\"/>\r\n      </g>\r\n     </g>\r\n     <g id=\"text_7\">\r\n      <!-- 150 -->\r\n      <g transform=\"translate(277.922383 239.238438)scale(0.1 -0.1)\">\r\n       <use xlink:href=\"#DejaVuSans-49\"/>\r\n       <use x=\"63.623047\" xlink:href=\"#DejaVuSans-53\"/>\r\n       <use x=\"127.246094\" xlink:href=\"#DejaVuSans-48\"/>\r\n      </g>\r\n     </g>\r\n    </g>\r\n    <g id=\"xtick_8\">\r\n     <g id=\"line2d_8\">\r\n      <g>\r\n       <use style=\"stroke:#000000;stroke-width:0.8;\" x=\"325.702771\" xlink:href=\"#me8ca91c59c\" y=\"224.64\"/>\r\n      </g>\r\n     </g>\r\n     <g id=\"text_8\">\r\n      <!-- 175 -->\r\n      <g transform=\"translate(316.159021 239.238438)scale(0.1 -0.1)\">\r\n       <use xlink:href=\"#DejaVuSans-49\"/>\r\n       <use x=\"63.623047\" xlink:href=\"#DejaVuSans-55\"/>\r\n       <use x=\"127.246094\" xlink:href=\"#DejaVuSans-53\"/>\r\n      </g>\r\n     </g>\r\n    </g>\r\n    <g id=\"xtick_9\">\r\n     <g id=\"line2d_9\">\r\n      <g>\r\n       <use style=\"stroke:#000000;stroke-width:0.8;\" x=\"363.939409\" xlink:href=\"#me8ca91c59c\" y=\"224.64\"/>\r\n      </g>\r\n     </g>\r\n     <g id=\"text_9\">\r\n      <!-- 200 -->\r\n      <g transform=\"translate(354.395659 239.238438)scale(0.1 -0.1)\">\r\n       <use xlink:href=\"#DejaVuSans-50\"/>\r\n       <use x=\"63.623047\" xlink:href=\"#DejaVuSans-48\"/>\r\n       <use x=\"127.246094\" xlink:href=\"#DejaVuSans-48\"/>\r\n      </g>\r\n     </g>\r\n    </g>\r\n   </g>\r\n   <g id=\"matplotlib.axis_2\">\r\n    <g id=\"ytick_1\">\r\n     <g id=\"line2d_10\">\r\n      <defs>\r\n       <path d=\"M 0 0 \r\nL -3.5 0 \r\n\" id=\"m6d2b969b61\" style=\"stroke:#000000;stroke-width:0.8;\"/>\r\n      </defs>\r\n      <g>\r\n       <use style=\"stroke:#000000;stroke-width:0.8;\" x=\"42.828125\" xlink:href=\"#m6d2b969b61\" y=\"216.658683\"/>\r\n      </g>\r\n     </g>\r\n     <g id=\"text_10\">\r\n      <!-- 0.000 -->\r\n      <defs>\r\n       <path d=\"M 10.6875 12.40625 \r\nL 21 12.40625 \r\nL 21 0 \r\nL 10.6875 0 \r\nz\r\n\" id=\"DejaVuSans-46\"/>\r\n      </defs>\r\n      <g transform=\"translate(7.2 220.457902)scale(0.1 -0.1)\">\r\n       <use xlink:href=\"#DejaVuSans-48\"/>\r\n       <use x=\"63.623047\" xlink:href=\"#DejaVuSans-46\"/>\r\n       <use x=\"95.410156\" xlink:href=\"#DejaVuSans-48\"/>\r\n       <use x=\"159.033203\" xlink:href=\"#DejaVuSans-48\"/>\r\n       <use x=\"222.65625\" xlink:href=\"#DejaVuSans-48\"/>\r\n      </g>\r\n     </g>\r\n    </g>\r\n    <g id=\"ytick_2\">\r\n     <g id=\"line2d_11\">\r\n      <g>\r\n       <use style=\"stroke:#000000;stroke-width:0.8;\" x=\"42.828125\" xlink:href=\"#m6d2b969b61\" y=\"191.958804\"/>\r\n      </g>\r\n     </g>\r\n     <g id=\"text_11\">\r\n      <!-- 0.002 -->\r\n      <g transform=\"translate(7.2 195.758023)scale(0.1 -0.1)\">\r\n       <use xlink:href=\"#DejaVuSans-48\"/>\r\n       <use x=\"63.623047\" xlink:href=\"#DejaVuSans-46\"/>\r\n       <use x=\"95.410156\" xlink:href=\"#DejaVuSans-48\"/>\r\n       <use x=\"159.033203\" xlink:href=\"#DejaVuSans-48\"/>\r\n       <use x=\"222.65625\" xlink:href=\"#DejaVuSans-50\"/>\r\n      </g>\r\n     </g>\r\n    </g>\r\n    <g id=\"ytick_3\">\r\n     <g id=\"line2d_12\">\r\n      <g>\r\n       <use style=\"stroke:#000000;stroke-width:0.8;\" x=\"42.828125\" xlink:href=\"#m6d2b969b61\" y=\"167.258925\"/>\r\n      </g>\r\n     </g>\r\n     <g id=\"text_12\">\r\n      <!-- 0.004 -->\r\n      <defs>\r\n       <path d=\"M 37.796875 64.3125 \r\nL 12.890625 25.390625 \r\nL 37.796875 25.390625 \r\nz\r\nM 35.203125 72.90625 \r\nL 47.609375 72.90625 \r\nL 47.609375 25.390625 \r\nL 58.015625 25.390625 \r\nL 58.015625 17.1875 \r\nL 47.609375 17.1875 \r\nL 47.609375 0 \r\nL 37.796875 0 \r\nL 37.796875 17.1875 \r\nL 4.890625 17.1875 \r\nL 4.890625 26.703125 \r\nz\r\n\" id=\"DejaVuSans-52\"/>\r\n      </defs>\r\n      <g transform=\"translate(7.2 171.058144)scale(0.1 -0.1)\">\r\n       <use xlink:href=\"#DejaVuSans-48\"/>\r\n       <use x=\"63.623047\" xlink:href=\"#DejaVuSans-46\"/>\r\n       <use x=\"95.410156\" xlink:href=\"#DejaVuSans-48\"/>\r\n       <use x=\"159.033203\" xlink:href=\"#DejaVuSans-48\"/>\r\n       <use x=\"222.65625\" xlink:href=\"#DejaVuSans-52\"/>\r\n      </g>\r\n     </g>\r\n    </g>\r\n    <g id=\"ytick_4\">\r\n     <g id=\"line2d_13\">\r\n      <g>\r\n       <use style=\"stroke:#000000;stroke-width:0.8;\" x=\"42.828125\" xlink:href=\"#m6d2b969b61\" y=\"142.559046\"/>\r\n      </g>\r\n     </g>\r\n     <g id=\"text_13\">\r\n      <!-- 0.006 -->\r\n      <defs>\r\n       <path d=\"M 33.015625 40.375 \r\nQ 26.375 40.375 22.484375 35.828125 \r\nQ 18.609375 31.296875 18.609375 23.390625 \r\nQ 18.609375 15.53125 22.484375 10.953125 \r\nQ 26.375 6.390625 33.015625 6.390625 \r\nQ 39.65625 6.390625 43.53125 10.953125 \r\nQ 47.40625 15.53125 47.40625 23.390625 \r\nQ 47.40625 31.296875 43.53125 35.828125 \r\nQ 39.65625 40.375 33.015625 40.375 \r\nz\r\nM 52.59375 71.296875 \r\nL 52.59375 62.3125 \r\nQ 48.875 64.0625 45.09375 64.984375 \r\nQ 41.3125 65.921875 37.59375 65.921875 \r\nQ 27.828125 65.921875 22.671875 59.328125 \r\nQ 17.53125 52.734375 16.796875 39.40625 \r\nQ 19.671875 43.65625 24.015625 45.921875 \r\nQ 28.375 48.1875 33.59375 48.1875 \r\nQ 44.578125 48.1875 50.953125 41.515625 \r\nQ 57.328125 34.859375 57.328125 23.390625 \r\nQ 57.328125 12.15625 50.6875 5.359375 \r\nQ 44.046875 -1.421875 33.015625 -1.421875 \r\nQ 20.359375 -1.421875 13.671875 8.265625 \r\nQ 6.984375 17.96875 6.984375 36.375 \r\nQ 6.984375 53.65625 15.1875 63.9375 \r\nQ 23.390625 74.21875 37.203125 74.21875 \r\nQ 40.921875 74.21875 44.703125 73.484375 \r\nQ 48.484375 72.75 52.59375 71.296875 \r\nz\r\n\" id=\"DejaVuSans-54\"/>\r\n      </defs>\r\n      <g transform=\"translate(7.2 146.358265)scale(0.1 -0.1)\">\r\n       <use xlink:href=\"#DejaVuSans-48\"/>\r\n       <use x=\"63.623047\" xlink:href=\"#DejaVuSans-46\"/>\r\n       <use x=\"95.410156\" xlink:href=\"#DejaVuSans-48\"/>\r\n       <use x=\"159.033203\" xlink:href=\"#DejaVuSans-48\"/>\r\n       <use x=\"222.65625\" xlink:href=\"#DejaVuSans-54\"/>\r\n      </g>\r\n     </g>\r\n    </g>\r\n    <g id=\"ytick_5\">\r\n     <g id=\"line2d_14\">\r\n      <g>\r\n       <use style=\"stroke:#000000;stroke-width:0.8;\" x=\"42.828125\" xlink:href=\"#m6d2b969b61\" y=\"117.859167\"/>\r\n      </g>\r\n     </g>\r\n     <g id=\"text_14\">\r\n      <!-- 0.008 -->\r\n      <defs>\r\n       <path d=\"M 31.78125 34.625 \r\nQ 24.75 34.625 20.71875 30.859375 \r\nQ 16.703125 27.09375 16.703125 20.515625 \r\nQ 16.703125 13.921875 20.71875 10.15625 \r\nQ 24.75 6.390625 31.78125 6.390625 \r\nQ 38.8125 6.390625 42.859375 10.171875 \r\nQ 46.921875 13.96875 46.921875 20.515625 \r\nQ 46.921875 27.09375 42.890625 30.859375 \r\nQ 38.875 34.625 31.78125 34.625 \r\nz\r\nM 21.921875 38.8125 \r\nQ 15.578125 40.375 12.03125 44.71875 \r\nQ 8.5 49.078125 8.5 55.328125 \r\nQ 8.5 64.0625 14.71875 69.140625 \r\nQ 20.953125 74.21875 31.78125 74.21875 \r\nQ 42.671875 74.21875 48.875 69.140625 \r\nQ 55.078125 64.0625 55.078125 55.328125 \r\nQ 55.078125 49.078125 51.53125 44.71875 \r\nQ 48 40.375 41.703125 38.8125 \r\nQ 48.828125 37.15625 52.796875 32.3125 \r\nQ 56.78125 27.484375 56.78125 20.515625 \r\nQ 56.78125 9.90625 50.3125 4.234375 \r\nQ 43.84375 -1.421875 31.78125 -1.421875 \r\nQ 19.734375 -1.421875 13.25 4.234375 \r\nQ 6.78125 9.90625 6.78125 20.515625 \r\nQ 6.78125 27.484375 10.78125 32.3125 \r\nQ 14.796875 37.15625 21.921875 38.8125 \r\nz\r\nM 18.3125 54.390625 \r\nQ 18.3125 48.734375 21.84375 45.5625 \r\nQ 25.390625 42.390625 31.78125 42.390625 \r\nQ 38.140625 42.390625 41.71875 45.5625 \r\nQ 45.3125 48.734375 45.3125 54.390625 \r\nQ 45.3125 60.0625 41.71875 63.234375 \r\nQ 38.140625 66.40625 31.78125 66.40625 \r\nQ 25.390625 66.40625 21.84375 63.234375 \r\nQ 18.3125 60.0625 18.3125 54.390625 \r\nz\r\n\" id=\"DejaVuSans-56\"/>\r\n      </defs>\r\n      <g transform=\"translate(7.2 121.658386)scale(0.1 -0.1)\">\r\n       <use xlink:href=\"#DejaVuSans-48\"/>\r\n       <use x=\"63.623047\" xlink:href=\"#DejaVuSans-46\"/>\r\n       <use x=\"95.410156\" xlink:href=\"#DejaVuSans-48\"/>\r\n       <use x=\"159.033203\" xlink:href=\"#DejaVuSans-48\"/>\r\n       <use x=\"222.65625\" xlink:href=\"#DejaVuSans-56\"/>\r\n      </g>\r\n     </g>\r\n    </g>\r\n    <g id=\"ytick_6\">\r\n     <g id=\"line2d_15\">\r\n      <g>\r\n       <use style=\"stroke:#000000;stroke-width:0.8;\" x=\"42.828125\" xlink:href=\"#m6d2b969b61\" y=\"93.159288\"/>\r\n      </g>\r\n     </g>\r\n     <g id=\"text_15\">\r\n      <!-- 0.010 -->\r\n      <g transform=\"translate(7.2 96.958507)scale(0.1 -0.1)\">\r\n       <use xlink:href=\"#DejaVuSans-48\"/>\r\n       <use x=\"63.623047\" xlink:href=\"#DejaVuSans-46\"/>\r\n       <use x=\"95.410156\" xlink:href=\"#DejaVuSans-48\"/>\r\n       <use x=\"159.033203\" xlink:href=\"#DejaVuSans-49\"/>\r\n       <use x=\"222.65625\" xlink:href=\"#DejaVuSans-48\"/>\r\n      </g>\r\n     </g>\r\n    </g>\r\n    <g id=\"ytick_7\">\r\n     <g id=\"line2d_16\">\r\n      <g>\r\n       <use style=\"stroke:#000000;stroke-width:0.8;\" x=\"42.828125\" xlink:href=\"#m6d2b969b61\" y=\"68.459409\"/>\r\n      </g>\r\n     </g>\r\n     <g id=\"text_16\">\r\n      <!-- 0.012 -->\r\n      <g transform=\"translate(7.2 72.258628)scale(0.1 -0.1)\">\r\n       <use xlink:href=\"#DejaVuSans-48\"/>\r\n       <use x=\"63.623047\" xlink:href=\"#DejaVuSans-46\"/>\r\n       <use x=\"95.410156\" xlink:href=\"#DejaVuSans-48\"/>\r\n       <use x=\"159.033203\" xlink:href=\"#DejaVuSans-49\"/>\r\n       <use x=\"222.65625\" xlink:href=\"#DejaVuSans-50\"/>\r\n      </g>\r\n     </g>\r\n    </g>\r\n    <g id=\"ytick_8\">\r\n     <g id=\"line2d_17\">\r\n      <g>\r\n       <use style=\"stroke:#000000;stroke-width:0.8;\" x=\"42.828125\" xlink:href=\"#m6d2b969b61\" y=\"43.75953\"/>\r\n      </g>\r\n     </g>\r\n     <g id=\"text_17\">\r\n      <!-- 0.014 -->\r\n      <g transform=\"translate(7.2 47.558749)scale(0.1 -0.1)\">\r\n       <use xlink:href=\"#DejaVuSans-48\"/>\r\n       <use x=\"63.623047\" xlink:href=\"#DejaVuSans-46\"/>\r\n       <use x=\"95.410156\" xlink:href=\"#DejaVuSans-48\"/>\r\n       <use x=\"159.033203\" xlink:href=\"#DejaVuSans-49\"/>\r\n       <use x=\"222.65625\" xlink:href=\"#DejaVuSans-52\"/>\r\n      </g>\r\n     </g>\r\n    </g>\r\n    <g id=\"ytick_9\">\r\n     <g id=\"line2d_18\">\r\n      <g>\r\n       <use style=\"stroke:#000000;stroke-width:0.8;\" x=\"42.828125\" xlink:href=\"#m6d2b969b61\" y=\"19.059651\"/>\r\n      </g>\r\n     </g>\r\n     <g id=\"text_18\">\r\n      <!-- 0.016 -->\r\n      <g transform=\"translate(7.2 22.85887)scale(0.1 -0.1)\">\r\n       <use xlink:href=\"#DejaVuSans-48\"/>\r\n       <use x=\"63.623047\" xlink:href=\"#DejaVuSans-46\"/>\r\n       <use x=\"95.410156\" xlink:href=\"#DejaVuSans-48\"/>\r\n       <use x=\"159.033203\" xlink:href=\"#DejaVuSans-49\"/>\r\n       <use x=\"222.65625\" xlink:href=\"#DejaVuSans-54\"/>\r\n      </g>\r\n     </g>\r\n    </g>\r\n   </g>\r\n   <g id=\"line2d_19\">\r\n    <path clip-path=\"url(#pe8d6408b7b)\" d=\"M 58.046307 17.083636 \r\nL 59.575772 144.38769 \r\nL 61.105238 155.61228 \r\nL 62.634703 156.72414 \r\nL 64.164169 166.900976 \r\nL 65.693634 161.759215 \r\nL 67.2231 170.000368 \r\nL 68.752565 170.477163 \r\nL 70.282031 174.027759 \r\nL 71.811496 174.685091 \r\nL 73.340962 176.484665 \r\nL 74.870427 180.307692 \r\nL 76.399893 179.94377 \r\nL 77.929358 183.571264 \r\nL 79.458824 186.2178 \r\nL 80.988289 184.040119 \r\nL 82.517755 184.729573 \r\nL 84.04722 183.102434 \r\nL 85.576686 185.865253 \r\nL 87.106151 186.847163 \r\nL 88.635617 188.622842 \r\nL 90.165083 184.656379 \r\nL 91.694548 188.722858 \r\nL 93.224014 189.97784 \r\nL 94.753479 188.943615 \r\nL 96.282945 189.76772 \r\nL 97.81241 193.804529 \r\nL 99.341876 191.987758 \r\nL 100.871341 193.283504 \r\nL 103.930272 194.79425 \r\nL 105.459738 194.131148 \r\nL 108.518669 196.722768 \r\nL 110.048134 195.577744 \r\nL 111.5776 194.043566 \r\nL 113.107065 197.41069 \r\nL 114.636531 198.706128 \r\nL 116.165996 197.892289 \r\nL 117.695462 199.938657 \r\nL 119.224927 200.979962 \r\nL 120.754393 200.468565 \r\nL 122.283858 200.753664 \r\nL 123.813324 199.438641 \r\nL 125.342789 201.155735 \r\nL 126.872255 201.391353 \r\nL 128.40172 200.90357 \r\nL 131.460651 200.867366 \r\nL 132.990117 200.786313 \r\nL 134.519582 201.396989 \r\nL 136.049048 201.430213 \r\nL 137.578513 201.275871 \r\nL 139.107979 203.304126 \r\nL 140.637444 202.687793 \r\nL 143.696375 203.689437 \r\nL 145.225841 203.077899 \r\nL 146.755306 204.121679 \r\nL 148.284772 203.211611 \r\nL 149.814237 205.409182 \r\nL 152.873168 203.684193 \r\nL 154.402634 204.747338 \r\nL 155.932099 205.300303 \r\nL 157.461565 204.289828 \r\nL 158.99103 203.908386 \r\nL 160.520496 203.68775 \r\nL 162.049961 204.525998 \r\nL 163.579427 203.92408 \r\nL 165.108892 205.579333 \r\nL 166.638358 205.59023 \r\nL 168.167823 206.378792 \r\nL 169.697289 204.081548 \r\nL 171.226755 202.888025 \r\nL 172.75622 205.452825 \r\nL 174.285686 205.504342 \r\nL 175.815151 204.92246 \r\nL 177.344617 204.753097 \r\nL 178.874082 205.072348 \r\nL 180.403548 205.636608 \r\nL 181.933013 205.265338 \r\nL 183.462479 205.863153 \r\nL 184.991944 205.334067 \r\nL 186.52141 207.005158 \r\nL 188.050875 206.867775 \r\nL 189.580341 207.220374 \r\nL 191.109806 205.509532 \r\nL 192.639272 206.325345 \r\nL 194.168737 205.865249 \r\nL 195.698203 205.687218 \r\nL 197.227668 206.014392 \r\nL 198.757134 205.310558 \r\nL 200.286599 203.161486 \r\nL 201.816065 204.896862 \r\nL 203.34553 206.923376 \r\nL 206.404461 206.549927 \r\nL 207.933927 206.639988 \r\nL 209.463392 205.854199 \r\nL 210.992858 208.059549 \r\nL 212.522323 206.700851 \r\nL 214.051789 206.992508 \r\nL 215.581254 207.014619 \r\nL 217.11072 205.838329 \r\nL 218.640185 207.076741 \r\nL 220.169651 206.259615 \r\nL 221.699116 206.79351 \r\nL 223.228582 205.897101 \r\nL 224.758047 207.549 \r\nL 226.287513 206.683003 \r\nL 227.816978 207.272247 \r\nL 232.405375 206.30584 \r\nL 233.93484 207.146098 \r\nL 235.464306 207.788929 \r\nL 236.993771 205.932173 \r\nL 238.523237 206.096291 \r\nL 240.052702 207.566894 \r\nL 243.111633 206.762106 \r\nL 246.170564 206.886982 \r\nL 247.70003 205.301668 \r\nL 249.229495 206.727802 \r\nL 250.758961 207.529338 \r\nL 252.288427 206.765216 \r\nL 253.817892 207.443904 \r\nL 255.347358 206.42336 \r\nL 256.876823 207.09893 \r\nL 258.406289 206.743706 \r\nL 259.935754 207.324308 \r\nL 261.46522 207.152774 \r\nL 262.994685 207.361228 \r\nL 264.524151 207.393269 \r\nL 266.053616 206.889489 \r\nL 267.583082 208.567049 \r\nL 269.112547 206.520062 \r\nL 270.642013 207.335413 \r\nL 272.171478 206.72826 \r\nL 273.700944 208.138582 \r\nL 275.230409 206.740769 \r\nL 276.759875 205.086712 \r\nL 278.28934 207.542156 \r\nL 279.818806 206.995025 \r\nL 281.348271 208.082053 \r\nL 282.877737 206.233075 \r\nL 284.407202 206.817677 \r\nL 285.936668 207.542989 \r\nL 287.466133 206.350865 \r\nL 288.995599 205.476369 \r\nL 290.525064 206.904536 \r\nL 293.583995 207.407501 \r\nL 295.113461 208.125818 \r\nL 296.642926 207.365169 \r\nL 298.172392 206.277042 \r\nL 299.701857 206.721315 \r\nL 301.231323 206.848962 \r\nL 302.760788 207.746718 \r\nL 304.290254 205.838094 \r\nL 305.819719 207.628018 \r\nL 307.349185 207.056859 \r\nL 308.87865 206.636872 \r\nL 310.408116 206.823531 \r\nL 311.937581 208.019236 \r\nL 313.467047 208.053008 \r\nL 314.996512 206.876629 \r\nL 318.055443 208.420241 \r\nL 319.584909 207.292254 \r\nL 321.114374 208.159388 \r\nL 322.64384 208.282205 \r\nL 324.173305 208.12767 \r\nL 325.702771 208.311335 \r\nL 327.232236 208.141492 \r\nL 328.761702 207.674851 \r\nL 330.291167 208.899273 \r\nL 331.820633 208.158496 \r\nL 333.350099 207.969606 \r\nL 334.879564 205.798247 \r\nL 337.938495 207.473888 \r\nL 339.467961 207.987636 \r\nL 340.997426 207.097666 \r\nL 342.526892 207.754048 \r\nL 344.056357 207.935547 \r\nL 345.585823 207.663639 \r\nL 347.115288 208.131563 \r\nL 348.644754 207.912184 \r\nL 350.174219 207.290663 \r\nL 351.703685 208.152188 \r\nL 353.23315 207.578345 \r\nL 354.762616 207.83591 \r\nL 356.292081 207.608418 \r\nL 357.821547 208.183844 \r\nL 360.880478 207.928597 \r\nL 362.409943 208.117032 \r\nL 362.409943 208.117032 \r\n\" style=\"fill:none;stroke:#1f77b4;stroke-linecap:square;stroke-width:1.5;\"/>\r\n   </g>\r\n   <g id=\"line2d_20\">\r\n    <path clip-path=\"url(#pe8d6408b7b)\" d=\"M 58.046307 205.593919 \r\nL 59.575772 204.904353 \r\nL 61.105238 207.937147 \r\nL 64.164169 206.457094 \r\nL 65.693634 203.882641 \r\nL 67.2231 204.753195 \r\nL 68.752565 197.03404 \r\nL 70.282031 204.819328 \r\nL 71.811496 204.270075 \r\nL 73.340962 205.352087 \r\nL 74.870427 202.621932 \r\nL 76.399893 201.958963 \r\nL 77.929358 203.702444 \r\nL 79.458824 205.849108 \r\nL 80.988289 206.896927 \r\nL 82.517755 206.92219 \r\nL 84.04722 205.039357 \r\nL 85.576686 206.852927 \r\nL 87.106151 207.013965 \r\nL 88.635617 204.447112 \r\nL 90.165083 208.984385 \r\nL 91.694548 207.011237 \r\nL 94.753479 209.086962 \r\nL 97.81241 209.695983 \r\nL 99.341876 209.382911 \r\nL 100.871341 210.36575 \r\nL 102.400807 208.890266 \r\nL 103.930272 208.592122 \r\nL 105.459738 210.9961 \r\nL 108.518669 209.883975 \r\nL 110.048134 211.460011 \r\nL 111.5776 211.133412 \r\nL 113.107065 209.478501 \r\nL 114.636531 211.367932 \r\nL 116.165996 209.949706 \r\nL 117.695462 211.685601 \r\nL 119.224927 210.818729 \r\nL 120.754393 211.612163 \r\nL 122.283858 211.873429 \r\nL 123.813324 211.902956 \r\nL 125.342789 206.84903 \r\nL 126.872255 211.821802 \r\nL 128.40172 208.196907 \r\nL 129.931186 212.459918 \r\nL 131.460651 212.415342 \r\nL 132.990117 205.473545 \r\nL 134.519582 211.637344 \r\nL 136.049048 212.877383 \r\nL 137.578513 209.711711 \r\nL 139.107979 213.138908 \r\nL 140.637444 212.811023 \r\nL 142.16691 213.49747 \r\nL 143.696375 212.031139 \r\nL 145.225841 213.372127 \r\nL 146.755306 212.433188 \r\nL 148.284772 213.40811 \r\nL 151.343703 212.653501 \r\nL 152.873168 211.025871 \r\nL 154.402634 213.439194 \r\nL 155.932099 212.474971 \r\nL 157.461565 213.979742 \r\nL 158.99103 213.069971 \r\nL 160.520496 208.131699 \r\nL 162.049961 213.955087 \r\nL 163.579427 213.184377 \r\nL 165.108892 213.441638 \r\nL 166.638358 213.888501 \r\nL 168.167823 211.137806 \r\nL 169.697289 208.043192 \r\nL 171.226755 213.99592 \r\nL 172.75622 214.211916 \r\nL 174.285686 210.480328 \r\nL 175.815151 213.656854 \r\nL 177.344617 214.182094 \r\nL 178.874082 214.212117 \r\nL 180.403548 207.322502 \r\nL 181.933013 213.521082 \r\nL 183.462479 214.331798 \r\nL 184.991944 214.318067 \r\nL 186.52141 213.81298 \r\nL 188.050875 210.001952 \r\nL 189.580341 214.350476 \r\nL 191.109806 212.463845 \r\nL 192.639272 209.824805 \r\nL 194.168737 213.339311 \r\nL 195.698203 213.661465 \r\nL 197.227668 214.395708 \r\nL 198.757134 214.052118 \r\nL 200.286599 214.475791 \r\nL 201.816065 214.645749 \r\nL 203.34553 214.368883 \r\nL 204.874996 213.582885 \r\nL 206.404461 214.270118 \r\nL 207.933927 213.758577 \r\nL 209.463392 214.417493 \r\nL 210.992858 214.644273 \r\nL 212.522323 212.753066 \r\nL 214.051789 214.293316 \r\nL 215.581254 214.655217 \r\nL 217.11072 213.79668 \r\nL 218.640185 214.383881 \r\nL 220.169651 213.776554 \r\nL 221.699116 214.406956 \r\nL 223.228582 212.087361 \r\nL 224.758047 214.489418 \r\nL 226.287513 214.497003 \r\nL 227.816978 214.033889 \r\nL 229.346444 213.885907 \r\nL 230.875909 214.479789 \r\nL 232.405375 212.750704 \r\nL 233.93484 214.603754 \r\nL 235.464306 214.638437 \r\nL 236.993771 212.586105 \r\nL 238.523237 213.243518 \r\nL 240.052702 214.511585 \r\nL 246.170564 214.582897 \r\nL 247.70003 214.554151 \r\nL 249.229495 213.46325 \r\nL 250.758961 214.446962 \r\nL 252.288427 210.354477 \r\nL 253.817892 213.809262 \r\nL 255.347358 214.642608 \r\nL 256.876823 213.077134 \r\nL 258.406289 212.310932 \r\nL 259.935754 214.235698 \r\nL 261.46522 214.068555 \r\nL 262.994685 214.607253 \r\nL 264.524151 213.785217 \r\nL 266.053616 214.567739 \r\nL 267.583082 214.568654 \r\nL 269.112547 213.682436 \r\nL 270.642013 214.400989 \r\nL 272.171478 214.135645 \r\nL 273.700944 213.702713 \r\nL 275.230409 214.319392 \r\nL 276.759875 212.828146 \r\nL 278.28934 214.502021 \r\nL 279.818806 214.671274 \r\nL 281.348271 214.575639 \r\nL 282.877737 213.493434 \r\nL 284.407202 214.210098 \r\nL 285.936668 214.253655 \r\nL 288.995599 210.922391 \r\nL 290.525064 214.751756 \r\nL 292.05453 214.103361 \r\nL 293.583995 214.294929 \r\nL 295.113461 214.036759 \r\nL 296.642926 214.656169 \r\nL 298.172392 214.730938 \r\nL 299.701857 213.677133 \r\nL 301.231323 214.590568 \r\nL 302.760788 212.500137 \r\nL 304.290254 214.492878 \r\nL 305.819719 214.65007 \r\nL 307.349185 213.635395 \r\nL 308.87865 213.023904 \r\nL 310.408116 214.477011 \r\nL 311.937581 214.703884 \r\nL 313.467047 214.089884 \r\nL 314.996512 213.151523 \r\nL 316.525978 214.547924 \r\nL 318.055443 213.668548 \r\nL 319.584909 214.528245 \r\nL 321.114374 213.767739 \r\nL 322.64384 214.616635 \r\nL 324.173305 214.68889 \r\nL 325.702771 214.329056 \r\nL 327.232236 208.525146 \r\nL 328.761702 214.672983 \r\nL 331.820633 214.548016 \r\nL 333.350099 213.311827 \r\nL 334.879564 210.80686 \r\nL 336.40903 214.666627 \r\nL 337.938495 213.998575 \r\nL 339.467961 213.201562 \r\nL 340.997426 211.892612 \r\nL 342.526892 214.227037 \r\nL 344.056357 214.404886 \r\nL 345.585823 214.135055 \r\nL 347.115288 214.136322 \r\nL 348.644754 214.717427 \r\nL 350.174219 214.264952 \r\nL 351.703685 214.268425 \r\nL 353.23315 214.637536 \r\nL 354.762616 214.597054 \r\nL 356.292081 214.749429 \r\nL 357.821547 213.05413 \r\nL 359.351012 214.541042 \r\nL 360.880478 214.415163 \r\nL 362.409943 214.756364 \r\nL 362.409943 214.756364 \r\n\" style=\"fill:none;stroke:#bfbf00;stroke-linecap:square;stroke-width:1.5;\"/>\r\n   </g>\r\n   <g id=\"patch_3\">\r\n    <path d=\"M 42.828125 224.64 \r\nL 42.828125 7.2 \r\n\" style=\"fill:none;stroke:#000000;stroke-linecap:square;stroke-linejoin:miter;stroke-width:0.8;\"/>\r\n   </g>\r\n   <g id=\"patch_4\">\r\n    <path d=\"M 377.628125 224.64 \r\nL 377.628125 7.2 \r\n\" style=\"fill:none;stroke:#000000;stroke-linecap:square;stroke-linejoin:miter;stroke-width:0.8;\"/>\r\n   </g>\r\n   <g id=\"patch_5\">\r\n    <path d=\"M 42.828125 224.64 \r\nL 377.628125 224.64 \r\n\" style=\"fill:none;stroke:#000000;stroke-linecap:square;stroke-linejoin:miter;stroke-width:0.8;\"/>\r\n   </g>\r\n   <g id=\"patch_6\">\r\n    <path d=\"M 42.828125 7.2 \r\nL 377.628125 7.2 \r\n\" style=\"fill:none;stroke:#000000;stroke-linecap:square;stroke-linejoin:miter;stroke-width:0.8;\"/>\r\n   </g>\r\n  </g>\r\n </g>\r\n <defs>\r\n  <clipPath id=\"pe8d6408b7b\">\r\n   <rect height=\"217.44\" width=\"334.8\" x=\"42.828125\" y=\"7.2\"/>\r\n  </clipPath>\r\n </defs>\r\n</svg>\r\n",
      "image/png": "[encoded data removed]"
     },
     "metadata": {
      "needs_background": "light"
     }
    }
   ],
   "source": [
    "fig, ax = plt.subplots()\n",
    "ax.plot(nn.history['loss'])\n",
    "ax.plot(nn.history['val_loss'], color='y')"
   ]
  },
  {
   "cell_type": "code",
   "execution_count": 16,
   "metadata": {},
   "outputs": [],
   "source": [
    "predicted_stock_price = model.predict(X_test)\n",
    "predicted_stock_price = sc.inverse_transform(predicted_stock_price)"
   ]
  },
  {
   "cell_type": "code",
   "execution_count": 17,
   "metadata": {},
   "outputs": [],
   "source": [
    "real = test_set.values"
   ]
  },
  {
   "cell_type": "code",
   "execution_count": 18,
   "metadata": {},
   "outputs": [
    {
     "output_type": "display_data",
     "data": {
      "application/vnd.plotly.v1+json": {
       "config": {
        "plotlyServerURL": "https://plot.ly"
       },
       "data": [
        {
         "name": "real",
         "type": "scatter",
         "x": [
          "2020-06-22T00:00:00",
          "2020-06-23T00:00:00",
          "2020-06-24T00:00:00",
          "2020-06-25T00:00:00",
          "2020-06-29T00:00:00",
          "2020-06-30T00:00:00",
          "2020-07-01T00:00:00",
          "2020-07-02T00:00:00",
          "2020-07-03T00:00:00",
          "2020-07-06T00:00:00",
          "2020-07-07T00:00:00",
          "2020-07-08T00:00:00",
          "2020-07-09T00:00:00",
          "2020-07-10T00:00:00",
          "2020-07-13T00:00:00",
          "2020-07-14T00:00:00",
          "2020-07-15T00:00:00",
          "2020-07-16T00:00:00",
          "2020-07-17T00:00:00",
          "2020-07-20T00:00:00",
          "2020-07-21T00:00:00",
          "2020-07-22T00:00:00",
          "2020-07-23T00:00:00",
          "2020-07-24T00:00:00",
          "2020-07-27T00:00:00",
          "2020-07-30T00:00:00",
          "2020-07-31T00:00:00",
          "2020-08-03T00:00:00",
          "2020-08-04T00:00:00",
          "2020-08-05T00:00:00",
          "2020-08-06T00:00:00",
          "2020-08-07T00:00:00",
          "2020-08-10T00:00:00",
          "2020-08-11T00:00:00",
          "2020-08-12T00:00:00",
          "2020-08-13T00:00:00",
          "2020-08-17T00:00:00",
          "2020-08-18T00:00:00",
          "2020-08-19T00:00:00",
          "2020-08-20T00:00:00"
         ],
         "y": [
          115.35,
          116,
          117.4,
          115.9,
          112.19999999999999,
          112.7,
          113.5,
          113.95,
          113.5,
          115.44999999999999,
          116.55,
          115.75,
          116.1,
          115.85,
          115.05,
          114.55000000000001,
          116.5,
          116.85,
          116.95,
          116.1,
          115.44999999999999,
          115.05,
          114.05,
          111.6,
          105.5,
          108.15,
          107.85,
          108.85,
          110.6,
          111.8,
          114.05,
          115.4,
          115.5,
          114.5,
          115.2,
          116.25,
          116.6,
          116.5,
          115.45,
          115.19999999999999
         ]
        },
        {
         "name": "pred",
         "type": "scatter",
         "x": [
          "2020-06-22T00:00:00",
          "2020-06-23T00:00:00",
          "2020-06-24T00:00:00",
          "2020-06-25T00:00:00",
          "2020-06-29T00:00:00",
          "2020-06-30T00:00:00",
          "2020-07-01T00:00:00",
          "2020-07-02T00:00:00",
          "2020-07-03T00:00:00",
          "2020-07-06T00:00:00",
          "2020-07-07T00:00:00",
          "2020-07-08T00:00:00",
          "2020-07-09T00:00:00",
          "2020-07-10T00:00:00",
          "2020-07-13T00:00:00",
          "2020-07-14T00:00:00",
          "2020-07-15T00:00:00",
          "2020-07-16T00:00:00",
          "2020-07-17T00:00:00",
          "2020-07-20T00:00:00",
          "2020-07-21T00:00:00",
          "2020-07-22T00:00:00",
          "2020-07-23T00:00:00",
          "2020-07-24T00:00:00",
          "2020-07-27T00:00:00",
          "2020-07-30T00:00:00",
          "2020-07-31T00:00:00",
          "2020-08-03T00:00:00",
          "2020-08-04T00:00:00",
          "2020-08-05T00:00:00",
          "2020-08-06T00:00:00",
          "2020-08-07T00:00:00",
          "2020-08-10T00:00:00",
          "2020-08-11T00:00:00",
          "2020-08-12T00:00:00",
          "2020-08-13T00:00:00",
          "2020-08-17T00:00:00",
          "2020-08-18T00:00:00",
          "2020-08-19T00:00:00",
          "2020-08-20T00:00:00"
         ],
         "y": [
          115.8787612915039,
          115.72691345214844,
          116.22666931152344,
          117.49185180664062,
          116.27692413330078,
          112.80664825439453,
          112.55278015136719,
          113.37081909179688,
          113.93458557128906,
          113.62907409667969,
          115.20343017578125,
          116.48075866699219,
          115.83644104003906,
          115.90377044677734,
          115.71670532226562,
          114.9720687866211,
          114.43549346923828,
          116.0702133178711,
          116.77832794189453,
          116.89476776123047,
          116.15888214111328,
          115.46351623535156,
          115.0291976928711,
          114.14742279052734,
          111.9941177368164,
          106.84088134765625,
          107.74363708496094,
          108.25599670410156,
          109.13948822021484,
          110.77339935302734,
          112.04657745361328,
          114.00371551513672,
          115.34010314941406,
          115.39559936523438,
          114.37317657470703,
          114.73361206054688,
          115.78044128417969,
          116.29412841796875,
          116.29631805419922,
          115.43229675292969
         ]
        }
       ],
       "layout": {
        "template": {
         "data": {
          "bar": [
           {
            "error_x": {
             "color": "#2a3f5f"
            },
            "error_y": {
             "color": "#2a3f5f"
            },
            "marker": {
             "line": {
              "color": "#E5ECF6",
              "width": 0.5
             }
            },
            "type": "bar"
           }
          ],
          "barpolar": [
           {
            "marker": {
             "line": {
              "color": "#E5ECF6",
              "width": 0.5
             }
            },
            "type": "barpolar"
           }
          ],
          "carpet": [
           {
            "aaxis": {
             "endlinecolor": "#2a3f5f",
             "gridcolor": "white",
             "linecolor": "white",
             "minorgridcolor": "white",
             "startlinecolor": "#2a3f5f"
            },
            "baxis": {
             "endlinecolor": "#2a3f5f",
             "gridcolor": "white",
             "linecolor": "white",
             "minorgridcolor": "white",
             "startlinecolor": "#2a3f5f"
            },
            "type": "carpet"
           }
          ],
          "choropleth": [
           {
            "colorbar": {
             "outlinewidth": 0,
             "ticks": ""
            },
            "type": "choropleth"
           }
          ],
          "contour": [
           {
            "colorbar": {
             "outlinewidth": 0,
             "ticks": ""
            },
            "colorscale": [
             [
              0,
              "#0d0887"
             ],
             [
              0.1111111111111111,
              "#46039f"
             ],
             [
              0.2222222222222222,
              "#7201a8"
             ],
             [
              0.3333333333333333,
              "#9c179e"
             ],
             [
              0.4444444444444444,
              "#bd3786"
             ],
             [
              0.5555555555555556,
              "#d8576b"
             ],
             [
              0.6666666666666666,
              "#ed7953"
             ],
             [
              0.7777777777777778,
              "#fb9f3a"
             ],
             [
              0.8888888888888888,
              "#fdca26"
             ],
             [
              1,
              "#f0f921"
             ]
            ],
            "type": "contour"
           }
          ],
          "contourcarpet": [
           {
            "colorbar": {
             "outlinewidth": 0,
             "ticks": ""
            },
            "type": "contourcarpet"
           }
          ],
          "heatmap": [
           {
            "colorbar": {
             "outlinewidth": 0,
             "ticks": ""
            },
            "colorscale": [
             [
              0,
              "#0d0887"
             ],
             [
              0.1111111111111111,
              "#46039f"
             ],
             [
              0.2222222222222222,
              "#7201a8"
             ],
             [
              0.3333333333333333,
              "#9c179e"
             ],
             [
              0.4444444444444444,
              "#bd3786"
             ],
             [
              0.5555555555555556,
              "#d8576b"
             ],
             [
              0.6666666666666666,
              "#ed7953"
             ],
             [
              0.7777777777777778,
              "#fb9f3a"
             ],
             [
              0.8888888888888888,
              "#fdca26"
             ],
             [
              1,
              "#f0f921"
             ]
            ],
            "type": "heatmap"
           }
          ],
          "heatmapgl": [
           {
            "colorbar": {
             "outlinewidth": 0,
             "ticks": ""
            },
            "colorscale": [
             [
              0,
              "#0d0887"
             ],
             [
              0.1111111111111111,
              "#46039f"
             ],
             [
              0.2222222222222222,
              "#7201a8"
             ],
             [
              0.3333333333333333,
              "#9c179e"
             ],
             [
              0.4444444444444444,
              "#bd3786"
             ],
             [
              0.5555555555555556,
              "#d8576b"
             ],
             [
              0.6666666666666666,
              "#ed7953"
             ],
             [
              0.7777777777777778,
              "#fb9f3a"
             ],
             [
              0.8888888888888888,
              "#fdca26"
             ],
             [
              1,
              "#f0f921"
             ]
            ],
            "type": "heatmapgl"
           }
          ],
          "histogram": [
           {
            "marker": {
             "colorbar": {
              "outlinewidth": 0,
              "ticks": ""
             }
            },
            "type": "histogram"
           }
          ],
          "histogram2d": [
           {
            "colorbar": {
             "outlinewidth": 0,
             "ticks": ""
            },
            "colorscale": [
             [
              0,
              "#0d0887"
             ],
             [
              0.1111111111111111,
              "#46039f"
             ],
             [
              0.2222222222222222,
              "#7201a8"
             ],
             [
              0.3333333333333333,
              "#9c179e"
             ],
             [
              0.4444444444444444,
              "#bd3786"
             ],
             [
              0.5555555555555556,
              "#d8576b"
             ],
             [
              0.6666666666666666,
              "#ed7953"
             ],
             [
              0.7777777777777778,
              "#fb9f3a"
             ],
             [
              0.8888888888888888,
              "#fdca26"
             ],
             [
              1,
              "#f0f921"
             ]
            ],
            "type": "histogram2d"
           }
          ],
          "histogram2dcontour": [
           {
            "colorbar": {
             "outlinewidth": 0,
             "ticks": ""
            },
            "colorscale": [
             [
              0,
              "#0d0887"
             ],
             [
              0.1111111111111111,
              "#46039f"
             ],
             [
              0.2222222222222222,
              "#7201a8"
             ],
             [
              0.3333333333333333,
              "#9c179e"
             ],
             [
              0.4444444444444444,
              "#bd3786"
             ],
             [
              0.5555555555555556,
              "#d8576b"
             ],
             [
              0.6666666666666666,
              "#ed7953"
             ],
             [
              0.7777777777777778,
              "#fb9f3a"
             ],
             [
              0.8888888888888888,
              "#fdca26"
             ],
             [
              1,
              "#f0f921"
             ]
            ],
            "type": "histogram2dcontour"
           }
          ],
          "mesh3d": [
           {
            "colorbar": {
             "outlinewidth": 0,
             "ticks": ""
            },
            "type": "mesh3d"
           }
          ],
          "parcoords": [
           {
            "line": {
             "colorbar": {
              "outlinewidth": 0,
              "ticks": ""
             }
            },
            "type": "parcoords"
           }
          ],
          "pie": [
           {
            "automargin": true,
            "type": "pie"
           }
          ],
          "scatter": [
           {
            "marker": {
             "colorbar": {
              "outlinewidth": 0,
              "ticks": ""
             }
            },
            "type": "scatter"
           }
          ],
          "scatter3d": [
           {
            "line": {
             "colorbar": {
              "outlinewidth": 0,
              "ticks": ""
             }
            },
            "marker": {
             "colorbar": {
              "outlinewidth": 0,
              "ticks": ""
             }
            },
            "type": "scatter3d"
           }
          ],
          "scattercarpet": [
           {
            "marker": {
             "colorbar": {
              "outlinewidth": 0,
              "ticks": ""
             }
            },
            "type": "scattercarpet"
           }
          ],
          "scattergeo": [
           {
            "marker": {
             "colorbar": {
              "outlinewidth": 0,
              "ticks": ""
             }
            },
            "type": "scattergeo"
           }
          ],
          "scattergl": [
           {
            "marker": {
             "colorbar": {
              "outlinewidth": 0,
              "ticks": ""
             }
            },
            "type": "scattergl"
           }
          ],
          "scattermapbox": [
           {
            "marker": {
             "colorbar": {
              "outlinewidth": 0,
              "ticks": ""
             }
            },
            "type": "scattermapbox"
           }
          ],
          "scatterpolar": [
           {
            "marker": {
             "colorbar": {
              "outlinewidth": 0,
              "ticks": ""
             }
            },
            "type": "scatterpolar"
           }
          ],
          "scatterpolargl": [
           {
            "marker": {
             "colorbar": {
              "outlinewidth": 0,
              "ticks": ""
             }
            },
            "type": "scatterpolargl"
           }
          ],
          "scatterternary": [
           {
            "marker": {
             "colorbar": {
              "outlinewidth": 0,
              "ticks": ""
             }
            },
            "type": "scatterternary"
           }
          ],
          "surface": [
           {
            "colorbar": {
             "outlinewidth": 0,
             "ticks": ""
            },
            "colorscale": [
             [
              0,
              "#0d0887"
             ],
             [
              0.1111111111111111,
              "#46039f"
             ],
             [
              0.2222222222222222,
              "#7201a8"
             ],
             [
              0.3333333333333333,
              "#9c179e"
             ],
             [
              0.4444444444444444,
              "#bd3786"
             ],
             [
              0.5555555555555556,
              "#d8576b"
             ],
             [
              0.6666666666666666,
              "#ed7953"
             ],
             [
              0.7777777777777778,
              "#fb9f3a"
             ],
             [
              0.8888888888888888,
              "#fdca26"
             ],
             [
              1,
              "#f0f921"
             ]
            ],
            "type": "surface"
           }
          ],
          "table": [
           {
            "cells": {
             "fill": {
              "color": "#EBF0F8"
             },
             "line": {
              "color": "white"
             }
            },
            "header": {
             "fill": {
              "color": "#C8D4E3"
             },
             "line": {
              "color": "white"
             }
            },
            "type": "table"
           }
          ]
         },
         "layout": {
          "annotationdefaults": {
           "arrowcolor": "#2a3f5f",
           "arrowhead": 0,
           "arrowwidth": 1
          },
          "coloraxis": {
           "colorbar": {
            "outlinewidth": 0,
            "ticks": ""
           }
          },
          "colorscale": {
           "diverging": [
            [
             0,
             "#8e0152"
            ],
            [
             0.1,
             "#c51b7d"
            ],
            [
             0.2,
             "#de77ae"
            ],
            [
             0.3,
             "#f1b6da"
            ],
            [
             0.4,
             "#fde0ef"
            ],
            [
             0.5,
             "#f7f7f7"
            ],
            [
             0.6,
             "#e6f5d0"
            ],
            [
             0.7,
             "#b8e186"
            ],
            [
             0.8,
             "#7fbc41"
            ],
            [
             0.9,
             "#4d9221"
            ],
            [
             1,
             "#276419"
            ]
           ],
           "sequential": [
            [
             0,
             "#0d0887"
            ],
            [
             0.1111111111111111,
             "#46039f"
            ],
            [
             0.2222222222222222,
             "#7201a8"
            ],
            [
             0.3333333333333333,
             "#9c179e"
            ],
            [
             0.4444444444444444,
             "#bd3786"
            ],
            [
             0.5555555555555556,
             "#d8576b"
            ],
            [
             0.6666666666666666,
             "#ed7953"
            ],
            [
             0.7777777777777778,
             "#fb9f3a"
            ],
            [
             0.8888888888888888,
             "#fdca26"
            ],
            [
             1,
             "#f0f921"
            ]
           ],
           "sequentialminus": [
            [
             0,
             "#0d0887"
            ],
            [
             0.1111111111111111,
             "#46039f"
            ],
            [
             0.2222222222222222,
             "#7201a8"
            ],
            [
             0.3333333333333333,
             "#9c179e"
            ],
            [
             0.4444444444444444,
             "#bd3786"
            ],
            [
             0.5555555555555556,
             "#d8576b"
            ],
            [
             0.6666666666666666,
             "#ed7953"
            ],
            [
             0.7777777777777778,
             "#fb9f3a"
            ],
            [
             0.8888888888888888,
             "#fdca26"
            ],
            [
             1,
             "#f0f921"
            ]
           ]
          },
          "colorway": [
           "#636efa",
           "#EF553B",
           "#00cc96",
           "#ab63fa",
           "#FFA15A",
           "#19d3f3",
           "#FF6692",
           "#B6E880",
           "#FF97FF",
           "#FECB52"
          ],
          "font": {
           "color": "#2a3f5f"
          },
          "geo": {
           "bgcolor": "white",
           "lakecolor": "white",
           "landcolor": "#E5ECF6",
           "showlakes": true,
           "showland": true,
           "subunitcolor": "white"
          },
          "hoverlabel": {
           "align": "left"
          },
          "hovermode": "closest",
          "mapbox": {
           "style": "light"
          },
          "paper_bgcolor": "white",
          "plot_bgcolor": "#E5ECF6",
          "polar": {
           "angularaxis": {
            "gridcolor": "white",
            "linecolor": "white",
            "ticks": ""
           },
           "bgcolor": "#E5ECF6",
           "radialaxis": {
            "gridcolor": "white",
            "linecolor": "white",
            "ticks": ""
           }
          },
          "scene": {
           "xaxis": {
            "backgroundcolor": "#E5ECF6",
            "gridcolor": "white",
            "gridwidth": 2,
            "linecolor": "white",
            "showbackground": true,
            "ticks": "",
            "zerolinecolor": "white"
           },
           "yaxis": {
            "backgroundcolor": "#E5ECF6",
            "gridcolor": "white",
            "gridwidth": 2,
            "linecolor": "white",
            "showbackground": true,
            "ticks": "",
            "zerolinecolor": "white"
           },
           "zaxis": {
            "backgroundcolor": "#E5ECF6",
            "gridcolor": "white",
            "gridwidth": 2,
            "linecolor": "white",
            "showbackground": true,
            "ticks": "",
            "zerolinecolor": "white"
           }
          },
          "shapedefaults": {
           "line": {
            "color": "#2a3f5f"
           }
          },
          "ternary": {
           "aaxis": {
            "gridcolor": "white",
            "linecolor": "white",
            "ticks": ""
           },
           "baxis": {
            "gridcolor": "white",
            "linecolor": "white",
            "ticks": ""
           },
           "bgcolor": "#E5ECF6",
           "caxis": {
            "gridcolor": "white",
            "linecolor": "white",
            "ticks": ""
           }
          },
          "title": {
           "x": 0.05
          },
          "xaxis": {
           "automargin": true,
           "gridcolor": "white",
           "linecolor": "white",
           "ticks": "",
           "title": {
            "standoff": 15
           },
           "zerolinecolor": "white",
           "zerolinewidth": 2
          },
          "yaxis": {
           "automargin": true,
           "gridcolor": "white",
           "linecolor": "white",
           "ticks": "",
           "title": {
            "standoff": 15
           },
           "zerolinecolor": "white",
           "zerolinewidth": 2
          }
         }
        }
       }
      }
     },
     "metadata": {}
    }
   ],
   "source": [
    "fig = go.Figure()\n",
    "\n",
    "fig.add_trace(\n",
    "    go.Scatter(\n",
    "        name='real',\n",
    "        x=df.iloc[-40:,:]['date'],\n",
    "        y=real.flatten()\n",
    "    )\n",
    ")\n",
    "\n",
    "fig.add_trace(\n",
    "    go.Scatter(\n",
    "        name='pred',\n",
    "        x=df.iloc[-40:,:]['date'],\n",
    "        y=predicted_stock_price.flatten()\n",
    "    )\n",
    ")\n",
    "fig.show()"
   ]
  },
  {
   "cell_type": "code",
   "execution_count": 40,
   "metadata": {},
   "outputs": [
    {
     "output_type": "execute_result",
     "data": {
      "text/plain": "5.409361499134738"
     },
     "metadata": {},
     "execution_count": 40
    }
   ],
   "source": [
    "mean_squared_error(real, predicted_stock_price)"
   ]
  },
  {
   "cell_type": "code",
   "execution_count": null,
   "metadata": {},
   "outputs": [],
   "source": [
    "0.08086984669252982"
   ]
  }
 ],
 "metadata": {
  "kernelspec": {
   "display_name": "Python 3",
   "language": "python",
   "name": "python3"
  },
  "language_info": {
   "codemirror_mode": {
    "name": "ipython",
    "version": 3
   },
   "file_extension": ".py",
   "mimetype": "text/x-python",
   "name": "python",
   "nbconvert_exporter": "python",
   "pygments_lexer": "ipython3",
   "version": "3.7.7-final"
  }
 },
 "nbformat": 4,
 "nbformat_minor": 4
}