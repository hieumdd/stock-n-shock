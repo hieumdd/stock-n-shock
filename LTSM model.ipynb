{
 "cells": [
  {
   "cell_type": "code",
   "execution_count": 1,
   "metadata": {},
   "outputs": [],
   "source": [
    "import numpy as np\n",
    "import pandas as pd\n",
    "import plotly.graph_objects as go\n",
    "from sqlalchemy import create_engine\n",
    "import os\n",
    "import matplotlib.pyplot as plt\n",
    "from sklearn.preprocessing import MinMaxScaler\n",
    "from sklearn.model_selection import train_test_split\n",
    "from tensorflow.keras.models import Sequential\n",
    "from tensorflow.keras.layers import Dense, LSTM, Dropout\n",
    "from tensorflow.keras.callbacks import EarlyStopping\n",
    "from sklearn.metrics import mean_squared_error, mean_absolute_error"
   ]
  },
  {
   "cell_type": "code",
   "execution_count": 2,
   "metadata": {},
   "outputs": [],
   "source": [
    "cnxn = create_engine('sqlite:///vn.db')"
   ]
  },
  {
   "cell_type": "code",
   "execution_count": 3,
   "metadata": {},
   "outputs": [],
   "source": [
    "query = \"SELECT * FROM HSX WHERE ticker = 'PVT' ORDER BY date\""
   ]
  },
  {
   "cell_type": "code",
   "execution_count": 4,
   "metadata": {},
   "outputs": [],
   "source": [
    "df = pd.read_sql(query, cnxn, parse_dates=['date'])"
   ]
  },
  {
   "cell_type": "code",
   "execution_count": 5,
   "metadata": {},
   "outputs": [
    {
     "output_type": "execute_result",
     "data": {
      "text/plain": "     ticker       date  open  high    low  close     volume\n1795    PVT 2020-08-26  10.9  11.4  10.90  11.20  3453880.0\n1796    PVT 2020-08-27  11.2  11.3  11.10  11.20  1019160.0\n1797    PVT 2020-08-28  11.4  11.5  11.30  11.35  2365230.0\n1798    PVT 2020-09-01  11.7  12.0  11.65  11.90  2974670.0\n1799    PVT 2020-09-03  12.0  12.1  11.75  11.85  2647810.0",
      "text/html": "<div>\n<style scoped>\n    .dataframe tbody tr th:only-of-type {\n        vertical-align: middle;\n    }\n\n    .dataframe tbody tr th {\n        vertical-align: top;\n    }\n\n    .dataframe thead th {\n        text-align: right;\n    }\n</style>\n<table border=\"1\" class=\"dataframe\">\n  <thead>\n    <tr style=\"text-align: right;\">\n      <th></th>\n      <th>ticker</th>\n      <th>date</th>\n      <th>open</th>\n      <th>high</th>\n      <th>low</th>\n      <th>close</th>\n      <th>volume</th>\n    </tr>\n  </thead>\n  <tbody>\n    <tr>\n      <th>1795</th>\n      <td>PVT</td>\n      <td>2020-08-26</td>\n      <td>10.9</td>\n      <td>11.4</td>\n      <td>10.90</td>\n      <td>11.20</td>\n      <td>3453880.0</td>\n    </tr>\n    <tr>\n      <th>1796</th>\n      <td>PVT</td>\n      <td>2020-08-27</td>\n      <td>11.2</td>\n      <td>11.3</td>\n      <td>11.10</td>\n      <td>11.20</td>\n      <td>1019160.0</td>\n    </tr>\n    <tr>\n      <th>1797</th>\n      <td>PVT</td>\n      <td>2020-08-28</td>\n      <td>11.4</td>\n      <td>11.5</td>\n      <td>11.30</td>\n      <td>11.35</td>\n      <td>2365230.0</td>\n    </tr>\n    <tr>\n      <th>1798</th>\n      <td>PVT</td>\n      <td>2020-09-01</td>\n      <td>11.7</td>\n      <td>12.0</td>\n      <td>11.65</td>\n      <td>11.90</td>\n      <td>2974670.0</td>\n    </tr>\n    <tr>\n      <th>1799</th>\n      <td>PVT</td>\n      <td>2020-09-03</td>\n      <td>12.0</td>\n      <td>12.1</td>\n      <td>11.75</td>\n      <td>11.85</td>\n      <td>2647810.0</td>\n    </tr>\n  </tbody>\n</table>\n</div>"
     },
     "metadata": {},
     "execution_count": 5
    }
   ],
   "source": [
    "df.tail()"
   ]
  },
  {
   "cell_type": "code",
   "execution_count": 10,
   "metadata": {},
   "outputs": [],
   "source": [
    "df['mid'] = (df['high'] + df['low']) / 2"
   ]
  },
  {
   "cell_type": "code",
   "execution_count": 9,
   "metadata": {},
   "outputs": [],
   "source": [
    "df['close_change'] = df['close'] - df['close'].shift(-1)"
   ]
  },
  {
   "cell_type": "code",
   "execution_count": 10,
   "metadata": {},
   "outputs": [],
   "source": [
    "def change_classify(x):\n",
    "    if x < 0:\n",
    "        y = 0\n",
    "    else:\n",
    "        y = 1\n",
    "    return y"
   ]
  },
  {
   "cell_type": "code",
   "execution_count": 12,
   "metadata": {},
   "outputs": [],
   "source": [
    "df['close_change_classified'] = df['close_change'].apply(change_classify)"
   ]
  },
  {
   "cell_type": "code",
   "execution_count": 15,
   "metadata": {},
   "outputs": [],
   "source": [
    "df = pd.get_dummies(df, columns=['close_change_classified'])"
   ]
  },
  {
   "cell_type": "code",
   "execution_count": 17,
   "metadata": {},
   "outputs": [],
   "source": [
    "train_set = df.iloc[:-40,-2:]\n",
    "test_set = df.iloc[-40:,-2:]"
   ]
  },
  {
   "cell_type": "code",
   "execution_count": 18,
   "metadata": {},
   "outputs": [],
   "source": [
    "day_to_window = 90"
   ]
  },
  {
   "cell_type": "code",
   "execution_count": 19,
   "metadata": {},
   "outputs": [],
   "source": [
    "sc = MinMaxScaler(feature_range=(0,1))\n",
    "stage_train = sc.fit_transform(train_set.values.reshape(-1,1))\n",
    "X_train = []\n",
    "y_train = []\n",
    "for i in range(day_to_window, len(stage_train)):\n",
    "    X_train.append(stage_train[i-day_to_window:i, :])\n",
    "    y_train.append(stage_train[i, :])\n",
    "X_train, y_train = np.array(X_train), np.array(y_train)\n",
    "X_train = np.reshape(X_train, (X_train.shape[0], X_train.shape[1], 1))"
   ]
  },
  {
   "cell_type": "code",
   "execution_count": 20,
   "metadata": {},
   "outputs": [],
   "source": [
    "dataset_total = pd.concat((train_set, test_set), axis = 0)\n",
    "inputs = dataset_total[len(df) - len(test_set) - day_to_window:].values\n",
    "inputs = inputs.reshape(-1,1)\n",
    "inputs = sc.transform(inputs)\n",
    "X_test = []\n",
    "y_test = []\n",
    "for i in range(day_to_window, day_to_window + len(test_set)):\n",
    "    X_test.append(inputs[i-day_to_window:i, :])\n",
    "    y_test.append(inputs[i, :])\n",
    "X_test = np.array(X_test)\n",
    "y_test = np.array(y_test)\n",
    "X_test = np.reshape(X_test, (X_test.shape[0], X_test.shape[1], 1))"
   ]
  },
  {
   "cell_type": "code",
   "execution_count": 22,
   "metadata": {
    "tags": []
   },
   "outputs": [
    {
     "output_type": "stream",
     "name": "stdout",
     "text": "Epoch 1/200\n108/108 [==============================] - 9s 85ms/step - loss: 0.6941 - accuracy: 0.4848 - val_loss: 0.6933 - val_accuracy: 0.5000\nEpoch 2/200\n108/108 [==============================] - 8s 76ms/step - loss: 0.6938 - accuracy: 0.4921 - val_loss: 0.6932 - val_accuracy: 0.5000\nEpoch 3/200\n108/108 [==============================] - 9s 80ms/step - loss: 0.6936 - accuracy: 0.5017 - val_loss: 0.6931 - val_accuracy: 0.5000\nEpoch 4/200\n108/108 [==============================] - 9s 81ms/step - loss: 0.6935 - accuracy: 0.4843 - val_loss: 0.6931 - val_accuracy: 0.5000\nEpoch 5/200\n108/108 [==============================] - 10s 89ms/step - loss: 0.6935 - accuracy: 0.5020 - val_loss: 0.6931 - val_accuracy: 0.5000\nEpoch 6/200\n108/108 [==============================] - 9s 85ms/step - loss: 0.6936 - accuracy: 0.4854 - val_loss: 0.6931 - val_accuracy: 0.5000\nEpoch 7/200\n108/108 [==============================] - 10s 96ms/step - loss: 0.6932 - accuracy: 0.4939 - val_loss: 0.6931 - val_accuracy: 0.5000\nEpoch 8/200\n108/108 [==============================] - 10s 90ms/step - loss: 0.6934 - accuracy: 0.4921 - val_loss: 0.6931 - val_accuracy: 0.5000\nEpoch 9/200\n108/108 [==============================] - 9s 84ms/step - loss: 0.6932 - accuracy: 0.4977 - val_loss: 0.6927 - val_accuracy: 0.6000\nEpoch 10/200\n108/108 [==============================] - 9s 82ms/step - loss: 0.6919 - accuracy: 0.5251 - val_loss: 0.6859 - val_accuracy: 0.5750\nEpoch 11/200\n108/108 [==============================] - 9s 83ms/step - loss: 0.5667 - accuracy: 0.7035 - val_loss: 0.4230 - val_accuracy: 0.8000\nEpoch 12/200\n108/108 [==============================] - 8s 78ms/step - loss: 0.4415 - accuracy: 0.7641 - val_loss: 0.4301 - val_accuracy: 0.7500\nEpoch 13/200\n108/108 [==============================] - 9s 79ms/step - loss: 0.3828 - accuracy: 0.7799 - val_loss: 0.4156 - val_accuracy: 0.7000\nEpoch 14/200\n108/108 [==============================] - 8s 77ms/step - loss: 0.3564 - accuracy: 0.7778 - val_loss: 0.4155 - val_accuracy: 0.7000\nEpoch 15/200\n108/108 [==============================] - 8s 77ms/step - loss: 0.3585 - accuracy: 0.7857 - val_loss: 0.3882 - val_accuracy: 0.7000\nEpoch 16/200\n108/108 [==============================] - 8s 77ms/step - loss: 0.3516 - accuracy: 0.7825 - val_loss: 0.3679 - val_accuracy: 0.6750\nEpoch 17/200\n108/108 [==============================] - 8s 78ms/step - loss: 0.3490 - accuracy: 0.7889 - val_loss: 0.3797 - val_accuracy: 0.7000\nEpoch 18/200\n108/108 [==============================] - 9s 79ms/step - loss: 0.3467 - accuracy: 0.7895 - val_loss: 0.3963 - val_accuracy: 0.7000\nEpoch 19/200\n108/108 [==============================] - 8s 77ms/step - loss: 0.3450 - accuracy: 0.7892 - val_loss: 0.3743 - val_accuracy: 0.7000\nEpoch 20/200\n108/108 [==============================] - 9s 80ms/step - loss: 0.3471 - accuracy: 0.7869 - val_loss: 0.3790 - val_accuracy: 0.7000\nEpoch 21/200\n108/108 [==============================] - 8s 77ms/step - loss: 0.3468 - accuracy: 0.7866 - val_loss: 0.3641 - val_accuracy: 0.7000\nEpoch 22/200\n108/108 [==============================] - 8s 77ms/step - loss: 0.3467 - accuracy: 0.7863 - val_loss: 0.3716 - val_accuracy: 0.7000\nEpoch 23/200\n108/108 [==============================] - 8s 78ms/step - loss: 0.3457 - accuracy: 0.7834 - val_loss: 0.3711 - val_accuracy: 0.7000\nEpoch 24/200\n108/108 [==============================] - 9s 79ms/step - loss: 0.3449 - accuracy: 0.7921 - val_loss: 0.3798 - val_accuracy: 0.7000\nEpoch 25/200\n108/108 [==============================] - 8s 77ms/step - loss: 0.3451 - accuracy: 0.7880 - val_loss: 0.3848 - val_accuracy: 0.7000\nEpoch 26/200\n108/108 [==============================] - 8s 77ms/step - loss: 0.3435 - accuracy: 0.7895 - val_loss: 0.3715 - val_accuracy: 0.7000\nEpoch 27/200\n108/108 [==============================] - 9s 83ms/step - loss: 0.3445 - accuracy: 0.7907 - val_loss: 0.3919 - val_accuracy: 0.7000\nEpoch 28/200\n108/108 [==============================] - 9s 87ms/step - loss: 0.3456 - accuracy: 0.7866 - val_loss: 0.3769 - val_accuracy: 0.7500\nEpoch 29/200\n108/108 [==============================] - 9s 86ms/step - loss: 0.3433 - accuracy: 0.7825 - val_loss: 0.3958 - val_accuracy: 0.7000\nEpoch 30/200\n108/108 [==============================] - 9s 88ms/step - loss: 0.3413 - accuracy: 0.7956 - val_loss: 0.3801 - val_accuracy: 0.7000\nEpoch 31/200\n108/108 [==============================] - 8s 76ms/step - loss: 0.3406 - accuracy: 0.7904 - val_loss: 0.3725 - val_accuracy: 0.7000\nEpoch 32/200\n108/108 [==============================] - 8s 76ms/step - loss: 0.3404 - accuracy: 0.7936 - val_loss: 0.3828 - val_accuracy: 0.7000\nEpoch 33/200\n108/108 [==============================] - 8s 78ms/step - loss: 0.3411 - accuracy: 0.7939 - val_loss: 0.3779 - val_accuracy: 0.7000\nEpoch 34/200\n108/108 [==============================] - 9s 81ms/step - loss: 0.3397 - accuracy: 0.7950 - val_loss: 0.3878 - val_accuracy: 0.7000\nEpoch 35/200\n108/108 [==============================] - 9s 81ms/step - loss: 0.3399 - accuracy: 0.7927 - val_loss: 0.3874 - val_accuracy: 0.7000\nEpoch 36/200\n108/108 [==============================] - 9s 79ms/step - loss: 0.3415 - accuracy: 0.7921 - val_loss: 0.3851 - val_accuracy: 0.7000\nEpoch 37/200\n108/108 [==============================] - 9s 79ms/step - loss: 0.3400 - accuracy: 0.7959 - val_loss: 0.3857 - val_accuracy: 0.7000\nEpoch 38/200\n108/108 [==============================] - 8s 77ms/step - loss: 0.3391 - accuracy: 0.7971 - val_loss: 0.3785 - val_accuracy: 0.7000\nEpoch 39/200\n108/108 [==============================] - 9s 79ms/step - loss: 0.3382 - accuracy: 0.7918 - val_loss: 0.3686 - val_accuracy: 0.7000\nEpoch 40/200\n108/108 [==============================] - 8s 78ms/step - loss: 0.3395 - accuracy: 0.7892 - val_loss: 0.3784 - val_accuracy: 0.7000\nEpoch 41/200\n108/108 [==============================] - 8s 78ms/step - loss: 0.3398 - accuracy: 0.7948 - val_loss: 0.3784 - val_accuracy: 0.7000\nEpoch 42/200\n108/108 [==============================] - 9s 83ms/step - loss: 0.3396 - accuracy: 0.7939 - val_loss: 0.3861 - val_accuracy: 0.7000\nEpoch 43/200\n108/108 [==============================] - 9s 83ms/step - loss: 0.3402 - accuracy: 0.7927 - val_loss: 0.3802 - val_accuracy: 0.7000\nEpoch 44/200\n108/108 [==============================] - 8s 75ms/step - loss: 0.3383 - accuracy: 0.7945 - val_loss: 0.3838 - val_accuracy: 0.7000\nEpoch 45/200\n108/108 [==============================] - 8s 76ms/step - loss: 0.3365 - accuracy: 0.8015 - val_loss: 0.3734 - val_accuracy: 0.7000\nEpoch 46/200\n108/108 [==============================] - 9s 79ms/step - loss: 0.3371 - accuracy: 0.7962 - val_loss: 0.3839 - val_accuracy: 0.7000\nEpoch 47/200\n108/108 [==============================] - 8s 78ms/step - loss: 0.3371 - accuracy: 0.7956 - val_loss: 0.3889 - val_accuracy: 0.7000\nEpoch 48/200\n108/108 [==============================] - 9s 79ms/step - loss: 0.3373 - accuracy: 0.7974 - val_loss: 0.3804 - val_accuracy: 0.7000\nEpoch 49/200\n108/108 [==============================] - 9s 82ms/step - loss: 0.3362 - accuracy: 0.8017 - val_loss: 0.3764 - val_accuracy: 0.7000\nEpoch 50/200\n108/108 [==============================] - 9s 81ms/step - loss: 0.3367 - accuracy: 0.7974 - val_loss: 0.3909 - val_accuracy: 0.7000\nEpoch 51/200\n108/108 [==============================] - 8s 78ms/step - loss: 0.3383 - accuracy: 0.7965 - val_loss: 0.3880 - val_accuracy: 0.7000\nEpoch 52/200\n108/108 [==============================] - 9s 80ms/step - loss: 0.3356 - accuracy: 0.8032 - val_loss: 0.3782 - val_accuracy: 0.7000\nEpoch 53/200\n108/108 [==============================] - 8s 77ms/step - loss: 0.3373 - accuracy: 0.8003 - val_loss: 0.3817 - val_accuracy: 0.6750\nEpoch 54/200\n108/108 [==============================] - 8s 78ms/step - loss: 0.3360 - accuracy: 0.7971 - val_loss: 0.3854 - val_accuracy: 0.7000\nEpoch 55/200\n108/108 [==============================] - 8s 76ms/step - loss: 0.3367 - accuracy: 0.7985 - val_loss: 0.3827 - val_accuracy: 0.7000\nEpoch 56/200\n108/108 [==============================] - 8s 77ms/step - loss: 0.3362 - accuracy: 0.7974 - val_loss: 0.3824 - val_accuracy: 0.7000\nEpoch 57/200\n108/108 [==============================] - 8s 76ms/step - loss: 0.3533 - accuracy: 0.7907 - val_loss: 0.3818 - val_accuracy: 0.7250\nEpoch 58/200\n108/108 [==============================] - 9s 80ms/step - loss: 0.3360 - accuracy: 0.7974 - val_loss: 0.3836 - val_accuracy: 0.6500\nEpoch 59/200\n108/108 [==============================] - 8s 77ms/step - loss: 0.3357 - accuracy: 0.7953 - val_loss: 0.3911 - val_accuracy: 0.7000\nEpoch 60/200\n108/108 [==============================] - 8s 78ms/step - loss: 0.3353 - accuracy: 0.8003 - val_loss: 0.3860 - val_accuracy: 0.7000\nEpoch 61/200\n108/108 [==============================] - 8s 77ms/step - loss: 0.3373 - accuracy: 0.7950 - val_loss: 0.3865 - val_accuracy: 0.7000\nEpoch 62/200\n108/108 [==============================] - 9s 83ms/step - loss: 0.3358 - accuracy: 0.8000 - val_loss: 0.3940 - val_accuracy: 0.7000\nEpoch 63/200\n108/108 [==============================] - 9s 86ms/step - loss: 0.3354 - accuracy: 0.8000 - val_loss: 0.4095 - val_accuracy: 0.7000\nEpoch 64/200\n108/108 [==============================] - 8s 78ms/step - loss: 0.3343 - accuracy: 0.8026 - val_loss: 0.3858 - val_accuracy: 0.6750\nEpoch 65/200\n108/108 [==============================] - 9s 79ms/step - loss: 0.3366 - accuracy: 0.7945 - val_loss: 0.3895 - val_accuracy: 0.7000\nEpoch 66/200\n108/108 [==============================] - 8s 79ms/step - loss: 0.3354 - accuracy: 0.7988 - val_loss: 0.3906 - val_accuracy: 0.7000\nEpoch 67/200\n108/108 [==============================] - 8s 77ms/step - loss: 0.3340 - accuracy: 0.8015 - val_loss: 0.3892 - val_accuracy: 0.7000\nEpoch 68/200\n108/108 [==============================] - 8s 76ms/step - loss: 0.3336 - accuracy: 0.8026 - val_loss: 0.3823 - val_accuracy: 0.7000\nEpoch 69/200\n108/108 [==============================] - 9s 79ms/step - loss: 0.3347 - accuracy: 0.8003 - val_loss: 0.3978 - val_accuracy: 0.7000\nEpoch 70/200\n108/108 [==============================] - 9s 79ms/step - loss: 0.3352 - accuracy: 0.7994 - val_loss: 0.4003 - val_accuracy: 0.7000\nEpoch 71/200\n108/108 [==============================] - 9s 86ms/step - loss: 0.3351 - accuracy: 0.7988 - val_loss: 0.3983 - val_accuracy: 0.7000\nEpoch 72/200\n108/108 [==============================] - 9s 83ms/step - loss: 0.3329 - accuracy: 0.8052 - val_loss: 0.3783 - val_accuracy: 0.7250\nEpoch 73/200\n108/108 [==============================] - 9s 79ms/step - loss: 0.3327 - accuracy: 0.8017 - val_loss: 0.4055 - val_accuracy: 0.7000\nEpoch 74/200\n108/108 [==============================] - 9s 82ms/step - loss: 0.3341 - accuracy: 0.8006 - val_loss: 0.4003 - val_accuracy: 0.7000\nEpoch 75/200\n108/108 [==============================] - 9s 80ms/step - loss: 0.3329 - accuracy: 0.8029 - val_loss: 0.3891 - val_accuracy: 0.7000\nEpoch 76/200\n108/108 [==============================] - 8s 76ms/step - loss: 0.3346 - accuracy: 0.8012 - val_loss: 0.3800 - val_accuracy: 0.6750\nEpoch 77/200\n108/108 [==============================] - 8s 76ms/step - loss: 0.3328 - accuracy: 0.8032 - val_loss: 0.3863 - val_accuracy: 0.7000\nEpoch 78/200\n108/108 [==============================] - 8s 76ms/step - loss: 0.3330 - accuracy: 0.8012 - val_loss: 0.3942 - val_accuracy: 0.7000\nEpoch 79/200\n 71/108 [==================>...........] - ETA: 2s - loss: 0.3276 - accuracy: 0.7971"
    },
    {
     "output_type": "error",
     "ename": "KeyboardInterrupt",
     "evalue": "",
     "traceback": [
      "\u001b[1;31m---------------------------------------------------------------------------\u001b[0m",
      "\u001b[1;31mKeyboardInterrupt\u001b[0m                         Traceback (most recent call last)",
      "\u001b[1;32m<ipython-input-22-0ded53c5d9ed>\u001b[0m in \u001b[0;36m<module>\u001b[1;34m\u001b[0m\n\u001b[0;32m     19\u001b[0m \u001b[0mearly_stopping\u001b[0m \u001b[1;33m=\u001b[0m \u001b[0mEarlyStopping\u001b[0m\u001b[1;33m(\u001b[0m\u001b[0mmonitor\u001b[0m\u001b[1;33m=\u001b[0m\u001b[1;34m'val_loss'\u001b[0m\u001b[1;33m,\u001b[0m \u001b[0mpatience\u001b[0m\u001b[1;33m=\u001b[0m\u001b[1;36m5\u001b[0m\u001b[1;33m)\u001b[0m\u001b[1;33m\u001b[0m\u001b[1;33m\u001b[0m\u001b[0m\n\u001b[0;32m     20\u001b[0m \u001b[1;33m\u001b[0m\u001b[0m\n\u001b[1;32m---> 21\u001b[1;33m \u001b[0mnn\u001b[0m \u001b[1;33m=\u001b[0m \u001b[0mmodel\u001b[0m\u001b[1;33m.\u001b[0m\u001b[0mfit\u001b[0m\u001b[1;33m(\u001b[0m\u001b[0mX_train\u001b[0m\u001b[1;33m,\u001b[0m \u001b[0my_train\u001b[0m\u001b[1;33m,\u001b[0m \u001b[0mvalidation_data\u001b[0m\u001b[1;33m=\u001b[0m\u001b[1;33m(\u001b[0m\u001b[0mX_test\u001b[0m\u001b[1;33m,\u001b[0m \u001b[0my_test\u001b[0m\u001b[1;33m)\u001b[0m\u001b[1;33m,\u001b[0m \u001b[0mepochs\u001b[0m \u001b[1;33m=\u001b[0m \u001b[1;36m200\u001b[0m\u001b[1;33m)\u001b[0m\u001b[1;31m#, batch_size = 32)\u001b[0m\u001b[1;33m\u001b[0m\u001b[1;33m\u001b[0m\u001b[0m\n\u001b[0m",
      "\u001b[1;32m~\\Anaconda3\\lib\\site-packages\\tensorflow\\python\\keras\\engine\\training.py\u001b[0m in \u001b[0;36m_method_wrapper\u001b[1;34m(self, *args, **kwargs)\u001b[0m\n\u001b[0;32m     64\u001b[0m   \u001b[1;32mdef\u001b[0m \u001b[0m_method_wrapper\u001b[0m\u001b[1;33m(\u001b[0m\u001b[0mself\u001b[0m\u001b[1;33m,\u001b[0m \u001b[1;33m*\u001b[0m\u001b[0margs\u001b[0m\u001b[1;33m,\u001b[0m \u001b[1;33m**\u001b[0m\u001b[0mkwargs\u001b[0m\u001b[1;33m)\u001b[0m\u001b[1;33m:\u001b[0m\u001b[1;33m\u001b[0m\u001b[1;33m\u001b[0m\u001b[0m\n\u001b[0;32m     65\u001b[0m     \u001b[1;32mif\u001b[0m \u001b[1;32mnot\u001b[0m \u001b[0mself\u001b[0m\u001b[1;33m.\u001b[0m\u001b[0m_in_multi_worker_mode\u001b[0m\u001b[1;33m(\u001b[0m\u001b[1;33m)\u001b[0m\u001b[1;33m:\u001b[0m  \u001b[1;31m# pylint: disable=protected-access\u001b[0m\u001b[1;33m\u001b[0m\u001b[1;33m\u001b[0m\u001b[0m\n\u001b[1;32m---> 66\u001b[1;33m       \u001b[1;32mreturn\u001b[0m \u001b[0mmethod\u001b[0m\u001b[1;33m(\u001b[0m\u001b[0mself\u001b[0m\u001b[1;33m,\u001b[0m \u001b[1;33m*\u001b[0m\u001b[0margs\u001b[0m\u001b[1;33m,\u001b[0m \u001b[1;33m**\u001b[0m\u001b[0mkwargs\u001b[0m\u001b[1;33m)\u001b[0m\u001b[1;33m\u001b[0m\u001b[1;33m\u001b[0m\u001b[0m\n\u001b[0m\u001b[0;32m     67\u001b[0m \u001b[1;33m\u001b[0m\u001b[0m\n\u001b[0;32m     68\u001b[0m     \u001b[1;31m# Running inside `run_distribute_coordinator` already.\u001b[0m\u001b[1;33m\u001b[0m\u001b[1;33m\u001b[0m\u001b[1;33m\u001b[0m\u001b[0m\n",
      "\u001b[1;32m~\\Anaconda3\\lib\\site-packages\\tensorflow\\python\\keras\\engine\\training.py\u001b[0m in \u001b[0;36mfit\u001b[1;34m(self, x, y, batch_size, epochs, verbose, callbacks, validation_split, validation_data, shuffle, class_weight, sample_weight, initial_epoch, steps_per_epoch, validation_steps, validation_batch_size, validation_freq, max_queue_size, workers, use_multiprocessing)\u001b[0m\n\u001b[0;32m    846\u001b[0m                 batch_size=batch_size):\n\u001b[0;32m    847\u001b[0m               \u001b[0mcallbacks\u001b[0m\u001b[1;33m.\u001b[0m\u001b[0mon_train_batch_begin\u001b[0m\u001b[1;33m(\u001b[0m\u001b[0mstep\u001b[0m\u001b[1;33m)\u001b[0m\u001b[1;33m\u001b[0m\u001b[1;33m\u001b[0m\u001b[0m\n\u001b[1;32m--> 848\u001b[1;33m               \u001b[0mtmp_logs\u001b[0m \u001b[1;33m=\u001b[0m \u001b[0mtrain_function\u001b[0m\u001b[1;33m(\u001b[0m\u001b[0miterator\u001b[0m\u001b[1;33m)\u001b[0m\u001b[1;33m\u001b[0m\u001b[1;33m\u001b[0m\u001b[0m\n\u001b[0m\u001b[0;32m    849\u001b[0m               \u001b[1;31m# Catch OutOfRangeError for Datasets of unknown size.\u001b[0m\u001b[1;33m\u001b[0m\u001b[1;33m\u001b[0m\u001b[1;33m\u001b[0m\u001b[0m\n\u001b[0;32m    850\u001b[0m               \u001b[1;31m# This blocks until the batch has finished executing.\u001b[0m\u001b[1;33m\u001b[0m\u001b[1;33m\u001b[0m\u001b[1;33m\u001b[0m\u001b[0m\n",
      "\u001b[1;32m~\\Anaconda3\\lib\\site-packages\\tensorflow\\python\\eager\\def_function.py\u001b[0m in \u001b[0;36m__call__\u001b[1;34m(self, *args, **kwds)\u001b[0m\n\u001b[0;32m    578\u001b[0m         \u001b[0mxla_context\u001b[0m\u001b[1;33m.\u001b[0m\u001b[0mExit\u001b[0m\u001b[1;33m(\u001b[0m\u001b[1;33m)\u001b[0m\u001b[1;33m\u001b[0m\u001b[1;33m\u001b[0m\u001b[0m\n\u001b[0;32m    579\u001b[0m     \u001b[1;32melse\u001b[0m\u001b[1;33m:\u001b[0m\u001b[1;33m\u001b[0m\u001b[1;33m\u001b[0m\u001b[0m\n\u001b[1;32m--> 580\u001b[1;33m       \u001b[0mresult\u001b[0m \u001b[1;33m=\u001b[0m \u001b[0mself\u001b[0m\u001b[1;33m.\u001b[0m\u001b[0m_call\u001b[0m\u001b[1;33m(\u001b[0m\u001b[1;33m*\u001b[0m\u001b[0margs\u001b[0m\u001b[1;33m,\u001b[0m \u001b[1;33m**\u001b[0m\u001b[0mkwds\u001b[0m\u001b[1;33m)\u001b[0m\u001b[1;33m\u001b[0m\u001b[1;33m\u001b[0m\u001b[0m\n\u001b[0m\u001b[0;32m    581\u001b[0m \u001b[1;33m\u001b[0m\u001b[0m\n\u001b[0;32m    582\u001b[0m     \u001b[1;32mif\u001b[0m \u001b[0mtracing_count\u001b[0m \u001b[1;33m==\u001b[0m \u001b[0mself\u001b[0m\u001b[1;33m.\u001b[0m\u001b[0m_get_tracing_count\u001b[0m\u001b[1;33m(\u001b[0m\u001b[1;33m)\u001b[0m\u001b[1;33m:\u001b[0m\u001b[1;33m\u001b[0m\u001b[1;33m\u001b[0m\u001b[0m\n",
      "\u001b[1;32m~\\Anaconda3\\lib\\site-packages\\tensorflow\\python\\eager\\def_function.py\u001b[0m in \u001b[0;36m_call\u001b[1;34m(self, *args, **kwds)\u001b[0m\n\u001b[0;32m    609\u001b[0m       \u001b[1;31m# In this case we have created variables on the first call, so we run the\u001b[0m\u001b[1;33m\u001b[0m\u001b[1;33m\u001b[0m\u001b[1;33m\u001b[0m\u001b[0m\n\u001b[0;32m    610\u001b[0m       \u001b[1;31m# defunned version which is guaranteed to never create variables.\u001b[0m\u001b[1;33m\u001b[0m\u001b[1;33m\u001b[0m\u001b[1;33m\u001b[0m\u001b[0m\n\u001b[1;32m--> 611\u001b[1;33m       \u001b[1;32mreturn\u001b[0m \u001b[0mself\u001b[0m\u001b[1;33m.\u001b[0m\u001b[0m_stateless_fn\u001b[0m\u001b[1;33m(\u001b[0m\u001b[1;33m*\u001b[0m\u001b[0margs\u001b[0m\u001b[1;33m,\u001b[0m \u001b[1;33m**\u001b[0m\u001b[0mkwds\u001b[0m\u001b[1;33m)\u001b[0m  \u001b[1;31m# pylint: disable=not-callable\u001b[0m\u001b[1;33m\u001b[0m\u001b[1;33m\u001b[0m\u001b[0m\n\u001b[0m\u001b[0;32m    612\u001b[0m     \u001b[1;32melif\u001b[0m \u001b[0mself\u001b[0m\u001b[1;33m.\u001b[0m\u001b[0m_stateful_fn\u001b[0m \u001b[1;32mis\u001b[0m \u001b[1;32mnot\u001b[0m \u001b[1;32mNone\u001b[0m\u001b[1;33m:\u001b[0m\u001b[1;33m\u001b[0m\u001b[1;33m\u001b[0m\u001b[0m\n\u001b[0;32m    613\u001b[0m       \u001b[1;31m# Release the lock early so that multiple threads can perform the call\u001b[0m\u001b[1;33m\u001b[0m\u001b[1;33m\u001b[0m\u001b[1;33m\u001b[0m\u001b[0m\n",
      "\u001b[1;32m~\\Anaconda3\\lib\\site-packages\\tensorflow\\python\\eager\\function.py\u001b[0m in \u001b[0;36m__call__\u001b[1;34m(self, *args, **kwargs)\u001b[0m\n\u001b[0;32m   2418\u001b[0m     \u001b[1;32mwith\u001b[0m \u001b[0mself\u001b[0m\u001b[1;33m.\u001b[0m\u001b[0m_lock\u001b[0m\u001b[1;33m:\u001b[0m\u001b[1;33m\u001b[0m\u001b[1;33m\u001b[0m\u001b[0m\n\u001b[0;32m   2419\u001b[0m       \u001b[0mgraph_function\u001b[0m\u001b[1;33m,\u001b[0m \u001b[0margs\u001b[0m\u001b[1;33m,\u001b[0m \u001b[0mkwargs\u001b[0m \u001b[1;33m=\u001b[0m \u001b[0mself\u001b[0m\u001b[1;33m.\u001b[0m\u001b[0m_maybe_define_function\u001b[0m\u001b[1;33m(\u001b[0m\u001b[0margs\u001b[0m\u001b[1;33m,\u001b[0m \u001b[0mkwargs\u001b[0m\u001b[1;33m)\u001b[0m\u001b[1;33m\u001b[0m\u001b[1;33m\u001b[0m\u001b[0m\n\u001b[1;32m-> 2420\u001b[1;33m     \u001b[1;32mreturn\u001b[0m \u001b[0mgraph_function\u001b[0m\u001b[1;33m.\u001b[0m\u001b[0m_filtered_call\u001b[0m\u001b[1;33m(\u001b[0m\u001b[0margs\u001b[0m\u001b[1;33m,\u001b[0m \u001b[0mkwargs\u001b[0m\u001b[1;33m)\u001b[0m  \u001b[1;31m# pylint: disable=protected-access\u001b[0m\u001b[1;33m\u001b[0m\u001b[1;33m\u001b[0m\u001b[0m\n\u001b[0m\u001b[0;32m   2421\u001b[0m \u001b[1;33m\u001b[0m\u001b[0m\n\u001b[0;32m   2422\u001b[0m   \u001b[1;33m@\u001b[0m\u001b[0mproperty\u001b[0m\u001b[1;33m\u001b[0m\u001b[1;33m\u001b[0m\u001b[0m\n",
      "\u001b[1;32m~\\Anaconda3\\lib\\site-packages\\tensorflow\\python\\eager\\function.py\u001b[0m in \u001b[0;36m_filtered_call\u001b[1;34m(self, args, kwargs)\u001b[0m\n\u001b[0;32m   1663\u001b[0m          if isinstance(t, (ops.Tensor,\n\u001b[0;32m   1664\u001b[0m                            resource_variable_ops.BaseResourceVariable))),\n\u001b[1;32m-> 1665\u001b[1;33m         self.captured_inputs)\n\u001b[0m\u001b[0;32m   1666\u001b[0m \u001b[1;33m\u001b[0m\u001b[0m\n\u001b[0;32m   1667\u001b[0m   \u001b[1;32mdef\u001b[0m \u001b[0m_call_flat\u001b[0m\u001b[1;33m(\u001b[0m\u001b[0mself\u001b[0m\u001b[1;33m,\u001b[0m \u001b[0margs\u001b[0m\u001b[1;33m,\u001b[0m \u001b[0mcaptured_inputs\u001b[0m\u001b[1;33m,\u001b[0m \u001b[0mcancellation_manager\u001b[0m\u001b[1;33m=\u001b[0m\u001b[1;32mNone\u001b[0m\u001b[1;33m)\u001b[0m\u001b[1;33m:\u001b[0m\u001b[1;33m\u001b[0m\u001b[1;33m\u001b[0m\u001b[0m\n",
      "\u001b[1;32m~\\Anaconda3\\lib\\site-packages\\tensorflow\\python\\eager\\function.py\u001b[0m in \u001b[0;36m_call_flat\u001b[1;34m(self, args, captured_inputs, cancellation_manager)\u001b[0m\n\u001b[0;32m   1744\u001b[0m       \u001b[1;31m# No tape is watching; skip to running the function.\u001b[0m\u001b[1;33m\u001b[0m\u001b[1;33m\u001b[0m\u001b[1;33m\u001b[0m\u001b[0m\n\u001b[0;32m   1745\u001b[0m       return self._build_call_outputs(self._inference_function.call(\n\u001b[1;32m-> 1746\u001b[1;33m           ctx, args, cancellation_manager=cancellation_manager))\n\u001b[0m\u001b[0;32m   1747\u001b[0m     forward_backward = self._select_forward_and_backward_functions(\n\u001b[0;32m   1748\u001b[0m         \u001b[0margs\u001b[0m\u001b[1;33m,\u001b[0m\u001b[1;33m\u001b[0m\u001b[1;33m\u001b[0m\u001b[0m\n",
      "\u001b[1;32m~\\Anaconda3\\lib\\site-packages\\tensorflow\\python\\eager\\function.py\u001b[0m in \u001b[0;36mcall\u001b[1;34m(self, ctx, args, cancellation_manager)\u001b[0m\n\u001b[0;32m    596\u001b[0m               \u001b[0minputs\u001b[0m\u001b[1;33m=\u001b[0m\u001b[0margs\u001b[0m\u001b[1;33m,\u001b[0m\u001b[1;33m\u001b[0m\u001b[1;33m\u001b[0m\u001b[0m\n\u001b[0;32m    597\u001b[0m               \u001b[0mattrs\u001b[0m\u001b[1;33m=\u001b[0m\u001b[0mattrs\u001b[0m\u001b[1;33m,\u001b[0m\u001b[1;33m\u001b[0m\u001b[1;33m\u001b[0m\u001b[0m\n\u001b[1;32m--> 598\u001b[1;33m               ctx=ctx)\n\u001b[0m\u001b[0;32m    599\u001b[0m         \u001b[1;32melse\u001b[0m\u001b[1;33m:\u001b[0m\u001b[1;33m\u001b[0m\u001b[1;33m\u001b[0m\u001b[0m\n\u001b[0;32m    600\u001b[0m           outputs = execute.execute_with_cancellation(\n",
      "\u001b[1;32m~\\Anaconda3\\lib\\site-packages\\tensorflow\\python\\eager\\execute.py\u001b[0m in \u001b[0;36mquick_execute\u001b[1;34m(op_name, num_outputs, inputs, attrs, ctx, name)\u001b[0m\n\u001b[0;32m     58\u001b[0m     \u001b[0mctx\u001b[0m\u001b[1;33m.\u001b[0m\u001b[0mensure_initialized\u001b[0m\u001b[1;33m(\u001b[0m\u001b[1;33m)\u001b[0m\u001b[1;33m\u001b[0m\u001b[1;33m\u001b[0m\u001b[0m\n\u001b[0;32m     59\u001b[0m     tensors = pywrap_tfe.TFE_Py_Execute(ctx._handle, device_name, op_name,\n\u001b[1;32m---> 60\u001b[1;33m                                         inputs, attrs, num_outputs)\n\u001b[0m\u001b[0;32m     61\u001b[0m   \u001b[1;32mexcept\u001b[0m \u001b[0mcore\u001b[0m\u001b[1;33m.\u001b[0m\u001b[0m_NotOkStatusException\u001b[0m \u001b[1;32mas\u001b[0m \u001b[0me\u001b[0m\u001b[1;33m:\u001b[0m\u001b[1;33m\u001b[0m\u001b[1;33m\u001b[0m\u001b[0m\n\u001b[0;32m     62\u001b[0m     \u001b[1;32mif\u001b[0m \u001b[0mname\u001b[0m \u001b[1;32mis\u001b[0m \u001b[1;32mnot\u001b[0m \u001b[1;32mNone\u001b[0m\u001b[1;33m:\u001b[0m\u001b[1;33m\u001b[0m\u001b[1;33m\u001b[0m\u001b[0m\n",
      "\u001b[1;31mKeyboardInterrupt\u001b[0m: "
     ]
    }
   ],
   "source": [
    "model = Sequential()\n",
    "\n",
    "model.add(LSTM(50, return_sequences=True, input_shape=(X_train.shape[1], X_train.shape[2])))\n",
    "model.add(Dropout(0.2))\n",
    "\n",
    "model.add(LSTM(50, return_sequences=True))\n",
    "model.add(Dropout(0.2))\n",
    "\n",
    "model.add(LSTM(50, return_sequences=True))\n",
    "model.add(Dropout(0.2))\n",
    "\n",
    "model.add(LSTM(50))\n",
    "model.add(Dropout(0.2))\n",
    "\n",
    "model.add(Dense(1, activation='sigmoid'))\n",
    "\n",
    "model.compile(optimizer = 'adam', loss = 'binary_crossentropy', metrics=['accuracy'])\n",
    "\n",
    "early_stopping = EarlyStopping(monitor='val_loss', patience=5)\n",
    "\n",
    "nn = model.fit(X_train, y_train, validation_data=(X_test, y_test), epochs = 200)#, batch_size = 32)"
   ]
  },
  {
   "cell_type": "code",
   "execution_count": null,
   "metadata": {},
   "outputs": [],
   "source": [
    "fig, ax = plt.subplots()\n",
    "ax.plot(nn.history['loss'])\n",
    "ax.plot(nn.history['val_loss'], color='y')"
   ]
  },
  {
   "cell_type": "code",
   "execution_count": 13,
   "metadata": {},
   "outputs": [],
   "source": [
    "predicted_stock_price = model.predict(X_test)\n",
    "predicted_stock_price = sc.inverse_transform(predicted_stock_price)"
   ]
  },
  {
   "cell_type": "code",
   "execution_count": 14,
   "metadata": {},
   "outputs": [],
   "source": [
    "real = test_set.values"
   ]
  },
  {
   "cell_type": "code",
   "execution_count": 15,
   "metadata": {},
   "outputs": [
    {
     "output_type": "display_data",
     "data": {
      "application/vnd.plotly.v1+json": {
       "config": {
        "plotlyServerURL": "https://plot.ly"
       },
       "data": [
        {
         "name": "real",
         "type": "scatter",
         "x": [
          "2020-06-23T00:00:00",
          "2020-06-24T00:00:00",
          "2020-06-25T00:00:00",
          "2020-06-29T00:00:00",
          "2020-06-30T00:00:00",
          "2020-07-01T00:00:00",
          "2020-07-02T00:00:00",
          "2020-07-03T00:00:00",
          "2020-07-06T00:00:00",
          "2020-07-07T00:00:00",
          "2020-07-08T00:00:00",
          "2020-07-09T00:00:00",
          "2020-07-10T00:00:00",
          "2020-07-13T00:00:00",
          "2020-07-14T00:00:00",
          "2020-07-15T00:00:00",
          "2020-07-16T00:00:00",
          "2020-07-17T00:00:00",
          "2020-07-20T00:00:00",
          "2020-07-21T00:00:00",
          "2020-07-22T00:00:00",
          "2020-07-23T00:00:00",
          "2020-07-24T00:00:00",
          "2020-07-27T00:00:00",
          "2020-07-30T00:00:00",
          "2020-07-31T00:00:00",
          "2020-08-03T00:00:00",
          "2020-08-04T00:00:00",
          "2020-08-05T00:00:00",
          "2020-08-06T00:00:00",
          "2020-08-07T00:00:00",
          "2020-08-10T00:00:00",
          "2020-08-11T00:00:00",
          "2020-08-12T00:00:00",
          "2020-08-13T00:00:00",
          "2020-08-17T00:00:00",
          "2020-08-18T00:00:00",
          "2020-08-19T00:00:00",
          "2020-08-20T00:00:00",
          "2020-08-21T00:00:00"
         ],
         "y": [
          10.95,
          10.9,
          10.85,
          10.6,
          10.6,
          10.6,
          10.5,
          10.35,
          10.5,
          10.45,
          10.4,
          10.45,
          10.45,
          10.4,
          10.5,
          10.45,
          10.6,
          10.55,
          10.4,
          10.4,
          10.3,
          10.3,
          9.6,
          8.93,
          9.4,
          9.35,
          9.6,
          9.9,
          10.2,
          10.2,
          10.15,
          10.2,
          10.3,
          10.85,
          10.85,
          10.8,
          11,
          11,
          10.85,
          10.9
         ]
        },
        {
         "name": "pred",
         "type": "scatter",
         "x": [
          "2020-06-23T00:00:00",
          "2020-06-24T00:00:00",
          "2020-06-25T00:00:00",
          "2020-06-29T00:00:00",
          "2020-06-30T00:00:00",
          "2020-07-01T00:00:00",
          "2020-07-02T00:00:00",
          "2020-07-03T00:00:00",
          "2020-07-06T00:00:00",
          "2020-07-07T00:00:00",
          "2020-07-08T00:00:00",
          "2020-07-09T00:00:00",
          "2020-07-10T00:00:00",
          "2020-07-13T00:00:00",
          "2020-07-14T00:00:00",
          "2020-07-15T00:00:00",
          "2020-07-16T00:00:00",
          "2020-07-17T00:00:00",
          "2020-07-20T00:00:00",
          "2020-07-21T00:00:00",
          "2020-07-22T00:00:00",
          "2020-07-23T00:00:00",
          "2020-07-24T00:00:00",
          "2020-07-27T00:00:00",
          "2020-07-30T00:00:00",
          "2020-07-31T00:00:00",
          "2020-08-03T00:00:00",
          "2020-08-04T00:00:00",
          "2020-08-05T00:00:00",
          "2020-08-06T00:00:00",
          "2020-08-07T00:00:00",
          "2020-08-10T00:00:00",
          "2020-08-11T00:00:00",
          "2020-08-12T00:00:00",
          "2020-08-13T00:00:00",
          "2020-08-17T00:00:00",
          "2020-08-18T00:00:00",
          "2020-08-19T00:00:00",
          "2020-08-20T00:00:00",
          "2020-08-21T00:00:00"
         ],
         "y": [
          10.947216987609863,
          10.820106506347656,
          10.745458602905273,
          10.679452896118164,
          10.446527481079102,
          10.40966510772705,
          10.40784740447998,
          10.325824737548828,
          10.1853666305542,
          10.293913841247559,
          10.267399787902832,
          10.220724105834961,
          10.253655433654785,
          10.256901741027832,
          10.213094711303711,
          10.291098594665527,
          10.26003360748291,
          10.38557243347168,
          10.362618446350098,
          10.229682922363281,
          10.2061185836792,
          10.116133689880371,
          10.103472709655762,
          9.504120826721191,
          8.82381534576416,
          9.107770919799805,
          9.10983943939209,
          9.340940475463867,
          9.630461692810059,
          9.933830261230469,
          9.982046127319336,
          9.937361717224121,
          9.961302757263184,
          10.049561500549316,
          10.543990135192871,
          10.635053634643555,
          10.616238594055176,
          10.7864351272583,
          10.816978454589844,
          10.695443153381348
         ]
        }
       ],
       "layout": {
        "template": {
         "data": {
          "bar": [
           {
            "error_x": {
             "color": "#2a3f5f"
            },
            "error_y": {
             "color": "#2a3f5f"
            },
            "marker": {
             "line": {
              "color": "#E5ECF6",
              "width": 0.5
             }
            },
            "type": "bar"
           }
          ],
          "barpolar": [
           {
            "marker": {
             "line": {
              "color": "#E5ECF6",
              "width": 0.5
             }
            },
            "type": "barpolar"
           }
          ],
          "carpet": [
           {
            "aaxis": {
             "endlinecolor": "#2a3f5f",
             "gridcolor": "white",
             "linecolor": "white",
             "minorgridcolor": "white",
             "startlinecolor": "#2a3f5f"
            },
            "baxis": {
             "endlinecolor": "#2a3f5f",
             "gridcolor": "white",
             "linecolor": "white",
             "minorgridcolor": "white",
             "startlinecolor": "#2a3f5f"
            },
            "type": "carpet"
           }
          ],
          "choropleth": [
           {
            "colorbar": {
             "outlinewidth": 0,
             "ticks": ""
            },
            "type": "choropleth"
           }
          ],
          "contour": [
           {
            "colorbar": {
             "outlinewidth": 0,
             "ticks": ""
            },
            "colorscale": [
             [
              0,
              "#0d0887"
             ],
             [
              0.1111111111111111,
              "#46039f"
             ],
             [
              0.2222222222222222,
              "#7201a8"
             ],
             [
              0.3333333333333333,
              "#9c179e"
             ],
             [
              0.4444444444444444,
              "#bd3786"
             ],
             [
              0.5555555555555556,
              "#d8576b"
             ],
             [
              0.6666666666666666,
              "#ed7953"
             ],
             [
              0.7777777777777778,
              "#fb9f3a"
             ],
             [
              0.8888888888888888,
              "#fdca26"
             ],
             [
              1,
              "#f0f921"
             ]
            ],
            "type": "contour"
           }
          ],
          "contourcarpet": [
           {
            "colorbar": {
             "outlinewidth": 0,
             "ticks": ""
            },
            "type": "contourcarpet"
           }
          ],
          "heatmap": [
           {
            "colorbar": {
             "outlinewidth": 0,
             "ticks": ""
            },
            "colorscale": [
             [
              0,
              "#0d0887"
             ],
             [
              0.1111111111111111,
              "#46039f"
             ],
             [
              0.2222222222222222,
              "#7201a8"
             ],
             [
              0.3333333333333333,
              "#9c179e"
             ],
             [
              0.4444444444444444,
              "#bd3786"
             ],
             [
              0.5555555555555556,
              "#d8576b"
             ],
             [
              0.6666666666666666,
              "#ed7953"
             ],
             [
              0.7777777777777778,
              "#fb9f3a"
             ],
             [
              0.8888888888888888,
              "#fdca26"
             ],
             [
              1,
              "#f0f921"
             ]
            ],
            "type": "heatmap"
           }
          ],
          "heatmapgl": [
           {
            "colorbar": {
             "outlinewidth": 0,
             "ticks": ""
            },
            "colorscale": [
             [
              0,
              "#0d0887"
             ],
             [
              0.1111111111111111,
              "#46039f"
             ],
             [
              0.2222222222222222,
              "#7201a8"
             ],
             [
              0.3333333333333333,
              "#9c179e"
             ],
             [
              0.4444444444444444,
              "#bd3786"
             ],
             [
              0.5555555555555556,
              "#d8576b"
             ],
             [
              0.6666666666666666,
              "#ed7953"
             ],
             [
              0.7777777777777778,
              "#fb9f3a"
             ],
             [
              0.8888888888888888,
              "#fdca26"
             ],
             [
              1,
              "#f0f921"
             ]
            ],
            "type": "heatmapgl"
           }
          ],
          "histogram": [
           {
            "marker": {
             "colorbar": {
              "outlinewidth": 0,
              "ticks": ""
             }
            },
            "type": "histogram"
           }
          ],
          "histogram2d": [
           {
            "colorbar": {
             "outlinewidth": 0,
             "ticks": ""
            },
            "colorscale": [
             [
              0,
              "#0d0887"
             ],
             [
              0.1111111111111111,
              "#46039f"
             ],
             [
              0.2222222222222222,
              "#7201a8"
             ],
             [
              0.3333333333333333,
              "#9c179e"
             ],
             [
              0.4444444444444444,
              "#bd3786"
             ],
             [
              0.5555555555555556,
              "#d8576b"
             ],
             [
              0.6666666666666666,
              "#ed7953"
             ],
             [
              0.7777777777777778,
              "#fb9f3a"
             ],
             [
              0.8888888888888888,
              "#fdca26"
             ],
             [
              1,
              "#f0f921"
             ]
            ],
            "type": "histogram2d"
           }
          ],
          "histogram2dcontour": [
           {
            "colorbar": {
             "outlinewidth": 0,
             "ticks": ""
            },
            "colorscale": [
             [
              0,
              "#0d0887"
             ],
             [
              0.1111111111111111,
              "#46039f"
             ],
             [
              0.2222222222222222,
              "#7201a8"
             ],
             [
              0.3333333333333333,
              "#9c179e"
             ],
             [
              0.4444444444444444,
              "#bd3786"
             ],
             [
              0.5555555555555556,
              "#d8576b"
             ],
             [
              0.6666666666666666,
              "#ed7953"
             ],
             [
              0.7777777777777778,
              "#fb9f3a"
             ],
             [
              0.8888888888888888,
              "#fdca26"
             ],
             [
              1,
              "#f0f921"
             ]
            ],
            "type": "histogram2dcontour"
           }
          ],
          "mesh3d": [
           {
            "colorbar": {
             "outlinewidth": 0,
             "ticks": ""
            },
            "type": "mesh3d"
           }
          ],
          "parcoords": [
           {
            "line": {
             "colorbar": {
              "outlinewidth": 0,
              "ticks": ""
             }
            },
            "type": "parcoords"
           }
          ],
          "pie": [
           {
            "automargin": true,
            "type": "pie"
           }
          ],
          "scatter": [
           {
            "marker": {
             "colorbar": {
              "outlinewidth": 0,
              "ticks": ""
             }
            },
            "type": "scatter"
           }
          ],
          "scatter3d": [
           {
            "line": {
             "colorbar": {
              "outlinewidth": 0,
              "ticks": ""
             }
            },
            "marker": {
             "colorbar": {
              "outlinewidth": 0,
              "ticks": ""
             }
            },
            "type": "scatter3d"
           }
          ],
          "scattercarpet": [
           {
            "marker": {
             "colorbar": {
              "outlinewidth": 0,
              "ticks": ""
             }
            },
            "type": "scattercarpet"
           }
          ],
          "scattergeo": [
           {
            "marker": {
             "colorbar": {
              "outlinewidth": 0,
              "ticks": ""
             }
            },
            "type": "scattergeo"
           }
          ],
          "scattergl": [
           {
            "marker": {
             "colorbar": {
              "outlinewidth": 0,
              "ticks": ""
             }
            },
            "type": "scattergl"
           }
          ],
          "scattermapbox": [
           {
            "marker": {
             "colorbar": {
              "outlinewidth": 0,
              "ticks": ""
             }
            },
            "type": "scattermapbox"
           }
          ],
          "scatterpolar": [
           {
            "marker": {
             "colorbar": {
              "outlinewidth": 0,
              "ticks": ""
             }
            },
            "type": "scatterpolar"
           }
          ],
          "scatterpolargl": [
           {
            "marker": {
             "colorbar": {
              "outlinewidth": 0,
              "ticks": ""
             }
            },
            "type": "scatterpolargl"
           }
          ],
          "scatterternary": [
           {
            "marker": {
             "colorbar": {
              "outlinewidth": 0,
              "ticks": ""
             }
            },
            "type": "scatterternary"
           }
          ],
          "surface": [
           {
            "colorbar": {
             "outlinewidth": 0,
             "ticks": ""
            },
            "colorscale": [
             [
              0,
              "#0d0887"
             ],
             [
              0.1111111111111111,
              "#46039f"
             ],
             [
              0.2222222222222222,
              "#7201a8"
             ],
             [
              0.3333333333333333,
              "#9c179e"
             ],
             [
              0.4444444444444444,
              "#bd3786"
             ],
             [
              0.5555555555555556,
              "#d8576b"
             ],
             [
              0.6666666666666666,
              "#ed7953"
             ],
             [
              0.7777777777777778,
              "#fb9f3a"
             ],
             [
              0.8888888888888888,
              "#fdca26"
             ],
             [
              1,
              "#f0f921"
             ]
            ],
            "type": "surface"
           }
          ],
          "table": [
           {
            "cells": {
             "fill": {
              "color": "#EBF0F8"
             },
             "line": {
              "color": "white"
             }
            },
            "header": {
             "fill": {
              "color": "#C8D4E3"
             },
             "line": {
              "color": "white"
             }
            },
            "type": "table"
           }
          ]
         },
         "layout": {
          "annotationdefaults": {
           "arrowcolor": "#2a3f5f",
           "arrowhead": 0,
           "arrowwidth": 1
          },
          "coloraxis": {
           "colorbar": {
            "outlinewidth": 0,
            "ticks": ""
           }
          },
          "colorscale": {
           "diverging": [
            [
             0,
             "#8e0152"
            ],
            [
             0.1,
             "#c51b7d"
            ],
            [
             0.2,
             "#de77ae"
            ],
            [
             0.3,
             "#f1b6da"
            ],
            [
             0.4,
             "#fde0ef"
            ],
            [
             0.5,
             "#f7f7f7"
            ],
            [
             0.6,
             "#e6f5d0"
            ],
            [
             0.7,
             "#b8e186"
            ],
            [
             0.8,
             "#7fbc41"
            ],
            [
             0.9,
             "#4d9221"
            ],
            [
             1,
             "#276419"
            ]
           ],
           "sequential": [
            [
             0,
             "#0d0887"
            ],
            [
             0.1111111111111111,
             "#46039f"
            ],
            [
             0.2222222222222222,
             "#7201a8"
            ],
            [
             0.3333333333333333,
             "#9c179e"
            ],
            [
             0.4444444444444444,
             "#bd3786"
            ],
            [
             0.5555555555555556,
             "#d8576b"
            ],
            [
             0.6666666666666666,
             "#ed7953"
            ],
            [
             0.7777777777777778,
             "#fb9f3a"
            ],
            [
             0.8888888888888888,
             "#fdca26"
            ],
            [
             1,
             "#f0f921"
            ]
           ],
           "sequentialminus": [
            [
             0,
             "#0d0887"
            ],
            [
             0.1111111111111111,
             "#46039f"
            ],
            [
             0.2222222222222222,
             "#7201a8"
            ],
            [
             0.3333333333333333,
             "#9c179e"
            ],
            [
             0.4444444444444444,
             "#bd3786"
            ],
            [
             0.5555555555555556,
             "#d8576b"
            ],
            [
             0.6666666666666666,
             "#ed7953"
            ],
            [
             0.7777777777777778,
             "#fb9f3a"
            ],
            [
             0.8888888888888888,
             "#fdca26"
            ],
            [
             1,
             "#f0f921"
            ]
           ]
          },
          "colorway": [
           "#636efa",
           "#EF553B",
           "#00cc96",
           "#ab63fa",
           "#FFA15A",
           "#19d3f3",
           "#FF6692",
           "#B6E880",
           "#FF97FF",
           "#FECB52"
          ],
          "font": {
           "color": "#2a3f5f"
          },
          "geo": {
           "bgcolor": "white",
           "lakecolor": "white",
           "landcolor": "#E5ECF6",
           "showlakes": true,
           "showland": true,
           "subunitcolor": "white"
          },
          "hoverlabel": {
           "align": "left"
          },
          "hovermode": "closest",
          "mapbox": {
           "style": "light"
          },
          "paper_bgcolor": "white",
          "plot_bgcolor": "#E5ECF6",
          "polar": {
           "angularaxis": {
            "gridcolor": "white",
            "linecolor": "white",
            "ticks": ""
           },
           "bgcolor": "#E5ECF6",
           "radialaxis": {
            "gridcolor": "white",
            "linecolor": "white",
            "ticks": ""
           }
          },
          "scene": {
           "xaxis": {
            "backgroundcolor": "#E5ECF6",
            "gridcolor": "white",
            "gridwidth": 2,
            "linecolor": "white",
            "showbackground": true,
            "ticks": "",
            "zerolinecolor": "white"
           },
           "yaxis": {
            "backgroundcolor": "#E5ECF6",
            "gridcolor": "white",
            "gridwidth": 2,
            "linecolor": "white",
            "showbackground": true,
            "ticks": "",
            "zerolinecolor": "white"
           },
           "zaxis": {
            "backgroundcolor": "#E5ECF6",
            "gridcolor": "white",
            "gridwidth": 2,
            "linecolor": "white",
            "showbackground": true,
            "ticks": "",
            "zerolinecolor": "white"
           }
          },
          "shapedefaults": {
           "line": {
            "color": "#2a3f5f"
           }
          },
          "ternary": {
           "aaxis": {
            "gridcolor": "white",
            "linecolor": "white",
            "ticks": ""
           },
           "baxis": {
            "gridcolor": "white",
            "linecolor": "white",
            "ticks": ""
           },
           "bgcolor": "#E5ECF6",
           "caxis": {
            "gridcolor": "white",
            "linecolor": "white",
            "ticks": ""
           }
          },
          "title": {
           "x": 0.05
          },
          "xaxis": {
           "automargin": true,
           "gridcolor": "white",
           "linecolor": "white",
           "ticks": "",
           "title": {
            "standoff": 15
           },
           "zerolinecolor": "white",
           "zerolinewidth": 2
          },
          "yaxis": {
           "automargin": true,
           "gridcolor": "white",
           "linecolor": "white",
           "ticks": "",
           "title": {
            "standoff": 15
           },
           "zerolinecolor": "white",
           "zerolinewidth": 2
          }
         }
        }
       }
      }
     },
     "metadata": {}
    }
   ],
   "source": [
    "fig = go.Figure()\n",
    "\n",
    "fig.add_trace(\n",
    "    go.Scatter(\n",
    "        name='real',\n",
    "        x=df.iloc[-40:,:]['date'],\n",
    "        y=real.flatten()\n",
    "    )\n",
    ")\n",
    "\n",
    "fig.add_trace(\n",
    "    go.Scatter(\n",
    "        name='pred',\n",
    "        x=df.iloc[-40:,:]['date'],\n",
    "        y=predicted_stock_price.flatten()\n",
    "    )\n",
    ")\n",
    "fig.show()"
   ]
  },
  {
   "cell_type": "code",
   "execution_count": 40,
   "metadata": {},
   "outputs": [
    {
     "output_type": "execute_result",
     "data": {
      "text/plain": "5.409361499134738"
     },
     "metadata": {},
     "execution_count": 40
    }
   ],
   "source": [
    "mean_squared_error(real, predicted_stock_price)"
   ]
  },
  {
   "cell_type": "code",
   "execution_count": null,
   "metadata": {},
   "outputs": [],
   "source": [
    "0.08086984669252982"
   ]
  }
 ],
 "metadata": {
  "kernelspec": {
   "display_name": "Python 3",
   "language": "python",
   "name": "python3"
  },
  "language_info": {
   "codemirror_mode": {
    "name": "ipython",
    "version": 3
   },
   "file_extension": ".py",
   "mimetype": "text/x-python",
   "name": "python",
   "nbconvert_exporter": "python",
   "pygments_lexer": "ipython3",
   "version": "3.7.7-final"
  }
 },
 "nbformat": 4,
 "nbformat_minor": 4
}