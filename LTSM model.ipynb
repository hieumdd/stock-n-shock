{
 "cells": [
  {
   "cell_type": "code",
   "execution_count": 1,
   "metadata": {},
   "outputs": [],
   "source": [
    "import numpy as np\n",
    "import pandas as pd\n",
    "import plotly.graph_objects as go\n",
    "from sqlalchemy import create_engine\n",
    "import os\n",
    "import matplotlib.pyplot as plt\n",
    "from sklearn.preprocessing import MinMaxScaler\n",
    "from sklearn.model_selection import train_test_split\n",
    "from tensorflow.keras.models import Sequential\n",
    "from tensorflow.keras.layers import Dense, LSTM, Dropout\n",
    "from tensorflow.keras.callbacks import EarlyStopping\n",
    "from sklearn.metrics import mean_squared_error, mean_absolute_error"
   ]
  },
  {
   "cell_type": "code",
   "execution_count": 2,
   "metadata": {},
   "outputs": [],
   "source": [
    "cnxn = create_engine('sqlite:///vn.db')"
   ]
  },
  {
   "cell_type": "code",
   "execution_count": 3,
   "metadata": {},
   "outputs": [],
   "source": [
    "query = \"SELECT * FROM HSX WHERE ticker = 'PVT' ORDER BY date\""
   ]
  },
  {
   "cell_type": "code",
   "execution_count": 4,
   "metadata": {},
   "outputs": [],
   "source": [
    "df = pd.read_sql(query, cnxn, parse_dates=['date'])"
   ]
  },
  {
   "cell_type": "code",
   "execution_count": 5,
   "metadata": {},
   "outputs": [
    {
     "output_type": "execute_result",
     "data": {
      "text/plain": "     ticker       date   open   high   low  close     volume\n1790    PVT 2020-08-19  11.00  11.15  10.8  11.00   914130.0\n1791    PVT 2020-08-20  11.00  11.00  10.8  10.85   784810.0\n1792    PVT 2020-08-21  10.90  11.05  10.8  10.90  1543100.0\n1793    PVT 2020-08-24  11.00  11.10  10.9  11.00  2342890.0\n1794    PVT 2020-08-25  11.05  11.15  10.9  10.90  1547620.0",
      "text/html": "<div>\n<style scoped>\n    .dataframe tbody tr th:only-of-type {\n        vertical-align: middle;\n    }\n\n    .dataframe tbody tr th {\n        vertical-align: top;\n    }\n\n    .dataframe thead th {\n        text-align: right;\n    }\n</style>\n<table border=\"1\" class=\"dataframe\">\n  <thead>\n    <tr style=\"text-align: right;\">\n      <th></th>\n      <th>ticker</th>\n      <th>date</th>\n      <th>open</th>\n      <th>high</th>\n      <th>low</th>\n      <th>close</th>\n      <th>volume</th>\n    </tr>\n  </thead>\n  <tbody>\n    <tr>\n      <th>1790</th>\n      <td>PVT</td>\n      <td>2020-08-19</td>\n      <td>11.00</td>\n      <td>11.15</td>\n      <td>10.8</td>\n      <td>11.00</td>\n      <td>914130.0</td>\n    </tr>\n    <tr>\n      <th>1791</th>\n      <td>PVT</td>\n      <td>2020-08-20</td>\n      <td>11.00</td>\n      <td>11.00</td>\n      <td>10.8</td>\n      <td>10.85</td>\n      <td>784810.0</td>\n    </tr>\n    <tr>\n      <th>1792</th>\n      <td>PVT</td>\n      <td>2020-08-21</td>\n      <td>10.90</td>\n      <td>11.05</td>\n      <td>10.8</td>\n      <td>10.90</td>\n      <td>1543100.0</td>\n    </tr>\n    <tr>\n      <th>1793</th>\n      <td>PVT</td>\n      <td>2020-08-24</td>\n      <td>11.00</td>\n      <td>11.10</td>\n      <td>10.9</td>\n      <td>11.00</td>\n      <td>2342890.0</td>\n    </tr>\n    <tr>\n      <th>1794</th>\n      <td>PVT</td>\n      <td>2020-08-25</td>\n      <td>11.05</td>\n      <td>11.15</td>\n      <td>10.9</td>\n      <td>10.90</td>\n      <td>1547620.0</td>\n    </tr>\n  </tbody>\n</table>\n</div>"
     },
     "metadata": {},
     "execution_count": 5
    }
   ],
   "source": [
    "df.tail()"
   ]
  },
  {
   "cell_type": "code",
   "execution_count": 10,
   "metadata": {},
   "outputs": [],
   "source": [
    "df['mid'] = (df['high'] + df['low']) / 2"
   ]
  },
  {
   "cell_type": "code",
   "execution_count": 6,
   "metadata": {},
   "outputs": [],
   "source": [
    "train_set = df.iloc[:-40,:]['close']\n",
    "test_set = df.iloc[-40:,:]['close']"
   ]
  },
  {
   "cell_type": "code",
   "execution_count": 7,
   "metadata": {},
   "outputs": [],
   "source": [
    "day_to_window = 90"
   ]
  },
  {
   "cell_type": "code",
   "execution_count": 9,
   "metadata": {},
   "outputs": [],
   "source": [
    "sc = MinMaxScaler(feature_range=(0,1))\n",
    "stage_train = sc.fit_transform(train_set.values.reshape(-1,1))\n",
    "X_train = []\n",
    "y_train = []\n",
    "for i in range(day_to_window, len(stage_train)):\n",
    "    X_train.append(stage_train[i-day_to_window:i, :])\n",
    "    y_train.append(stage_train[i, :])\n",
    "X_train, y_train = np.array(X_train), np.array(y_train)\n",
    "X_train = np.reshape(X_train, (X_train.shape[0], X_train.shape[1], 1))"
   ]
  },
  {
   "cell_type": "code",
   "execution_count": 10,
   "metadata": {},
   "outputs": [],
   "source": [
    "dataset_total = pd.concat((train_set, test_set), axis = 0)\n",
    "inputs = dataset_total[len(df) - len(test_set) - day_to_window:].values\n",
    "inputs = inputs.reshape(-1,1)\n",
    "inputs = sc.transform(inputs)\n",
    "X_test = []\n",
    "y_test = []\n",
    "for i in range(day_to_window, day_to_window + len(test_set)):\n",
    "    X_test.append(inputs[i-day_to_window:i, :])\n",
    "    y_test.append(inputs[i, :])\n",
    "X_test = np.array(X_test)\n",
    "y_test = np.array(y_test)\n",
    "X_test = np.reshape(X_test, (X_test.shape[0], X_test.shape[1], 1))"
   ]
  },
  {
   "cell_type": "code",
   "execution_count": 11,
   "metadata": {
    "tags": [
     "outputPrepend"
    ]
   },
   "outputs": [
    {
     "output_type": "stream",
     "name": "stdout",
     "text": "e_error: 0.0172\nEpoch 86/200\n52/52 [==============================] - 4s 81ms/step - loss: 9.6992e-04 - mean_absolute_error: 0.0236 - val_loss: 3.4401e-04 - val_mean_absolute_error: 0.0136\nEpoch 87/200\n52/52 [==============================] - 4s 81ms/step - loss: 9.5956e-04 - mean_absolute_error: 0.0233 - val_loss: 2.9465e-04 - val_mean_absolute_error: 0.0113\nEpoch 88/200\n52/52 [==============================] - 4s 81ms/step - loss: 9.0367e-04 - mean_absolute_error: 0.0226 - val_loss: 2.5791e-04 - val_mean_absolute_error: 0.0100\nEpoch 89/200\n52/52 [==============================] - 4s 83ms/step - loss: 9.5004e-04 - mean_absolute_error: 0.0231 - val_loss: 2.5888e-04 - val_mean_absolute_error: 0.0099\nEpoch 90/200\n52/52 [==============================] - 4s 80ms/step - loss: 8.7055e-04 - mean_absolute_error: 0.0225 - val_loss: 4.1883e-04 - val_mean_absolute_error: 0.0167\nEpoch 91/200\n52/52 [==============================] - 4s 83ms/step - loss: 9.5642e-04 - mean_absolute_error: 0.0233 - val_loss: 3.5666e-04 - val_mean_absolute_error: 0.0140\nEpoch 92/200\n52/52 [==============================] - 4s 79ms/step - loss: 0.0010 - mean_absolute_error: 0.0244 - val_loss: 2.6758e-04 - val_mean_absolute_error: 0.0107\nEpoch 93/200\n52/52 [==============================] - 4s 80ms/step - loss: 0.0010 - mean_absolute_error: 0.0241 - val_loss: 2.5035e-04 - val_mean_absolute_error: 0.0099\nEpoch 94/200\n52/52 [==============================] - 4s 82ms/step - loss: 9.5615e-04 - mean_absolute_error: 0.0238 - val_loss: 3.1356e-04 - val_mean_absolute_error: 0.0130\nEpoch 95/200\n52/52 [==============================] - 4s 80ms/step - loss: 9.4278e-04 - mean_absolute_error: 0.0230 - val_loss: 3.0911e-04 - val_mean_absolute_error: 0.0128\nEpoch 96/200\n52/52 [==============================] - 4s 80ms/step - loss: 9.6048e-04 - mean_absolute_error: 0.0239 - val_loss: 2.3349e-04 - val_mean_absolute_error: 0.0095\nEpoch 97/200\n52/52 [==============================] - 4s 80ms/step - loss: 8.2325e-04 - mean_absolute_error: 0.0217 - val_loss: 2.3603e-04 - val_mean_absolute_error: 0.0098\nEpoch 98/200\n52/52 [==============================] - 4s 80ms/step - loss: 9.3945e-04 - mean_absolute_error: 0.0233 - val_loss: 8.3033e-04 - val_mean_absolute_error: 0.0255\nEpoch 99/200\n52/52 [==============================] - 4s 81ms/step - loss: 8.9408e-04 - mean_absolute_error: 0.0225 - val_loss: 2.6225e-04 - val_mean_absolute_error: 0.0112\nEpoch 100/200\n52/52 [==============================] - 4s 80ms/step - loss: 8.6836e-04 - mean_absolute_error: 0.0223 - val_loss: 2.3867e-04 - val_mean_absolute_error: 0.0099\nEpoch 101/200\n52/52 [==============================] - 4s 80ms/step - loss: 9.4635e-04 - mean_absolute_error: 0.0232 - val_loss: 3.7405e-04 - val_mean_absolute_error: 0.0151\nEpoch 102/200\n52/52 [==============================] - 4s 80ms/step - loss: 8.4221e-04 - mean_absolute_error: 0.0219 - val_loss: 2.1833e-04 - val_mean_absolute_error: 0.0093\nEpoch 103/200\n52/52 [==============================] - 4s 80ms/step - loss: 8.6010e-04 - mean_absolute_error: 0.0219 - val_loss: 7.6670e-04 - val_mean_absolute_error: 0.0242\nEpoch 104/200\n52/52 [==============================] - 4s 81ms/step - loss: 8.9594e-04 - mean_absolute_error: 0.0225 - val_loss: 3.7947e-04 - val_mean_absolute_error: 0.0153\nEpoch 105/200\n52/52 [==============================] - 4s 80ms/step - loss: 8.7441e-04 - mean_absolute_error: 0.0222 - val_loss: 2.2016e-04 - val_mean_absolute_error: 0.0093\nEpoch 106/200\n52/52 [==============================] - 4s 80ms/step - loss: 8.7213e-04 - mean_absolute_error: 0.0220 - val_loss: 5.2781e-04 - val_mean_absolute_error: 0.0202\nEpoch 107/200\n52/52 [==============================] - 4s 82ms/step - loss: 9.3942e-04 - mean_absolute_error: 0.0232 - val_loss: 3.9332e-04 - val_mean_absolute_error: 0.0169\nEpoch 108/200\n52/52 [==============================] - 4s 82ms/step - loss: 8.1406e-04 - mean_absolute_error: 0.0214 - val_loss: 2.4605e-04 - val_mean_absolute_error: 0.0109\nEpoch 109/200\n52/52 [==============================] - 4s 81ms/step - loss: 7.9801e-04 - mean_absolute_error: 0.0212 - val_loss: 4.7568e-04 - val_mean_absolute_error: 0.0180\nEpoch 110/200\n52/52 [==============================] - 4s 83ms/step - loss: 8.0180e-04 - mean_absolute_error: 0.0216 - val_loss: 2.0637e-04 - val_mean_absolute_error: 0.0088\nEpoch 111/200\n52/52 [==============================] - 4s 81ms/step - loss: 8.5570e-04 - mean_absolute_error: 0.0221 - val_loss: 2.2252e-04 - val_mean_absolute_error: 0.0098\nEpoch 112/200\n52/52 [==============================] - 4s 82ms/step - loss: 7.8279e-04 - mean_absolute_error: 0.0212 - val_loss: 2.1392e-04 - val_mean_absolute_error: 0.0093\nEpoch 113/200\n52/52 [==============================] - 4s 81ms/step - loss: 8.3210e-04 - mean_absolute_error: 0.0218 - val_loss: 3.7813e-04 - val_mean_absolute_error: 0.0154\nEpoch 114/200\n52/52 [==============================] - 4s 81ms/step - loss: 7.5640e-04 - mean_absolute_error: 0.0204 - val_loss: 2.6895e-04 - val_mean_absolute_error: 0.0119\nEpoch 115/200\n52/52 [==============================] - 4s 81ms/step - loss: 8.0046e-04 - mean_absolute_error: 0.0210 - val_loss: 2.1620e-04 - val_mean_absolute_error: 0.0098\nEpoch 116/200\n52/52 [==============================] - 4s 82ms/step - loss: 8.2150e-04 - mean_absolute_error: 0.0216 - val_loss: 2.2139e-04 - val_mean_absolute_error: 0.0100\nEpoch 117/200\n52/52 [==============================] - 4s 81ms/step - loss: 7.9027e-04 - mean_absolute_error: 0.0214 - val_loss: 2.1016e-04 - val_mean_absolute_error: 0.0095\nEpoch 118/200\n52/52 [==============================] - 4s 81ms/step - loss: 7.9951e-04 - mean_absolute_error: 0.0213 - val_loss: 2.1020e-04 - val_mean_absolute_error: 0.0093\nEpoch 119/200\n52/52 [==============================] - 4s 80ms/step - loss: 7.2616e-04 - mean_absolute_error: 0.0202 - val_loss: 3.1067e-04 - val_mean_absolute_error: 0.0133\nEpoch 120/200\n52/52 [==============================] - 4s 81ms/step - loss: 7.6745e-04 - mean_absolute_error: 0.0208 - val_loss: 2.8408e-04 - val_mean_absolute_error: 0.0124\nEpoch 121/200\n52/52 [==============================] - 4s 80ms/step - loss: 7.4659e-04 - mean_absolute_error: 0.0205 - val_loss: 2.6793e-04 - val_mean_absolute_error: 0.0118\nEpoch 122/200\n52/52 [==============================] - 4s 81ms/step - loss: 7.9115e-04 - mean_absolute_error: 0.0211 - val_loss: 2.7374e-04 - val_mean_absolute_error: 0.0120\nEpoch 123/200\n52/52 [==============================] - 4s 80ms/step - loss: 7.3244e-04 - mean_absolute_error: 0.0205 - val_loss: 2.2400e-04 - val_mean_absolute_error: 0.0102\nEpoch 124/200\n52/52 [==============================] - 4s 80ms/step - loss: 7.9346e-04 - mean_absolute_error: 0.0210 - val_loss: 2.0491e-04 - val_mean_absolute_error: 0.0092\nEpoch 125/200\n52/52 [==============================] - 4s 80ms/step - loss: 8.0356e-04 - mean_absolute_error: 0.0213 - val_loss: 2.0216e-04 - val_mean_absolute_error: 0.0090\nEpoch 126/200\n52/52 [==============================] - 4s 79ms/step - loss: 7.1342e-04 - mean_absolute_error: 0.0205 - val_loss: 2.5185e-04 - val_mean_absolute_error: 0.0118\nEpoch 127/200\n52/52 [==============================] - 4s 79ms/step - loss: 7.9679e-04 - mean_absolute_error: 0.0210 - val_loss: 2.3928e-04 - val_mean_absolute_error: 0.0113\nEpoch 128/200\n52/52 [==============================] - 4s 80ms/step - loss: 8.0936e-04 - mean_absolute_error: 0.0213 - val_loss: 2.9039e-04 - val_mean_absolute_error: 0.0127\nEpoch 129/200\n52/52 [==============================] - 4s 79ms/step - loss: 7.8009e-04 - mean_absolute_error: 0.0209 - val_loss: 2.6559e-04 - val_mean_absolute_error: 0.0118\nEpoch 130/200\n52/52 [==============================] - 4s 80ms/step - loss: 7.8596e-04 - mean_absolute_error: 0.0215 - val_loss: 2.0630e-04 - val_mean_absolute_error: 0.0095\nEpoch 131/200\n52/52 [==============================] - 4s 80ms/step - loss: 7.3601e-04 - mean_absolute_error: 0.0205 - val_loss: 2.4797e-04 - val_mean_absolute_error: 0.0113\nEpoch 132/200\n52/52 [==============================] - 4s 80ms/step - loss: 7.8446e-04 - mean_absolute_error: 0.0211 - val_loss: 2.4717e-04 - val_mean_absolute_error: 0.0113\nEpoch 133/200\n52/52 [==============================] - 4s 80ms/step - loss: 7.4738e-04 - mean_absolute_error: 0.0206 - val_loss: 1.9240e-04 - val_mean_absolute_error: 0.0087\nEpoch 134/200\n52/52 [==============================] - 4s 79ms/step - loss: 6.5587e-04 - mean_absolute_error: 0.0195 - val_loss: 2.3379e-04 - val_mean_absolute_error: 0.0107\nEpoch 135/200\n52/52 [==============================] - 4s 80ms/step - loss: 7.4304e-04 - mean_absolute_error: 0.0204 - val_loss: 3.1145e-04 - val_mean_absolute_error: 0.0134\nEpoch 136/200\n52/52 [==============================] - 4s 81ms/step - loss: 7.3561e-04 - mean_absolute_error: 0.0205 - val_loss: 3.0578e-04 - val_mean_absolute_error: 0.0133\nEpoch 137/200\n52/52 [==============================] - 4s 82ms/step - loss: 7.6971e-04 - mean_absolute_error: 0.0208 - val_loss: 2.1925e-04 - val_mean_absolute_error: 0.0101\nEpoch 138/200\n52/52 [==============================] - 4s 82ms/step - loss: 7.0691e-04 - mean_absolute_error: 0.0200 - val_loss: 1.9979e-04 - val_mean_absolute_error: 0.0091\nEpoch 139/200\n52/52 [==============================] - 4s 83ms/step - loss: 7.7122e-04 - mean_absolute_error: 0.0205 - val_loss: 2.0530e-04 - val_mean_absolute_error: 0.0093\nEpoch 140/200\n52/52 [==============================] - 4s 81ms/step - loss: 8.0314e-04 - mean_absolute_error: 0.0219 - val_loss: 1.8082e-04 - val_mean_absolute_error: 0.0084\nEpoch 141/200\n52/52 [==============================] - 4s 81ms/step - loss: 7.6571e-04 - mean_absolute_error: 0.0208 - val_loss: 2.3305e-04 - val_mean_absolute_error: 0.0106\nEpoch 142/200\n52/52 [==============================] - 4s 81ms/step - loss: 7.8899e-04 - mean_absolute_error: 0.0215 - val_loss: 6.5179e-04 - val_mean_absolute_error: 0.0225\nEpoch 143/200\n52/52 [==============================] - 4s 81ms/step - loss: 7.3310e-04 - mean_absolute_error: 0.0201 - val_loss: 2.3968e-04 - val_mean_absolute_error: 0.0112\nEpoch 144/200\n52/52 [==============================] - 4s 81ms/step - loss: 7.4589e-04 - mean_absolute_error: 0.0206 - val_loss: 4.1767e-04 - val_mean_absolute_error: 0.0166\nEpoch 145/200\n52/52 [==============================] - 4s 81ms/step - loss: 7.1345e-04 - mean_absolute_error: 0.0200 - val_loss: 2.0825e-04 - val_mean_absolute_error: 0.0098\nEpoch 146/200\n52/52 [==============================] - 4s 80ms/step - loss: 7.6062e-04 - mean_absolute_error: 0.0207 - val_loss: 1.8968e-04 - val_mean_absolute_error: 0.0087\nEpoch 147/200\n52/52 [==============================] - 4s 80ms/step - loss: 7.2777e-04 - mean_absolute_error: 0.0203 - val_loss: 4.1111e-04 - val_mean_absolute_error: 0.0164\nEpoch 148/200\n52/52 [==============================] - 4s 80ms/step - loss: 7.3011e-04 - mean_absolute_error: 0.0202 - val_loss: 1.7889e-04 - val_mean_absolute_error: 0.0083\nEpoch 149/200\n52/52 [==============================] - 4s 80ms/step - loss: 7.5031e-04 - mean_absolute_error: 0.0206 - val_loss: 3.7736e-04 - val_mean_absolute_error: 0.0156\nEpoch 150/200\n52/52 [==============================] - 4s 80ms/step - loss: 7.1152e-04 - mean_absolute_error: 0.0201 - val_loss: 1.9443e-04 - val_mean_absolute_error: 0.0090\nEpoch 151/200\n52/52 [==============================] - 4s 80ms/step - loss: 7.7394e-04 - mean_absolute_error: 0.0212 - val_loss: 2.5595e-04 - val_mean_absolute_error: 0.0117\nEpoch 152/200\n52/52 [==============================] - 4s 79ms/step - loss: 6.9911e-04 - mean_absolute_error: 0.0199 - val_loss: 2.2529e-04 - val_mean_absolute_error: 0.0107\nEpoch 153/200\n52/52 [==============================] - 4s 79ms/step - loss: 7.8692e-04 - mean_absolute_error: 0.0207 - val_loss: 0.0011 - val_mean_absolute_error: 0.0304\nEpoch 154/200\n52/52 [==============================] - 4s 79ms/step - loss: 7.8675e-04 - mean_absolute_error: 0.0209 - val_loss: 2.3640e-04 - val_mean_absolute_error: 0.0110\nEpoch 155/200\n52/52 [==============================] - 4s 80ms/step - loss: 7.5184e-04 - mean_absolute_error: 0.0205 - val_loss: 5.7113e-04 - val_mean_absolute_error: 0.0217\nEpoch 156/200\n52/52 [==============================] - 4s 79ms/step - loss: 8.1514e-04 - mean_absolute_error: 0.0216 - val_loss: 3.4519e-04 - val_mean_absolute_error: 0.0146\nEpoch 157/200\n52/52 [==============================] - 4s 79ms/step - loss: 7.1017e-04 - mean_absolute_error: 0.0199 - val_loss: 2.5073e-04 - val_mean_absolute_error: 0.0114\nEpoch 158/200\n52/52 [==============================] - 4s 79ms/step - loss: 7.1042e-04 - mean_absolute_error: 0.0200 - val_loss: 3.0984e-04 - val_mean_absolute_error: 0.0137\nEpoch 159/200\n52/52 [==============================] - 4s 80ms/step - loss: 7.0390e-04 - mean_absolute_error: 0.0197 - val_loss: 2.5619e-04 - val_mean_absolute_error: 0.0126\nEpoch 160/200\n52/52 [==============================] - 4s 79ms/step - loss: 6.9446e-04 - mean_absolute_error: 0.0198 - val_loss: 2.2837e-04 - val_mean_absolute_error: 0.0111\nEpoch 161/200\n52/52 [==============================] - 4s 80ms/step - loss: 7.5308e-04 - mean_absolute_error: 0.0206 - val_loss: 1.8052e-04 - val_mean_absolute_error: 0.0085\nEpoch 162/200\n52/52 [==============================] - 4s 79ms/step - loss: 6.8977e-04 - mean_absolute_error: 0.0198 - val_loss: 1.9817e-04 - val_mean_absolute_error: 0.0093\nEpoch 163/200\n52/52 [==============================] - 4s 80ms/step - loss: 7.0557e-04 - mean_absolute_error: 0.0200 - val_loss: 3.4833e-04 - val_mean_absolute_error: 0.0148\nEpoch 164/200\n52/52 [==============================] - 4s 80ms/step - loss: 7.5662e-04 - mean_absolute_error: 0.0212 - val_loss: 2.2587e-04 - val_mean_absolute_error: 0.0109\nEpoch 165/200\n52/52 [==============================] - 4s 81ms/step - loss: 6.8955e-04 - mean_absolute_error: 0.0197 - val_loss: 1.9026e-04 - val_mean_absolute_error: 0.0088\nEpoch 166/200\n52/52 [==============================] - 4s 81ms/step - loss: 6.4200e-04 - mean_absolute_error: 0.0188 - val_loss: 2.4031e-04 - val_mean_absolute_error: 0.0113\nEpoch 167/200\n52/52 [==============================] - 4s 82ms/step - loss: 7.2001e-04 - mean_absolute_error: 0.0202 - val_loss: 5.3638e-04 - val_mean_absolute_error: 0.0199\nEpoch 168/200\n52/52 [==============================] - 4s 81ms/step - loss: 7.3630e-04 - mean_absolute_error: 0.0205 - val_loss: 2.0805e-04 - val_mean_absolute_error: 0.0100\nEpoch 169/200\n52/52 [==============================] - 4s 85ms/step - loss: 6.8504e-04 - mean_absolute_error: 0.0196 - val_loss: 1.8261e-04 - val_mean_absolute_error: 0.0086\nEpoch 170/200\n52/52 [==============================] - 4s 84ms/step - loss: 7.1478e-04 - mean_absolute_error: 0.0202 - val_loss: 2.1220e-04 - val_mean_absolute_error: 0.0100\nEpoch 171/200\n52/52 [==============================] - 4s 83ms/step - loss: 7.3352e-04 - mean_absolute_error: 0.0203 - val_loss: 1.8784e-04 - val_mean_absolute_error: 0.0089\nEpoch 172/200\n52/52 [==============================] - 4s 82ms/step - loss: 7.6640e-04 - mean_absolute_error: 0.0209 - val_loss: 2.3262e-04 - val_mean_absolute_error: 0.0110\nEpoch 173/200\n52/52 [==============================] - 4s 81ms/step - loss: 6.7183e-04 - mean_absolute_error: 0.0199 - val_loss: 1.7544e-04 - val_mean_absolute_error: 0.0082\nEpoch 174/200\n52/52 [==============================] - 4s 81ms/step - loss: 7.0338e-04 - mean_absolute_error: 0.0200 - val_loss: 2.8119e-04 - val_mean_absolute_error: 0.0133\nEpoch 175/200\n52/52 [==============================] - 4s 79ms/step - loss: 6.3897e-04 - mean_absolute_error: 0.0191 - val_loss: 3.3405e-04 - val_mean_absolute_error: 0.0151\nEpoch 176/200\n52/52 [==============================] - 4s 80ms/step - loss: 7.1016e-04 - mean_absolute_error: 0.0200 - val_loss: 4.1017e-04 - val_mean_absolute_error: 0.0166\nEpoch 177/200\n52/52 [==============================] - 4s 79ms/step - loss: 7.6289e-04 - mean_absolute_error: 0.0206 - val_loss: 3.5516e-04 - val_mean_absolute_error: 0.0150\nEpoch 178/200\n52/52 [==============================] - 4s 81ms/step - loss: 7.0416e-04 - mean_absolute_error: 0.0203 - val_loss: 1.7654e-04 - val_mean_absolute_error: 0.0085\nEpoch 179/200\n52/52 [==============================] - 4s 79ms/step - loss: 7.2937e-04 - mean_absolute_error: 0.0204 - val_loss: 3.5278e-04 - val_mean_absolute_error: 0.0161\nEpoch 180/200\n52/52 [==============================] - 4s 79ms/step - loss: 7.0112e-04 - mean_absolute_error: 0.0199 - val_loss: 1.7905e-04 - val_mean_absolute_error: 0.0086\nEpoch 181/200\n52/52 [==============================] - 4s 79ms/step - loss: 7.2551e-04 - mean_absolute_error: 0.0206 - val_loss: 3.0504e-04 - val_mean_absolute_error: 0.0135\nEpoch 182/200\n52/52 [==============================] - 4s 79ms/step - loss: 7.5363e-04 - mean_absolute_error: 0.0205 - val_loss: 2.3315e-04 - val_mean_absolute_error: 0.0111\nEpoch 183/200\n52/52 [==============================] - 4s 79ms/step - loss: 6.8953e-04 - mean_absolute_error: 0.0198 - val_loss: 2.8687e-04 - val_mean_absolute_error: 0.0131\nEpoch 184/200\n52/52 [==============================] - 4s 80ms/step - loss: 6.5454e-04 - mean_absolute_error: 0.0191 - val_loss: 2.3883e-04 - val_mean_absolute_error: 0.0113\nEpoch 185/200\n52/52 [==============================] - 4s 80ms/step - loss: 7.0494e-04 - mean_absolute_error: 0.0201 - val_loss: 1.9780e-04 - val_mean_absolute_error: 0.0093\nEpoch 186/200\n52/52 [==============================] - 4s 79ms/step - loss: 7.2690e-04 - mean_absolute_error: 0.0202 - val_loss: 4.4113e-04 - val_mean_absolute_error: 0.0185\nEpoch 187/200\n52/52 [==============================] - 4s 80ms/step - loss: 7.2187e-04 - mean_absolute_error: 0.0204 - val_loss: 1.8042e-04 - val_mean_absolute_error: 0.0087\nEpoch 188/200\n52/52 [==============================] - 4s 80ms/step - loss: 7.4526e-04 - mean_absolute_error: 0.0204 - val_loss: 1.8617e-04 - val_mean_absolute_error: 0.0089\nEpoch 189/200\n52/52 [==============================] - 4s 80ms/step - loss: 6.7220e-04 - mean_absolute_error: 0.0197 - val_loss: 2.9269e-04 - val_mean_absolute_error: 0.0133\nEpoch 190/200\n52/52 [==============================] - 4s 79ms/step - loss: 6.5693e-04 - mean_absolute_error: 0.0193 - val_loss: 1.9354e-04 - val_mean_absolute_error: 0.0092\nEpoch 191/200\n52/52 [==============================] - 4s 79ms/step - loss: 7.5790e-04 - mean_absolute_error: 0.0206 - val_loss: 1.9092e-04 - val_mean_absolute_error: 0.0088\nEpoch 192/200\n52/52 [==============================] - 4s 80ms/step - loss: 6.7092e-04 - mean_absolute_error: 0.0193 - val_loss: 1.7687e-04 - val_mean_absolute_error: 0.0082\nEpoch 193/200\n52/52 [==============================] - 4s 81ms/step - loss: 7.0414e-04 - mean_absolute_error: 0.0202 - val_loss: 1.8974e-04 - val_mean_absolute_error: 0.0089\nEpoch 194/200\n52/52 [==============================] - 4s 80ms/step - loss: 7.1911e-04 - mean_absolute_error: 0.0203 - val_loss: 3.7781e-04 - val_mean_absolute_error: 0.0157\nEpoch 195/200\n52/52 [==============================] - 4s 81ms/step - loss: 6.6737e-04 - mean_absolute_error: 0.0193 - val_loss: 2.4624e-04 - val_mean_absolute_error: 0.0115\nEpoch 196/200\n52/52 [==============================] - 4s 81ms/step - loss: 7.6681e-04 - mean_absolute_error: 0.0208 - val_loss: 4.6614e-04 - val_mean_absolute_error: 0.0182\nEpoch 197/200\n52/52 [==============================] - 4s 81ms/step - loss: 6.8271e-04 - mean_absolute_error: 0.0197 - val_loss: 2.2072e-04 - val_mean_absolute_error: 0.0106\nEpoch 198/200\n52/52 [==============================] - 4s 80ms/step - loss: 6.9930e-04 - mean_absolute_error: 0.0200 - val_loss: 1.7847e-04 - val_mean_absolute_error: 0.0085\nEpoch 199/200\n52/52 [==============================] - 4s 81ms/step - loss: 6.8702e-04 - mean_absolute_error: 0.0198 - val_loss: 5.4665e-04 - val_mean_absolute_error: 0.0210\nEpoch 200/200\n52/52 [==============================] - 4s 80ms/step - loss: 7.5153e-04 - mean_absolute_error: 0.0204 - val_loss: 3.1372e-04 - val_mean_absolute_error: 0.0144\n"
    }
   ],
   "source": [
    "model = Sequential()\n",
    "\n",
    "model.add(LSTM(50, return_sequences=True, input_shape=(X_train.shape[1], X_train.shape[2])))\n",
    "model.add(Dropout(0.2))\n",
    "\n",
    "model.add(LSTM(50, return_sequences=True))\n",
    "model.add(Dropout(0.2))\n",
    "\n",
    "model.add(LSTM(50, return_sequences=True))\n",
    "model.add(Dropout(0.2))\n",
    "\n",
    "model.add(LSTM(50))\n",
    "model.add(Dropout(0.2))\n",
    "\n",
    "model.add(Dense(1))\n",
    "\n",
    "model.compile(optimizer = 'adam', loss = 'mean_squared_error', metrics=['mean_absolute_error'])\n",
    "\n",
    "early_stopping = EarlyStopping(monitor='val_loss', patience=5)\n",
    "\n",
    "nn = model.fit(X_train, y_train, validation_data=(X_test, y_test), epochs = 200)#, batch_size = 32)"
   ]
  },
  {
   "cell_type": "code",
   "execution_count": 12,
   "metadata": {},
   "outputs": [
    {
     "output_type": "execute_result",
     "data": {
      "text/plain": "[<matplotlib.lines.Line2D at 0x176ab387c48>]"
     },
     "metadata": {},
     "execution_count": 12
    },
    {
     "output_type": "display_data",
     "data": {
      "text/plain": "<Figure size 432x288 with 1 Axes>",
      "image/svg+xml": "<?xml version=\"1.0\" encoding=\"utf-8\" standalone=\"no\"?>\r\n<!DOCTYPE svg PUBLIC \"-//W3C//DTD SVG 1.1//EN\"\r\n  \"http://www.w3.org/Graphics/SVG/1.1/DTD/svg11.dtd\">\r\n<!-- Created with matplotlib (https://matplotlib.org/) -->\r\n<svg height=\"248.518125pt\" version=\"1.1\" viewBox=\"0 0 384.828125 248.518125\" width=\"384.828125pt\" xmlns=\"http://www.w3.org/2000/svg\" xmlns:xlink=\"http://www.w3.org/1999/xlink\">\r\n <defs>\r\n  <style type=\"text/css\">\r\n*{stroke-linecap:butt;stroke-linejoin:round;}\r\n  </style>\r\n </defs>\r\n <g id=\"figure_1\">\r\n  <g id=\"patch_1\">\r\n   <path d=\"M 0 248.518125 \r\nL 384.828125 248.518125 \r\nL 384.828125 0 \r\nL 0 0 \r\nz\r\n\" style=\"fill:none;\"/>\r\n  </g>\r\n  <g id=\"axes_1\">\r\n   <g id=\"patch_2\">\r\n    <path d=\"M 42.828125 224.64 \r\nL 377.628125 224.64 \r\nL 377.628125 7.2 \r\nL 42.828125 7.2 \r\nz\r\n\" style=\"fill:#ffffff;\"/>\r\n   </g>\r\n   <g id=\"matplotlib.axis_1\">\r\n    <g id=\"xtick_1\">\r\n     <g id=\"line2d_1\">\r\n      <defs>\r\n       <path d=\"M 0 0 \r\nL 0 3.5 \r\n\" id=\"mdd5b819940\" style=\"stroke:#000000;stroke-width:0.8;\"/>\r\n      </defs>\r\n      <g>\r\n       <use style=\"stroke:#000000;stroke-width:0.8;\" x=\"58.046307\" xlink:href=\"#mdd5b819940\" y=\"224.64\"/>\r\n      </g>\r\n     </g>\r\n     <g id=\"text_1\">\r\n      <!-- 0 -->\r\n      <defs>\r\n       <path d=\"M 31.78125 66.40625 \r\nQ 24.171875 66.40625 20.328125 58.90625 \r\nQ 16.5 51.421875 16.5 36.375 \r\nQ 16.5 21.390625 20.328125 13.890625 \r\nQ 24.171875 6.390625 31.78125 6.390625 \r\nQ 39.453125 6.390625 43.28125 13.890625 \r\nQ 47.125 21.390625 47.125 36.375 \r\nQ 47.125 51.421875 43.28125 58.90625 \r\nQ 39.453125 66.40625 31.78125 66.40625 \r\nz\r\nM 31.78125 74.21875 \r\nQ 44.046875 74.21875 50.515625 64.515625 \r\nQ 56.984375 54.828125 56.984375 36.375 \r\nQ 56.984375 17.96875 50.515625 8.265625 \r\nQ 44.046875 -1.421875 31.78125 -1.421875 \r\nQ 19.53125 -1.421875 13.0625 8.265625 \r\nQ 6.59375 17.96875 6.59375 36.375 \r\nQ 6.59375 54.828125 13.0625 64.515625 \r\nQ 19.53125 74.21875 31.78125 74.21875 \r\nz\r\n\" id=\"DejaVuSans-48\"/>\r\n      </defs>\r\n      <g transform=\"translate(54.865057 239.238437)scale(0.1 -0.1)\">\r\n       <use xlink:href=\"#DejaVuSans-48\"/>\r\n      </g>\r\n     </g>\r\n    </g>\r\n    <g id=\"xtick_2\">\r\n     <g id=\"line2d_2\">\r\n      <g>\r\n       <use style=\"stroke:#000000;stroke-width:0.8;\" x=\"96.282945\" xlink:href=\"#mdd5b819940\" y=\"224.64\"/>\r\n      </g>\r\n     </g>\r\n     <g id=\"text_2\">\r\n      <!-- 25 -->\r\n      <defs>\r\n       <path d=\"M 19.1875 8.296875 \r\nL 53.609375 8.296875 \r\nL 53.609375 0 \r\nL 7.328125 0 \r\nL 7.328125 8.296875 \r\nQ 12.9375 14.109375 22.625 23.890625 \r\nQ 32.328125 33.6875 34.8125 36.53125 \r\nQ 39.546875 41.84375 41.421875 45.53125 \r\nQ 43.3125 49.21875 43.3125 52.78125 \r\nQ 43.3125 58.59375 39.234375 62.25 \r\nQ 35.15625 65.921875 28.609375 65.921875 \r\nQ 23.96875 65.921875 18.8125 64.3125 \r\nQ 13.671875 62.703125 7.8125 59.421875 \r\nL 7.8125 69.390625 \r\nQ 13.765625 71.78125 18.9375 73 \r\nQ 24.125 74.21875 28.421875 74.21875 \r\nQ 39.75 74.21875 46.484375 68.546875 \r\nQ 53.21875 62.890625 53.21875 53.421875 \r\nQ 53.21875 48.921875 51.53125 44.890625 \r\nQ 49.859375 40.875 45.40625 35.40625 \r\nQ 44.1875 33.984375 37.640625 27.21875 \r\nQ 31.109375 20.453125 19.1875 8.296875 \r\nz\r\n\" id=\"DejaVuSans-50\"/>\r\n       <path d=\"M 10.796875 72.90625 \r\nL 49.515625 72.90625 \r\nL 49.515625 64.59375 \r\nL 19.828125 64.59375 \r\nL 19.828125 46.734375 \r\nQ 21.96875 47.46875 24.109375 47.828125 \r\nQ 26.265625 48.1875 28.421875 48.1875 \r\nQ 40.625 48.1875 47.75 41.5 \r\nQ 54.890625 34.8125 54.890625 23.390625 \r\nQ 54.890625 11.625 47.5625 5.09375 \r\nQ 40.234375 -1.421875 26.90625 -1.421875 \r\nQ 22.3125 -1.421875 17.546875 -0.640625 \r\nQ 12.796875 0.140625 7.71875 1.703125 \r\nL 7.71875 11.625 \r\nQ 12.109375 9.234375 16.796875 8.0625 \r\nQ 21.484375 6.890625 26.703125 6.890625 \r\nQ 35.15625 6.890625 40.078125 11.328125 \r\nQ 45.015625 15.765625 45.015625 23.390625 \r\nQ 45.015625 31 40.078125 35.4375 \r\nQ 35.15625 39.890625 26.703125 39.890625 \r\nQ 22.75 39.890625 18.8125 39.015625 \r\nQ 14.890625 38.140625 10.796875 36.28125 \r\nz\r\n\" id=\"DejaVuSans-53\"/>\r\n      </defs>\r\n      <g transform=\"translate(89.920445 239.238437)scale(0.1 -0.1)\">\r\n       <use xlink:href=\"#DejaVuSans-50\"/>\r\n       <use x=\"63.623047\" xlink:href=\"#DejaVuSans-53\"/>\r\n      </g>\r\n     </g>\r\n    </g>\r\n    <g id=\"xtick_3\">\r\n     <g id=\"line2d_3\">\r\n      <g>\r\n       <use style=\"stroke:#000000;stroke-width:0.8;\" x=\"134.519582\" xlink:href=\"#mdd5b819940\" y=\"224.64\"/>\r\n      </g>\r\n     </g>\r\n     <g id=\"text_3\">\r\n      <!-- 50 -->\r\n      <g transform=\"translate(128.157082 239.238437)scale(0.1 -0.1)\">\r\n       <use xlink:href=\"#DejaVuSans-53\"/>\r\n       <use x=\"63.623047\" xlink:href=\"#DejaVuSans-48\"/>\r\n      </g>\r\n     </g>\r\n    </g>\r\n    <g id=\"xtick_4\">\r\n     <g id=\"line2d_4\">\r\n      <g>\r\n       <use style=\"stroke:#000000;stroke-width:0.8;\" x=\"172.75622\" xlink:href=\"#mdd5b819940\" y=\"224.64\"/>\r\n      </g>\r\n     </g>\r\n     <g id=\"text_4\">\r\n      <!-- 75 -->\r\n      <defs>\r\n       <path d=\"M 8.203125 72.90625 \r\nL 55.078125 72.90625 \r\nL 55.078125 68.703125 \r\nL 28.609375 0 \r\nL 18.3125 0 \r\nL 43.21875 64.59375 \r\nL 8.203125 64.59375 \r\nz\r\n\" id=\"DejaVuSans-55\"/>\r\n      </defs>\r\n      <g transform=\"translate(166.39372 239.238437)scale(0.1 -0.1)\">\r\n       <use xlink:href=\"#DejaVuSans-55\"/>\r\n       <use x=\"63.623047\" xlink:href=\"#DejaVuSans-53\"/>\r\n      </g>\r\n     </g>\r\n    </g>\r\n    <g id=\"xtick_5\">\r\n     <g id=\"line2d_5\">\r\n      <g>\r\n       <use style=\"stroke:#000000;stroke-width:0.8;\" x=\"210.992858\" xlink:href=\"#mdd5b819940\" y=\"224.64\"/>\r\n      </g>\r\n     </g>\r\n     <g id=\"text_5\">\r\n      <!-- 100 -->\r\n      <defs>\r\n       <path d=\"M 12.40625 8.296875 \r\nL 28.515625 8.296875 \r\nL 28.515625 63.921875 \r\nL 10.984375 60.40625 \r\nL 10.984375 69.390625 \r\nL 28.421875 72.90625 \r\nL 38.28125 72.90625 \r\nL 38.28125 8.296875 \r\nL 54.390625 8.296875 \r\nL 54.390625 0 \r\nL 12.40625 0 \r\nz\r\n\" id=\"DejaVuSans-49\"/>\r\n      </defs>\r\n      <g transform=\"translate(201.449108 239.238437)scale(0.1 -0.1)\">\r\n       <use xlink:href=\"#DejaVuSans-49\"/>\r\n       <use x=\"63.623047\" xlink:href=\"#DejaVuSans-48\"/>\r\n       <use x=\"127.246094\" xlink:href=\"#DejaVuSans-48\"/>\r\n      </g>\r\n     </g>\r\n    </g>\r\n    <g id=\"xtick_6\">\r\n     <g id=\"line2d_6\">\r\n      <g>\r\n       <use style=\"stroke:#000000;stroke-width:0.8;\" x=\"249.229495\" xlink:href=\"#mdd5b819940\" y=\"224.64\"/>\r\n      </g>\r\n     </g>\r\n     <g id=\"text_6\">\r\n      <!-- 125 -->\r\n      <g transform=\"translate(239.685745 239.238437)scale(0.1 -0.1)\">\r\n       <use xlink:href=\"#DejaVuSans-49\"/>\r\n       <use x=\"63.623047\" xlink:href=\"#DejaVuSans-50\"/>\r\n       <use x=\"127.246094\" xlink:href=\"#DejaVuSans-53\"/>\r\n      </g>\r\n     </g>\r\n    </g>\r\n    <g id=\"xtick_7\">\r\n     <g id=\"line2d_7\">\r\n      <g>\r\n       <use style=\"stroke:#000000;stroke-width:0.8;\" x=\"287.466133\" xlink:href=\"#mdd5b819940\" y=\"224.64\"/>\r\n      </g>\r\n     </g>\r\n     <g id=\"text_7\">\r\n      <!-- 150 -->\r\n      <g transform=\"translate(277.922383 239.238437)scale(0.1 -0.1)\">\r\n       <use xlink:href=\"#DejaVuSans-49\"/>\r\n       <use x=\"63.623047\" xlink:href=\"#DejaVuSans-53\"/>\r\n       <use x=\"127.246094\" xlink:href=\"#DejaVuSans-48\"/>\r\n      </g>\r\n     </g>\r\n    </g>\r\n    <g id=\"xtick_8\">\r\n     <g id=\"line2d_8\">\r\n      <g>\r\n       <use style=\"stroke:#000000;stroke-width:0.8;\" x=\"325.702771\" xlink:href=\"#mdd5b819940\" y=\"224.64\"/>\r\n      </g>\r\n     </g>\r\n     <g id=\"text_8\">\r\n      <!-- 175 -->\r\n      <g transform=\"translate(316.159021 239.238437)scale(0.1 -0.1)\">\r\n       <use xlink:href=\"#DejaVuSans-49\"/>\r\n       <use x=\"63.623047\" xlink:href=\"#DejaVuSans-55\"/>\r\n       <use x=\"127.246094\" xlink:href=\"#DejaVuSans-53\"/>\r\n      </g>\r\n     </g>\r\n    </g>\r\n    <g id=\"xtick_9\">\r\n     <g id=\"line2d_9\">\r\n      <g>\r\n       <use style=\"stroke:#000000;stroke-width:0.8;\" x=\"363.939409\" xlink:href=\"#mdd5b819940\" y=\"224.64\"/>\r\n      </g>\r\n     </g>\r\n     <g id=\"text_9\">\r\n      <!-- 200 -->\r\n      <g transform=\"translate(354.395659 239.238437)scale(0.1 -0.1)\">\r\n       <use xlink:href=\"#DejaVuSans-50\"/>\r\n       <use x=\"63.623047\" xlink:href=\"#DejaVuSans-48\"/>\r\n       <use x=\"127.246094\" xlink:href=\"#DejaVuSans-48\"/>\r\n      </g>\r\n     </g>\r\n    </g>\r\n   </g>\r\n   <g id=\"matplotlib.axis_2\">\r\n    <g id=\"ytick_1\">\r\n     <g id=\"line2d_10\">\r\n      <defs>\r\n       <path d=\"M 0 0 \r\nL -3.5 0 \r\n\" id=\"meb5f33c653\" style=\"stroke:#000000;stroke-width:0.8;\"/>\r\n      </defs>\r\n      <g>\r\n       <use style=\"stroke:#000000;stroke-width:0.8;\" x=\"42.828125\" xlink:href=\"#meb5f33c653\" y=\"215.676663\"/>\r\n      </g>\r\n     </g>\r\n     <g id=\"text_10\">\r\n      <!-- 0.000 -->\r\n      <defs>\r\n       <path d=\"M 10.6875 12.40625 \r\nL 21 12.40625 \r\nL 21 0 \r\nL 10.6875 0 \r\nz\r\n\" id=\"DejaVuSans-46\"/>\r\n      </defs>\r\n      <g transform=\"translate(7.2 219.475882)scale(0.1 -0.1)\">\r\n       <use xlink:href=\"#DejaVuSans-48\"/>\r\n       <use x=\"63.623047\" xlink:href=\"#DejaVuSans-46\"/>\r\n       <use x=\"95.410156\" xlink:href=\"#DejaVuSans-48\"/>\r\n       <use x=\"159.033203\" xlink:href=\"#DejaVuSans-48\"/>\r\n       <use x=\"222.65625\" xlink:href=\"#DejaVuSans-48\"/>\r\n      </g>\r\n     </g>\r\n    </g>\r\n    <g id=\"ytick_2\">\r\n     <g id=\"line2d_11\">\r\n      <g>\r\n       <use style=\"stroke:#000000;stroke-width:0.8;\" x=\"42.828125\" xlink:href=\"#meb5f33c653\" y=\"189.447823\"/>\r\n      </g>\r\n     </g>\r\n     <g id=\"text_11\">\r\n      <!-- 0.005 -->\r\n      <g transform=\"translate(7.2 193.247042)scale(0.1 -0.1)\">\r\n       <use xlink:href=\"#DejaVuSans-48\"/>\r\n       <use x=\"63.623047\" xlink:href=\"#DejaVuSans-46\"/>\r\n       <use x=\"95.410156\" xlink:href=\"#DejaVuSans-48\"/>\r\n       <use x=\"159.033203\" xlink:href=\"#DejaVuSans-48\"/>\r\n       <use x=\"222.65625\" xlink:href=\"#DejaVuSans-53\"/>\r\n      </g>\r\n     </g>\r\n    </g>\r\n    <g id=\"ytick_3\">\r\n     <g id=\"line2d_12\">\r\n      <g>\r\n       <use style=\"stroke:#000000;stroke-width:0.8;\" x=\"42.828125\" xlink:href=\"#meb5f33c653\" y=\"163.218983\"/>\r\n      </g>\r\n     </g>\r\n     <g id=\"text_12\">\r\n      <!-- 0.010 -->\r\n      <g transform=\"translate(7.2 167.018202)scale(0.1 -0.1)\">\r\n       <use xlink:href=\"#DejaVuSans-48\"/>\r\n       <use x=\"63.623047\" xlink:href=\"#DejaVuSans-46\"/>\r\n       <use x=\"95.410156\" xlink:href=\"#DejaVuSans-48\"/>\r\n       <use x=\"159.033203\" xlink:href=\"#DejaVuSans-49\"/>\r\n       <use x=\"222.65625\" xlink:href=\"#DejaVuSans-48\"/>\r\n      </g>\r\n     </g>\r\n    </g>\r\n    <g id=\"ytick_4\">\r\n     <g id=\"line2d_13\">\r\n      <g>\r\n       <use style=\"stroke:#000000;stroke-width:0.8;\" x=\"42.828125\" xlink:href=\"#meb5f33c653\" y=\"136.990142\"/>\r\n      </g>\r\n     </g>\r\n     <g id=\"text_13\">\r\n      <!-- 0.015 -->\r\n      <g transform=\"translate(7.2 140.789361)scale(0.1 -0.1)\">\r\n       <use xlink:href=\"#DejaVuSans-48\"/>\r\n       <use x=\"63.623047\" xlink:href=\"#DejaVuSans-46\"/>\r\n       <use x=\"95.410156\" xlink:href=\"#DejaVuSans-48\"/>\r\n       <use x=\"159.033203\" xlink:href=\"#DejaVuSans-49\"/>\r\n       <use x=\"222.65625\" xlink:href=\"#DejaVuSans-53\"/>\r\n      </g>\r\n     </g>\r\n    </g>\r\n    <g id=\"ytick_5\">\r\n     <g id=\"line2d_14\">\r\n      <g>\r\n       <use style=\"stroke:#000000;stroke-width:0.8;\" x=\"42.828125\" xlink:href=\"#meb5f33c653\" y=\"110.761302\"/>\r\n      </g>\r\n     </g>\r\n     <g id=\"text_14\">\r\n      <!-- 0.020 -->\r\n      <g transform=\"translate(7.2 114.560521)scale(0.1 -0.1)\">\r\n       <use xlink:href=\"#DejaVuSans-48\"/>\r\n       <use x=\"63.623047\" xlink:href=\"#DejaVuSans-46\"/>\r\n       <use x=\"95.410156\" xlink:href=\"#DejaVuSans-48\"/>\r\n       <use x=\"159.033203\" xlink:href=\"#DejaVuSans-50\"/>\r\n       <use x=\"222.65625\" xlink:href=\"#DejaVuSans-48\"/>\r\n      </g>\r\n     </g>\r\n    </g>\r\n    <g id=\"ytick_6\">\r\n     <g id=\"line2d_15\">\r\n      <g>\r\n       <use style=\"stroke:#000000;stroke-width:0.8;\" x=\"42.828125\" xlink:href=\"#meb5f33c653\" y=\"84.532462\"/>\r\n      </g>\r\n     </g>\r\n     <g id=\"text_15\">\r\n      <!-- 0.025 -->\r\n      <g transform=\"translate(7.2 88.331681)scale(0.1 -0.1)\">\r\n       <use xlink:href=\"#DejaVuSans-48\"/>\r\n       <use x=\"63.623047\" xlink:href=\"#DejaVuSans-46\"/>\r\n       <use x=\"95.410156\" xlink:href=\"#DejaVuSans-48\"/>\r\n       <use x=\"159.033203\" xlink:href=\"#DejaVuSans-50\"/>\r\n       <use x=\"222.65625\" xlink:href=\"#DejaVuSans-53\"/>\r\n      </g>\r\n     </g>\r\n    </g>\r\n    <g id=\"ytick_7\">\r\n     <g id=\"line2d_16\">\r\n      <g>\r\n       <use style=\"stroke:#000000;stroke-width:0.8;\" x=\"42.828125\" xlink:href=\"#meb5f33c653\" y=\"58.303621\"/>\r\n      </g>\r\n     </g>\r\n     <g id=\"text_16\">\r\n      <!-- 0.030 -->\r\n      <defs>\r\n       <path d=\"M 40.578125 39.3125 \r\nQ 47.65625 37.796875 51.625 33 \r\nQ 55.609375 28.21875 55.609375 21.1875 \r\nQ 55.609375 10.40625 48.1875 4.484375 \r\nQ 40.765625 -1.421875 27.09375 -1.421875 \r\nQ 22.515625 -1.421875 17.65625 -0.515625 \r\nQ 12.796875 0.390625 7.625 2.203125 \r\nL 7.625 11.71875 \r\nQ 11.71875 9.328125 16.59375 8.109375 \r\nQ 21.484375 6.890625 26.8125 6.890625 \r\nQ 36.078125 6.890625 40.9375 10.546875 \r\nQ 45.796875 14.203125 45.796875 21.1875 \r\nQ 45.796875 27.640625 41.28125 31.265625 \r\nQ 36.765625 34.90625 28.71875 34.90625 \r\nL 20.21875 34.90625 \r\nL 20.21875 43.015625 \r\nL 29.109375 43.015625 \r\nQ 36.375 43.015625 40.234375 45.921875 \r\nQ 44.09375 48.828125 44.09375 54.296875 \r\nQ 44.09375 59.90625 40.109375 62.90625 \r\nQ 36.140625 65.921875 28.71875 65.921875 \r\nQ 24.65625 65.921875 20.015625 65.03125 \r\nQ 15.375 64.15625 9.8125 62.3125 \r\nL 9.8125 71.09375 \r\nQ 15.4375 72.65625 20.34375 73.4375 \r\nQ 25.25 74.21875 29.59375 74.21875 \r\nQ 40.828125 74.21875 47.359375 69.109375 \r\nQ 53.90625 64.015625 53.90625 55.328125 \r\nQ 53.90625 49.265625 50.4375 45.09375 \r\nQ 46.96875 40.921875 40.578125 39.3125 \r\nz\r\n\" id=\"DejaVuSans-51\"/>\r\n      </defs>\r\n      <g transform=\"translate(7.2 62.10284)scale(0.1 -0.1)\">\r\n       <use xlink:href=\"#DejaVuSans-48\"/>\r\n       <use x=\"63.623047\" xlink:href=\"#DejaVuSans-46\"/>\r\n       <use x=\"95.410156\" xlink:href=\"#DejaVuSans-48\"/>\r\n       <use x=\"159.033203\" xlink:href=\"#DejaVuSans-51\"/>\r\n       <use x=\"222.65625\" xlink:href=\"#DejaVuSans-48\"/>\r\n      </g>\r\n     </g>\r\n    </g>\r\n    <g id=\"ytick_8\">\r\n     <g id=\"line2d_17\">\r\n      <g>\r\n       <use style=\"stroke:#000000;stroke-width:0.8;\" x=\"42.828125\" xlink:href=\"#meb5f33c653\" y=\"32.074781\"/>\r\n      </g>\r\n     </g>\r\n     <g id=\"text_17\">\r\n      <!-- 0.035 -->\r\n      <g transform=\"translate(7.2 35.874)scale(0.1 -0.1)\">\r\n       <use xlink:href=\"#DejaVuSans-48\"/>\r\n       <use x=\"63.623047\" xlink:href=\"#DejaVuSans-46\"/>\r\n       <use x=\"95.410156\" xlink:href=\"#DejaVuSans-48\"/>\r\n       <use x=\"159.033203\" xlink:href=\"#DejaVuSans-51\"/>\r\n       <use x=\"222.65625\" xlink:href=\"#DejaVuSans-53\"/>\r\n      </g>\r\n     </g>\r\n    </g>\r\n   </g>\r\n   <g id=\"line2d_18\">\r\n    <path clip-path=\"url(#p735d5b687b)\" d=\"M 58.046307 17.083636 \r\nL 59.575772 174.085201 \r\nL 61.105238 177.906098 \r\nL 62.634703 182.727813 \r\nL 64.164169 185.936198 \r\nL 65.693634 185.888533 \r\nL 67.2231 188.949014 \r\nL 68.752565 190.063365 \r\nL 70.282031 188.0684 \r\nL 71.811496 191.997892 \r\nL 73.340962 192.02466 \r\nL 74.870427 193.092052 \r\nL 76.399893 192.804767 \r\nL 79.458824 195.414743 \r\nL 80.988289 194.905843 \r\nL 82.517755 195.237783 \r\nL 84.04722 197.6252 \r\nL 85.576686 196.498587 \r\nL 87.106151 197.761379 \r\nL 88.635617 198.093704 \r\nL 90.165083 197.871774 \r\nL 91.694548 198.711747 \r\nL 93.224014 199.143483 \r\nL 94.753479 198.919043 \r\nL 96.282945 198.333972 \r\nL 97.81241 200.44147 \r\nL 99.341876 199.497868 \r\nL 100.871341 201.573685 \r\nL 102.400807 201.104859 \r\nL 103.930272 202.176428 \r\nL 105.459738 201.238829 \r\nL 106.989203 202.45598 \r\nL 108.518669 201.773997 \r\nL 111.5776 202.996193 \r\nL 113.107065 202.403589 \r\nL 114.636531 203.040603 \r\nL 116.165996 203.177608 \r\nL 117.695462 202.399372 \r\nL 119.224927 203.059117 \r\nL 120.754393 204.419114 \r\nL 122.283858 204.341458 \r\nL 123.813324 205.301421 \r\nL 125.342789 204.604716 \r\nL 128.40172 205.96744 \r\nL 129.931186 205.763131 \r\nL 131.460651 204.783324 \r\nL 132.990117 206.425503 \r\nL 134.519582 206.521708 \r\nL 136.049048 206.460548 \r\nL 137.578513 206.284564 \r\nL 139.107979 205.949856 \r\nL 140.637444 206.929803 \r\nL 142.16691 207.362936 \r\nL 143.696375 207.045652 \r\nL 146.755306 208.164683 \r\nL 148.284772 207.898186 \r\nL 149.814237 208.487602 \r\nL 151.343703 208.384015 \r\nL 152.873168 208.475984 \r\nL 154.402634 207.172414 \r\nL 155.932099 208.117816 \r\nL 157.461565 208.143325 \r\nL 160.520496 209.039 \r\nL 162.049961 208.888607 \r\nL 163.579427 208.920115 \r\nL 165.108892 209.610824 \r\nL 166.638358 209.021876 \r\nL 168.167823 210.124211 \r\nL 171.226755 209.198674 \r\nL 172.75622 209.112439 \r\nL 175.815151 209.500419 \r\nL 177.344617 210.386346 \r\nL 180.403548 209.859382 \r\nL 181.933013 210.555463 \r\nL 183.462479 210.144802 \r\nL 184.991944 210.903356 \r\nL 186.52141 210.334837 \r\nL 188.050875 210.588709 \r\nL 189.580341 210.643036 \r\nL 191.109806 210.936225 \r\nL 192.639272 210.692986 \r\nL 194.168737 211.109945 \r\nL 197.227668 210.19952 \r\nL 198.757134 210.332877 \r\nL 200.286599 210.660919 \r\nL 201.816065 210.73104 \r\nL 203.34553 210.638195 \r\nL 204.874996 211.358073 \r\nL 206.404461 210.74855 \r\nL 209.463392 211.121449 \r\nL 210.992858 210.712341 \r\nL 212.522323 211.258621 \r\nL 215.581254 210.976782 \r\nL 218.640185 211.101668 \r\nL 220.169651 210.748702 \r\nL 221.699116 211.406273 \r\nL 224.758047 211.470583 \r\nL 226.287513 211.187844 \r\nL 227.816978 211.570347 \r\nL 229.346444 211.311668 \r\nL 230.875909 211.708751 \r\nL 232.405375 211.477642 \r\nL 233.93484 211.367241 \r\nL 235.464306 211.531091 \r\nL 236.993771 211.482641 \r\nL 238.523237 211.86739 \r\nL 240.052702 211.650788 \r\nL 241.582168 211.760242 \r\nL 243.111633 211.52647 \r\nL 244.641099 211.834433 \r\nL 246.170564 211.514347 \r\nL 247.70003 211.461364 \r\nL 249.229495 211.934234 \r\nL 250.758961 211.496913 \r\nL 252.288427 211.430947 \r\nL 253.817892 211.584486 \r\nL 255.347358 211.553705 \r\nL 256.876823 211.815716 \r\nL 258.406289 211.561547 \r\nL 259.935754 211.756096 \r\nL 261.46522 212.236115 \r\nL 262.994685 211.778855 \r\nL 264.524151 211.817805 \r\nL 266.053616 211.638961 \r\nL 267.583082 211.968389 \r\nL 269.112547 211.631047 \r\nL 270.642013 211.463597 \r\nL 272.171478 211.659943 \r\nL 273.700944 211.53781 \r\nL 275.230409 211.830966 \r\nL 276.759875 211.763907 \r\nL 278.28934 211.934091 \r\nL 279.818806 211.686635 \r\nL 281.348271 211.858949 \r\nL 284.407202 211.74072 \r\nL 285.936668 211.944206 \r\nL 287.466133 211.616748 \r\nL 288.995599 212.009293 \r\nL 290.525064 211.548658 \r\nL 292.05453 211.549552 \r\nL 293.583995 211.732695 \r\nL 295.113461 211.400613 \r\nL 296.642926 211.951251 \r\nL 301.231323 212.033684 \r\nL 302.760788 211.726182 \r\nL 304.290254 212.058285 \r\nL 305.819719 211.975397 \r\nL 307.349185 211.707616 \r\nL 310.408116 212.308859 \r\nL 311.937581 211.899658 \r\nL 313.467047 211.814217 \r\nL 314.996512 212.083091 \r\nL 319.584909 211.656316 \r\nL 321.114374 212.152381 \r\nL 322.64384 211.98692 \r\nL 324.173305 212.324767 \r\nL 327.232236 211.674718 \r\nL 328.761702 211.982796 \r\nL 330.291167 211.850581 \r\nL 331.820633 211.998736 \r\nL 334.879564 211.723276 \r\nL 336.40903 212.059558 \r\nL 337.938495 212.243098 \r\nL 339.467961 211.978697 \r\nL 340.997426 211.863524 \r\nL 342.526892 211.889926 \r\nL 344.056357 211.767214 \r\nL 345.585823 212.150483 \r\nL 347.115288 212.230567 \r\nL 348.644754 211.700884 \r\nL 350.174219 212.157147 \r\nL 353.23315 211.904363 \r\nL 354.762616 212.1758 \r\nL 356.292081 211.654133 \r\nL 357.821547 212.095343 \r\nL 359.351012 212.008283 \r\nL 360.880478 212.072705 \r\nL 362.409943 211.734287 \r\nL 362.409943 211.734287 \r\n\" style=\"fill:none;stroke:#1f77b4;stroke-linecap:square;stroke-width:1.5;\"/>\r\n   </g>\r\n   <g id=\"line2d_19\">\r\n    <path clip-path=\"url(#p735d5b687b)\" d=\"M 58.046307 185.617751 \r\nL 59.575772 210.052675 \r\nL 61.105238 207.32037 \r\nL 62.634703 207.655066 \r\nL 64.164169 208.771842 \r\nL 65.693634 206.804486 \r\nL 67.2231 208.682795 \r\nL 68.752565 206.184199 \r\nL 70.282031 210.314527 \r\nL 71.811496 209.892795 \r\nL 73.340962 205.022019 \r\nL 74.870427 207.989574 \r\nL 76.399893 209.138959 \r\nL 77.929358 206.558631 \r\nL 79.458824 209.843412 \r\nL 80.988289 205.844831 \r\nL 82.517755 206.761231 \r\nL 84.04722 210.370316 \r\nL 85.576686 209.341795 \r\nL 87.106151 209.275697 \r\nL 88.635617 210.360345 \r\nL 90.165083 210.768887 \r\nL 91.694548 209.505681 \r\nL 93.224014 210.926863 \r\nL 94.753479 210.722272 \r\nL 96.282945 208.061397 \r\nL 97.81241 211.044198 \r\nL 99.341876 207.810621 \r\nL 100.871341 211.147217 \r\nL 102.400807 210.164106 \r\nL 103.930272 208.876912 \r\nL 105.459738 211.451348 \r\nL 106.989203 210.002359 \r\nL 108.518669 211.401213 \r\nL 110.048134 211.092216 \r\nL 111.5776 210.979473 \r\nL 113.107065 211.696388 \r\nL 114.636531 211.272679 \r\nL 116.165996 211.696636 \r\nL 117.695462 211.792049 \r\nL 119.224927 210.235569 \r\nL 120.754393 211.880107 \r\nL 123.813324 212.298651 \r\nL 125.342789 210.292154 \r\nL 126.872255 212.068762 \r\nL 128.40172 212.728023 \r\nL 129.931186 210.83339 \r\nL 131.460651 212.433632 \r\nL 132.990117 212.668969 \r\nL 134.519582 212.17942 \r\nL 136.049048 212.958935 \r\nL 137.578513 213.150215 \r\nL 139.107979 213.004214 \r\nL 142.16691 213.03483 \r\nL 143.696375 210.295157 \r\nL 145.225841 212.21849 \r\nL 146.755306 212.689454 \r\nL 148.284772 213.390561 \r\nL 149.814237 213.036153 \r\nL 151.343703 212.896452 \r\nL 152.873168 213.399796 \r\nL 154.402634 212.484891 \r\nL 155.932099 213.10287 \r\nL 157.461565 212.210296 \r\nL 158.99103 213.454985 \r\nL 160.520496 212.957302 \r\nL 162.049961 213.66999 \r\nL 165.108892 213.540917 \r\nL 166.638358 213.83824 \r\nL 168.167823 213.857339 \r\nL 169.697289 213.605269 \r\nL 171.226755 213.980741 \r\nL 172.75622 213.677504 \r\nL 174.285686 213.004823 \r\nL 177.344617 214.063418 \r\nL 178.874082 213.623966 \r\nL 180.403548 213.936897 \r\nL 181.933013 212.698227 \r\nL 183.462479 213.818676 \r\nL 184.991944 213.432132 \r\nL 186.52141 213.273014 \r\nL 188.050875 213.872056 \r\nL 191.109806 214.323713 \r\nL 192.639272 214.318644 \r\nL 194.168737 213.479576 \r\nL 195.698203 213.805715 \r\nL 197.227668 214.272996 \r\nL 198.757134 214.363374 \r\nL 200.286599 214.031798 \r\nL 201.816065 214.055168 \r\nL 203.34553 214.451816 \r\nL 204.874996 214.438508 \r\nL 206.404461 211.320961 \r\nL 207.933927 214.30097 \r\nL 209.463392 214.424678 \r\nL 210.992858 213.714463 \r\nL 212.522323 214.531336 \r\nL 214.051789 211.654721 \r\nL 215.581254 213.686064 \r\nL 217.11072 214.521767 \r\nL 218.640185 212.907889 \r\nL 221.699116 214.385924 \r\nL 223.228582 213.181378 \r\nL 224.758047 214.594089 \r\nL 226.287513 214.509378 \r\nL 227.816978 214.554488 \r\nL 229.346444 213.693104 \r\nL 230.875909 214.265805 \r\nL 232.405375 214.542503 \r\nL 235.464306 214.574225 \r\nL 236.993771 214.574012 \r\nL 238.523237 214.046955 \r\nL 241.582168 214.27116 \r\nL 243.111633 214.240664 \r\nL 244.641099 214.501599 \r\nL 247.70003 214.616196 \r\nL 249.229495 214.355509 \r\nL 250.758961 214.421449 \r\nL 252.288427 214.153354 \r\nL 253.817892 214.283426 \r\nL 255.347358 214.594455 \r\nL 256.876823 214.375863 \r\nL 258.406289 214.380043 \r\nL 259.935754 214.667399 \r\nL 261.46522 214.450237 \r\nL 262.994685 214.04286 \r\nL 264.524151 214.07261 \r\nL 266.053616 214.526539 \r\nL 267.583082 214.628606 \r\nL 269.112547 214.599689 \r\nL 270.642013 214.728115 \r\nL 272.171478 214.454157 \r\nL 273.700944 212.257538 \r\nL 275.230409 214.419369 \r\nL 276.759875 213.485664 \r\nL 278.28934 214.584235 \r\nL 279.818806 214.68167 \r\nL 281.348271 213.5201 \r\nL 282.877737 214.73827 \r\nL 284.407202 213.697139 \r\nL 285.936668 214.656748 \r\nL 287.466133 214.334012 \r\nL 288.995599 214.494859 \r\nL 290.525064 209.963916 \r\nL 292.05453 214.436584 \r\nL 293.583995 212.680652 \r\nL 295.113461 213.865888 \r\nL 296.642926 214.361397 \r\nL 298.172392 214.051315 \r\nL 299.701857 214.332767 \r\nL 302.760788 214.729707 \r\nL 304.290254 214.637129 \r\nL 305.819719 213.849408 \r\nL 307.349185 214.491819 \r\nL 308.87865 214.678579 \r\nL 310.408116 214.416031 \r\nL 311.937581 212.862957 \r\nL 313.467047 214.585292 \r\nL 314.996512 214.718749 \r\nL 316.525978 214.563532 \r\nL 318.055443 214.691324 \r\nL 319.584909 214.456367 \r\nL 321.114374 214.756364 \r\nL 322.64384 214.20162 \r\nL 324.173305 213.924322 \r\nL 325.702771 213.525012 \r\nL 327.232236 213.813552 \r\nL 328.761702 214.750583 \r\nL 330.291167 213.826078 \r\nL 331.820633 214.737388 \r\nL 333.350099 214.076489 \r\nL 334.879564 214.453628 \r\nL 336.40903 214.171822 \r\nL 339.467961 214.639048 \r\nL 340.997426 213.362586 \r\nL 342.526892 214.730196 \r\nL 344.056357 214.700062 \r\nL 345.585823 214.141305 \r\nL 347.115288 214.6614 \r\nL 351.703685 214.681357 \r\nL 353.23315 213.694763 \r\nL 354.762616 214.384952 \r\nL 356.292081 213.231422 \r\nL 357.821547 214.518808 \r\nL 359.351012 214.740449 \r\nL 360.880478 212.809067 \r\nL 362.409943 214.030955 \r\nL 362.409943 214.030955 \r\n\" style=\"fill:none;stroke:#bfbf00;stroke-linecap:square;stroke-width:1.5;\"/>\r\n   </g>\r\n   <g id=\"patch_3\">\r\n    <path d=\"M 42.828125 224.64 \r\nL 42.828125 7.2 \r\n\" style=\"fill:none;stroke:#000000;stroke-linecap:square;stroke-linejoin:miter;stroke-width:0.8;\"/>\r\n   </g>\r\n   <g id=\"patch_4\">\r\n    <path d=\"M 377.628125 224.64 \r\nL 377.628125 7.2 \r\n\" style=\"fill:none;stroke:#000000;stroke-linecap:square;stroke-linejoin:miter;stroke-width:0.8;\"/>\r\n   </g>\r\n   <g id=\"patch_5\">\r\n    <path d=\"M 42.828125 224.64 \r\nL 377.628125 224.64 \r\n\" style=\"fill:none;stroke:#000000;stroke-linecap:square;stroke-linejoin:miter;stroke-width:0.8;\"/>\r\n   </g>\r\n   <g id=\"patch_6\">\r\n    <path d=\"M 42.828125 7.2 \r\nL 377.628125 7.2 \r\n\" style=\"fill:none;stroke:#000000;stroke-linecap:square;stroke-linejoin:miter;stroke-width:0.8;\"/>\r\n   </g>\r\n  </g>\r\n </g>\r\n <defs>\r\n  <clipPath id=\"p735d5b687b\">\r\n   <rect height=\"217.44\" width=\"334.8\" x=\"42.828125\" y=\"7.2\"/>\r\n  </clipPath>\r\n </defs>\r\n</svg>\r\n",
      "image/png": "[encoded data removed]"
     },
     "metadata": {
      "needs_background": "light"
     }
    }
   ],
   "source": [
    "fig, ax = plt.subplots()\n",
    "ax.plot(nn.history['loss'])\n",
    "ax.plot(nn.history['val_loss'], color='y')"
   ]
  },
  {
   "cell_type": "code",
   "execution_count": 13,
   "metadata": {},
   "outputs": [],
   "source": [
    "predicted_stock_price = model.predict(X_test)\n",
    "predicted_stock_price = sc.inverse_transform(predicted_stock_price)"
   ]
  },
  {
   "cell_type": "code",
   "execution_count": 14,
   "metadata": {},
   "outputs": [],
   "source": [
    "real = test_set.values"
   ]
  },
  {
   "cell_type": "code",
   "execution_count": 15,
   "metadata": {},
   "outputs": [
    {
     "output_type": "display_data",
     "data": {
      "application/vnd.plotly.v1+json": {
       "config": {
        "plotlyServerURL": "https://plot.ly"
       },
       "data": [
        {
         "name": "real",
         "type": "scatter",
         "x": [
          "2020-06-23T00:00:00",
          "2020-06-24T00:00:00",
          "2020-06-25T00:00:00",
          "2020-06-29T00:00:00",
          "2020-06-30T00:00:00",
          "2020-07-01T00:00:00",
          "2020-07-02T00:00:00",
          "2020-07-03T00:00:00",
          "2020-07-06T00:00:00",
          "2020-07-07T00:00:00",
          "2020-07-08T00:00:00",
          "2020-07-09T00:00:00",
          "2020-07-10T00:00:00",
          "2020-07-13T00:00:00",
          "2020-07-14T00:00:00",
          "2020-07-15T00:00:00",
          "2020-07-16T00:00:00",
          "2020-07-17T00:00:00",
          "2020-07-20T00:00:00",
          "2020-07-21T00:00:00",
          "2020-07-22T00:00:00",
          "2020-07-23T00:00:00",
          "2020-07-24T00:00:00",
          "2020-07-27T00:00:00",
          "2020-07-30T00:00:00",
          "2020-07-31T00:00:00",
          "2020-08-03T00:00:00",
          "2020-08-04T00:00:00",
          "2020-08-05T00:00:00",
          "2020-08-06T00:00:00",
          "2020-08-07T00:00:00",
          "2020-08-10T00:00:00",
          "2020-08-11T00:00:00",
          "2020-08-12T00:00:00",
          "2020-08-13T00:00:00",
          "2020-08-17T00:00:00",
          "2020-08-18T00:00:00",
          "2020-08-19T00:00:00",
          "2020-08-20T00:00:00",
          "2020-08-21T00:00:00"
         ],
         "y": [
          10.95,
          10.9,
          10.85,
          10.6,
          10.6,
          10.6,
          10.5,
          10.35,
          10.5,
          10.45,
          10.4,
          10.45,
          10.45,
          10.4,
          10.5,
          10.45,
          10.6,
          10.55,
          10.4,
          10.4,
          10.3,
          10.3,
          9.6,
          8.93,
          9.4,
          9.35,
          9.6,
          9.9,
          10.2,
          10.2,
          10.15,
          10.2,
          10.3,
          10.85,
          10.85,
          10.8,
          11,
          11,
          10.85,
          10.9
         ]
        },
        {
         "name": "pred",
         "type": "scatter",
         "x": [
          "2020-06-23T00:00:00",
          "2020-06-24T00:00:00",
          "2020-06-25T00:00:00",
          "2020-06-29T00:00:00",
          "2020-06-30T00:00:00",
          "2020-07-01T00:00:00",
          "2020-07-02T00:00:00",
          "2020-07-03T00:00:00",
          "2020-07-06T00:00:00",
          "2020-07-07T00:00:00",
          "2020-07-08T00:00:00",
          "2020-07-09T00:00:00",
          "2020-07-10T00:00:00",
          "2020-07-13T00:00:00",
          "2020-07-14T00:00:00",
          "2020-07-15T00:00:00",
          "2020-07-16T00:00:00",
          "2020-07-17T00:00:00",
          "2020-07-20T00:00:00",
          "2020-07-21T00:00:00",
          "2020-07-22T00:00:00",
          "2020-07-23T00:00:00",
          "2020-07-24T00:00:00",
          "2020-07-27T00:00:00",
          "2020-07-30T00:00:00",
          "2020-07-31T00:00:00",
          "2020-08-03T00:00:00",
          "2020-08-04T00:00:00",
          "2020-08-05T00:00:00",
          "2020-08-06T00:00:00",
          "2020-08-07T00:00:00",
          "2020-08-10T00:00:00",
          "2020-08-11T00:00:00",
          "2020-08-12T00:00:00",
          "2020-08-13T00:00:00",
          "2020-08-17T00:00:00",
          "2020-08-18T00:00:00",
          "2020-08-19T00:00:00",
          "2020-08-20T00:00:00",
          "2020-08-21T00:00:00"
         ],
         "y": [
          10.947216987609863,
          10.820106506347656,
          10.745458602905273,
          10.679452896118164,
          10.446527481079102,
          10.40966510772705,
          10.40784740447998,
          10.325824737548828,
          10.1853666305542,
          10.293913841247559,
          10.267399787902832,
          10.220724105834961,
          10.253655433654785,
          10.256901741027832,
          10.213094711303711,
          10.291098594665527,
          10.26003360748291,
          10.38557243347168,
          10.362618446350098,
          10.229682922363281,
          10.2061185836792,
          10.116133689880371,
          10.103472709655762,
          9.504120826721191,
          8.82381534576416,
          9.107770919799805,
          9.10983943939209,
          9.340940475463867,
          9.630461692810059,
          9.933830261230469,
          9.982046127319336,
          9.937361717224121,
          9.961302757263184,
          10.049561500549316,
          10.543990135192871,
          10.635053634643555,
          10.616238594055176,
          10.7864351272583,
          10.816978454589844,
          10.695443153381348
         ]
        }
       ],
       "layout": {
        "template": {
         "data": {
          "bar": [
           {
            "error_x": {
             "color": "#2a3f5f"
            },
            "error_y": {
             "color": "#2a3f5f"
            },
            "marker": {
             "line": {
              "color": "#E5ECF6",
              "width": 0.5
             }
            },
            "type": "bar"
           }
          ],
          "barpolar": [
           {
            "marker": {
             "line": {
              "color": "#E5ECF6",
              "width": 0.5
             }
            },
            "type": "barpolar"
           }
          ],
          "carpet": [
           {
            "aaxis": {
             "endlinecolor": "#2a3f5f",
             "gridcolor": "white",
             "linecolor": "white",
             "minorgridcolor": "white",
             "startlinecolor": "#2a3f5f"
            },
            "baxis": {
             "endlinecolor": "#2a3f5f",
             "gridcolor": "white",
             "linecolor": "white",
             "minorgridcolor": "white",
             "startlinecolor": "#2a3f5f"
            },
            "type": "carpet"
           }
          ],
          "choropleth": [
           {
            "colorbar": {
             "outlinewidth": 0,
             "ticks": ""
            },
            "type": "choropleth"
           }
          ],
          "contour": [
           {
            "colorbar": {
             "outlinewidth": 0,
             "ticks": ""
            },
            "colorscale": [
             [
              0,
              "#0d0887"
             ],
             [
              0.1111111111111111,
              "#46039f"
             ],
             [
              0.2222222222222222,
              "#7201a8"
             ],
             [
              0.3333333333333333,
              "#9c179e"
             ],
             [
              0.4444444444444444,
              "#bd3786"
             ],
             [
              0.5555555555555556,
              "#d8576b"
             ],
             [
              0.6666666666666666,
              "#ed7953"
             ],
             [
              0.7777777777777778,
              "#fb9f3a"
             ],
             [
              0.8888888888888888,
              "#fdca26"
             ],
             [
              1,
              "#f0f921"
             ]
            ],
            "type": "contour"
           }
          ],
          "contourcarpet": [
           {
            "colorbar": {
             "outlinewidth": 0,
             "ticks": ""
            },
            "type": "contourcarpet"
           }
          ],
          "heatmap": [
           {
            "colorbar": {
             "outlinewidth": 0,
             "ticks": ""
            },
            "colorscale": [
             [
              0,
              "#0d0887"
             ],
             [
              0.1111111111111111,
              "#46039f"
             ],
             [
              0.2222222222222222,
              "#7201a8"
             ],
             [
              0.3333333333333333,
              "#9c179e"
             ],
             [
              0.4444444444444444,
              "#bd3786"
             ],
             [
              0.5555555555555556,
              "#d8576b"
             ],
             [
              0.6666666666666666,
              "#ed7953"
             ],
             [
              0.7777777777777778,
              "#fb9f3a"
             ],
             [
              0.8888888888888888,
              "#fdca26"
             ],
             [
              1,
              "#f0f921"
             ]
            ],
            "type": "heatmap"
           }
          ],
          "heatmapgl": [
           {
            "colorbar": {
             "outlinewidth": 0,
             "ticks": ""
            },
            "colorscale": [
             [
              0,
              "#0d0887"
             ],
             [
              0.1111111111111111,
              "#46039f"
             ],
             [
              0.2222222222222222,
              "#7201a8"
             ],
             [
              0.3333333333333333,
              "#9c179e"
             ],
             [
              0.4444444444444444,
              "#bd3786"
             ],
             [
              0.5555555555555556,
              "#d8576b"
             ],
             [
              0.6666666666666666,
              "#ed7953"
             ],
             [
              0.7777777777777778,
              "#fb9f3a"
             ],
             [
              0.8888888888888888,
              "#fdca26"
             ],
             [
              1,
              "#f0f921"
             ]
            ],
            "type": "heatmapgl"
           }
          ],
          "histogram": [
           {
            "marker": {
             "colorbar": {
              "outlinewidth": 0,
              "ticks": ""
             }
            },
            "type": "histogram"
           }
          ],
          "histogram2d": [
           {
            "colorbar": {
             "outlinewidth": 0,
             "ticks": ""
            },
            "colorscale": [
             [
              0,
              "#0d0887"
             ],
             [
              0.1111111111111111,
              "#46039f"
             ],
             [
              0.2222222222222222,
              "#7201a8"
             ],
             [
              0.3333333333333333,
              "#9c179e"
             ],
             [
              0.4444444444444444,
              "#bd3786"
             ],
             [
              0.5555555555555556,
              "#d8576b"
             ],
             [
              0.6666666666666666,
              "#ed7953"
             ],
             [
              0.7777777777777778,
              "#fb9f3a"
             ],
             [
              0.8888888888888888,
              "#fdca26"
             ],
             [
              1,
              "#f0f921"
             ]
            ],
            "type": "histogram2d"
           }
          ],
          "histogram2dcontour": [
           {
            "colorbar": {
             "outlinewidth": 0,
             "ticks": ""
            },
            "colorscale": [
             [
              0,
              "#0d0887"
             ],
             [
              0.1111111111111111,
              "#46039f"
             ],
             [
              0.2222222222222222,
              "#7201a8"
             ],
             [
              0.3333333333333333,
              "#9c179e"
             ],
             [
              0.4444444444444444,
              "#bd3786"
             ],
             [
              0.5555555555555556,
              "#d8576b"
             ],
             [
              0.6666666666666666,
              "#ed7953"
             ],
             [
              0.7777777777777778,
              "#fb9f3a"
             ],
             [
              0.8888888888888888,
              "#fdca26"
             ],
             [
              1,
              "#f0f921"
             ]
            ],
            "type": "histogram2dcontour"
           }
          ],
          "mesh3d": [
           {
            "colorbar": {
             "outlinewidth": 0,
             "ticks": ""
            },
            "type": "mesh3d"
           }
          ],
          "parcoords": [
           {
            "line": {
             "colorbar": {
              "outlinewidth": 0,
              "ticks": ""
             }
            },
            "type": "parcoords"
           }
          ],
          "pie": [
           {
            "automargin": true,
            "type": "pie"
           }
          ],
          "scatter": [
           {
            "marker": {
             "colorbar": {
              "outlinewidth": 0,
              "ticks": ""
             }
            },
            "type": "scatter"
           }
          ],
          "scatter3d": [
           {
            "line": {
             "colorbar": {
              "outlinewidth": 0,
              "ticks": ""
             }
            },
            "marker": {
             "colorbar": {
              "outlinewidth": 0,
              "ticks": ""
             }
            },
            "type": "scatter3d"
           }
          ],
          "scattercarpet": [
           {
            "marker": {
             "colorbar": {
              "outlinewidth": 0,
              "ticks": ""
             }
            },
            "type": "scattercarpet"
           }
          ],
          "scattergeo": [
           {
            "marker": {
             "colorbar": {
              "outlinewidth": 0,
              "ticks": ""
             }
            },
            "type": "scattergeo"
           }
          ],
          "scattergl": [
           {
            "marker": {
             "colorbar": {
              "outlinewidth": 0,
              "ticks": ""
             }
            },
            "type": "scattergl"
           }
          ],
          "scattermapbox": [
           {
            "marker": {
             "colorbar": {
              "outlinewidth": 0,
              "ticks": ""
             }
            },
            "type": "scattermapbox"
           }
          ],
          "scatterpolar": [
           {
            "marker": {
             "colorbar": {
              "outlinewidth": 0,
              "ticks": ""
             }
            },
            "type": "scatterpolar"
           }
          ],
          "scatterpolargl": [
           {
            "marker": {
             "colorbar": {
              "outlinewidth": 0,
              "ticks": ""
             }
            },
            "type": "scatterpolargl"
           }
          ],
          "scatterternary": [
           {
            "marker": {
             "colorbar": {
              "outlinewidth": 0,
              "ticks": ""
             }
            },
            "type": "scatterternary"
           }
          ],
          "surface": [
           {
            "colorbar": {
             "outlinewidth": 0,
             "ticks": ""
            },
            "colorscale": [
             [
              0,
              "#0d0887"
             ],
             [
              0.1111111111111111,
              "#46039f"
             ],
             [
              0.2222222222222222,
              "#7201a8"
             ],
             [
              0.3333333333333333,
              "#9c179e"
             ],
             [
              0.4444444444444444,
              "#bd3786"
             ],
             [
              0.5555555555555556,
              "#d8576b"
             ],
             [
              0.6666666666666666,
              "#ed7953"
             ],
             [
              0.7777777777777778,
              "#fb9f3a"
             ],
             [
              0.8888888888888888,
              "#fdca26"
             ],
             [
              1,
              "#f0f921"
             ]
            ],
            "type": "surface"
           }
          ],
          "table": [
           {
            "cells": {
             "fill": {
              "color": "#EBF0F8"
             },
             "line": {
              "color": "white"
             }
            },
            "header": {
             "fill": {
              "color": "#C8D4E3"
             },
             "line": {
              "color": "white"
             }
            },
            "type": "table"
           }
          ]
         },
         "layout": {
          "annotationdefaults": {
           "arrowcolor": "#2a3f5f",
           "arrowhead": 0,
           "arrowwidth": 1
          },
          "coloraxis": {
           "colorbar": {
            "outlinewidth": 0,
            "ticks": ""
           }
          },
          "colorscale": {
           "diverging": [
            [
             0,
             "#8e0152"
            ],
            [
             0.1,
             "#c51b7d"
            ],
            [
             0.2,
             "#de77ae"
            ],
            [
             0.3,
             "#f1b6da"
            ],
            [
             0.4,
             "#fde0ef"
            ],
            [
             0.5,
             "#f7f7f7"
            ],
            [
             0.6,
             "#e6f5d0"
            ],
            [
             0.7,
             "#b8e186"
            ],
            [
             0.8,
             "#7fbc41"
            ],
            [
             0.9,
             "#4d9221"
            ],
            [
             1,
             "#276419"
            ]
           ],
           "sequential": [
            [
             0,
             "#0d0887"
            ],
            [
             0.1111111111111111,
             "#46039f"
            ],
            [
             0.2222222222222222,
             "#7201a8"
            ],
            [
             0.3333333333333333,
             "#9c179e"
            ],
            [
             0.4444444444444444,
             "#bd3786"
            ],
            [
             0.5555555555555556,
             "#d8576b"
            ],
            [
             0.6666666666666666,
             "#ed7953"
            ],
            [
             0.7777777777777778,
             "#fb9f3a"
            ],
            [
             0.8888888888888888,
             "#fdca26"
            ],
            [
             1,
             "#f0f921"
            ]
           ],
           "sequentialminus": [
            [
             0,
             "#0d0887"
            ],
            [
             0.1111111111111111,
             "#46039f"
            ],
            [
             0.2222222222222222,
             "#7201a8"
            ],
            [
             0.3333333333333333,
             "#9c179e"
            ],
            [
             0.4444444444444444,
             "#bd3786"
            ],
            [
             0.5555555555555556,
             "#d8576b"
            ],
            [
             0.6666666666666666,
             "#ed7953"
            ],
            [
             0.7777777777777778,
             "#fb9f3a"
            ],
            [
             0.8888888888888888,
             "#fdca26"
            ],
            [
             1,
             "#f0f921"
            ]
           ]
          },
          "colorway": [
           "#636efa",
           "#EF553B",
           "#00cc96",
           "#ab63fa",
           "#FFA15A",
           "#19d3f3",
           "#FF6692",
           "#B6E880",
           "#FF97FF",
           "#FECB52"
          ],
          "font": {
           "color": "#2a3f5f"
          },
          "geo": {
           "bgcolor": "white",
           "lakecolor": "white",
           "landcolor": "#E5ECF6",
           "showlakes": true,
           "showland": true,
           "subunitcolor": "white"
          },
          "hoverlabel": {
           "align": "left"
          },
          "hovermode": "closest",
          "mapbox": {
           "style": "light"
          },
          "paper_bgcolor": "white",
          "plot_bgcolor": "#E5ECF6",
          "polar": {
           "angularaxis": {
            "gridcolor": "white",
            "linecolor": "white",
            "ticks": ""
           },
           "bgcolor": "#E5ECF6",
           "radialaxis": {
            "gridcolor": "white",
            "linecolor": "white",
            "ticks": ""
           }
          },
          "scene": {
           "xaxis": {
            "backgroundcolor": "#E5ECF6",
            "gridcolor": "white",
            "gridwidth": 2,
            "linecolor": "white",
            "showbackground": true,
            "ticks": "",
            "zerolinecolor": "white"
           },
           "yaxis": {
            "backgroundcolor": "#E5ECF6",
            "gridcolor": "white",
            "gridwidth": 2,
            "linecolor": "white",
            "showbackground": true,
            "ticks": "",
            "zerolinecolor": "white"
           },
           "zaxis": {
            "backgroundcolor": "#E5ECF6",
            "gridcolor": "white",
            "gridwidth": 2,
            "linecolor": "white",
            "showbackground": true,
            "ticks": "",
            "zerolinecolor": "white"
           }
          },
          "shapedefaults": {
           "line": {
            "color": "#2a3f5f"
           }
          },
          "ternary": {
           "aaxis": {
            "gridcolor": "white",
            "linecolor": "white",
            "ticks": ""
           },
           "baxis": {
            "gridcolor": "white",
            "linecolor": "white",
            "ticks": ""
           },
           "bgcolor": "#E5ECF6",
           "caxis": {
            "gridcolor": "white",
            "linecolor": "white",
            "ticks": ""
           }
          },
          "title": {
           "x": 0.05
          },
          "xaxis": {
           "automargin": true,
           "gridcolor": "white",
           "linecolor": "white",
           "ticks": "",
           "title": {
            "standoff": 15
           },
           "zerolinecolor": "white",
           "zerolinewidth": 2
          },
          "yaxis": {
           "automargin": true,
           "gridcolor": "white",
           "linecolor": "white",
           "ticks": "",
           "title": {
            "standoff": 15
           },
           "zerolinecolor": "white",
           "zerolinewidth": 2
          }
         }
        }
       }
      }
     },
     "metadata": {}
    }
   ],
   "source": [
    "fig = go.Figure()\n",
    "\n",
    "fig.add_trace(\n",
    "    go.Scatter(\n",
    "        name='real',\n",
    "        x=df.iloc[-40:,:]['date'],\n",
    "        y=real.flatten()\n",
    "    )\n",
    ")\n",
    "\n",
    "fig.add_trace(\n",
    "    go.Scatter(\n",
    "        name='pred',\n",
    "        x=df.iloc[-40:,:]['date'],\n",
    "        y=predicted_stock_price.flatten()\n",
    "    )\n",
    ")\n",
    "fig.show()"
   ]
  },
  {
   "cell_type": "code",
   "execution_count": 40,
   "metadata": {},
   "outputs": [
    {
     "output_type": "execute_result",
     "data": {
      "text/plain": "5.409361499134738"
     },
     "metadata": {},
     "execution_count": 40
    }
   ],
   "source": [
    "mean_squared_error(real, predicted_stock_price)"
   ]
  },
  {
   "cell_type": "code",
   "execution_count": null,
   "metadata": {},
   "outputs": [],
   "source": [
    "0.08086984669252982"
   ]
  }
 ],
 "metadata": {
  "kernelspec": {
   "display_name": "Python 3",
   "language": "python",
   "name": "python3"
  },
  "language_info": {
   "codemirror_mode": {
    "name": "ipython",
    "version": 3
   },
   "file_extension": ".py",
   "mimetype": "text/x-python",
   "name": "python",
   "nbconvert_exporter": "python",
   "pygments_lexer": "ipython3",
   "version": "3.7.7-final"
  }
 },
 "nbformat": 4,
 "nbformat_minor": 4
}