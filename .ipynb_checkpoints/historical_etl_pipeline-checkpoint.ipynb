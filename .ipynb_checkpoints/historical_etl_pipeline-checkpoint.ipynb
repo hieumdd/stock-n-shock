{
 "cells": [
  {
   "cell_type": "code",
   "execution_count": 54,
   "metadata": {},
   "outputs": [],
   "source": [
    "import numpy as np\n",
    "import pandas as pd\n",
    "import os\n",
    "import re\n",
    "from sqlalchemy import create_engine\n",
    "import argparse\n",
    "from tqdm import tqdm"
   ]
  },
  {
   "cell_type": "code",
   "execution_count": 55,
   "metadata": {},
   "outputs": [],
   "source": [
    "all_csv = os.listdir('./csv')"
   ]
  },
  {
   "cell_type": "code",
   "execution_count": 53,
   "metadata": {},
   "outputs": [],
   "source": [
    "def etl(filenames, floor):\n",
    "    engine = create_engine('sqlite:///vn.db', echo=False)\n",
    "    regex = re.compile(f'.+{floor}.+')\n",
    "    matches = [m for m in map(regex.match, filenames) if m is not None]\n",
    "    for match in tqdm(matches):\n",
    "        df = pd.read_csv('./csv/' + match.group(0))\n",
    "        df = df.rename(mapper={\n",
    "            '<Ticker>': 'ticker',\n",
    "            '<DTYYYYMMDD>': 'date',\n",
    "            '<Open>': 'open',\n",
    "            '<High>': 'high',\n",
    "            '<Low>': 'low',\n",
    "            '<Close>': 'close',\n",
    "            '<Volume>': 'volume'\n",
    "        }, axis=1)\n",
    "        df['date'] = pd.to_datetime(df['date'], format='%Y%m%d')\n",
    "        df.to_sql(floor, con=engine, if_exists='append', index=False)"
   ]
  },
  {
   "cell_type": "code",
   "execution_count": 56,
   "metadata": {},
   "outputs": [],
   "source": [
    "etl(all_csv, 'HSX')\n",
    "etl(all_csv, 'HNX')\n",
    "etl(all_csv, 'UPCOM')"
   ]
  }
 ],
 "metadata": {
  "kernelspec": {
   "display_name": "Python 3",
   "language": "python",
   "name": "python3"
  },
  "language_info": {
   "codemirror_mode": {
    "name": "ipython",
    "version": 3
   },
   "file_extension": ".py",
   "mimetype": "text/x-python",
   "name": "python",
   "nbconvert_exporter": "python",
   "pygments_lexer": "ipython3",
   "version": "3.7.6"
  }
 },
 "nbformat": 4,
 "nbformat_minor": 4
}
