{
 "cells": [
  {
   "cell_type": "code",
   "execution_count": 22,
   "metadata": {},
   "outputs": [],
   "source": [
    "import numpy as np\n",
    "import pandas as pd\n",
    "from sqlalchemy import create_engine\n",
    "import requests\n",
    "import zipfile\n",
    "import io\n",
    "import os\n",
    "import re\n",
    "from datetime import datetime\n",
    "from tqdm import tqdm\n",
    "import logging"
   ]
  },
  {
   "cell_type": "code",
   "execution_count": 42,
   "metadata": {},
   "outputs": [],
   "source": [
    "logging.basicConfig(filename='bad_date.log', level=logging.INFO)"
   ]
  },
  {
   "cell_type": "code",
   "execution_count": 2,
   "metadata": {},
   "outputs": [],
   "source": [
    "def get_all_csv(url):\n",
    "    with requests.get(url) as r:\n",
    "        z = zipfile.ZipFile(io.BytesIO(r.content))\n",
    "        z.extractall('csv/')"
   ]
  },
  {
   "cell_type": "code",
   "execution_count": 3,
   "metadata": {},
   "outputs": [],
   "source": [
    "base_url = 'http://images1.cafef.vn/data/{0}/CafeF.SolieuGD.{1}.zip'"
   ]
  },
  {
   "cell_type": "code",
   "execution_count": 8,
   "metadata": {},
   "outputs": [],
   "source": [
    "today = datetime.now()"
   ]
  },
  {
   "cell_type": "code",
   "execution_count": 9,
   "metadata": {},
   "outputs": [],
   "source": [
    "def to_1st_date_ranges(x):\n",
    "    return x.strftime('%Y%m%d')\n",
    "\n",
    "def to_2nd_date_ranges(x):\n",
    "    return x.strftime('%d%m%Y')"
   ]
  },
  {
   "cell_type": "code",
   "execution_count": 15,
   "metadata": {},
   "outputs": [],
   "source": [
    "date_1 = to_1st_date_ranges(today)\n",
    "date_2 = to_2nd_date_ranges(today)"
   ]
  },
  {
   "cell_type": "code",
   "execution_count": 17,
   "metadata": {},
   "outputs": [
    {
     "name": "stdout",
     "output_type": "stream",
     "text": [
      "http://images1.cafef.vn/data/20200812/CafeF.SolieuGD.12082020.zip\n"
     ]
    }
   ],
   "source": [
    "url = base_url.format(date_1, date_2)\n",
    "print(url)\n",
    "try:\n",
    "    get_all_csv(url)\n",
    "except:\n",
    "    print(f'Error at {url}')\n",
    "    logging.info(date_1)"
   ]
  },
  {
   "cell_type": "code",
   "execution_count": 19,
   "metadata": {},
   "outputs": [],
   "source": [
    "all_csv = os.listdir('./csv')"
   ]
  },
  {
   "cell_type": "code",
   "execution_count": 21,
   "metadata": {},
   "outputs": [],
   "source": [
    "def etl(filenames, floor):\n",
    "    engine = create_engine('sqlite:///vn.db', echo=False)\n",
    "    regex = re.compile(f'.+{floor}.+')\n",
    "    matches = [m for m in map(regex.match, filenames) if m is not None]\n",
    "    for match in tqdm(matches):\n",
    "        df = pd.read_csv('./csv/' + match.group(0))\n",
    "        df = df.rename(mapper={\n",
    "            '<Ticker>': 'ticker',\n",
    "            '<DTYYYYMMDD>': 'date',\n",
    "            '<Open>': 'open',\n",
    "            '<High>': 'high',\n",
    "            '<Low>': 'low',\n",
    "            '<Close>': 'close',\n",
    "            '<Volume>': 'volume'\n",
    "        }, axis=1)\n",
    "        df['date'] = pd.to_datetime(df['date'], format='%Y%m%d')\n",
    "        df.to_sql(floor, con=engine, if_exists='append', index=False)"
   ]
  },
  {
   "cell_type": "code",
   "execution_count": 23,
   "metadata": {},
   "outputs": [
    {
     "name": "stderr",
     "output_type": "stream",
     "text": [
      "100%|████████████████████████████████████████████████████████████████████████████████████| 1/1 [00:01<00:00,  1.28s/it]\n",
      "100%|████████████████████████████████████████████████████████████████████████████████████| 1/1 [00:00<00:00,  3.92it/s]\n",
      "100%|████████████████████████████████████████████████████████████████████████████████████| 1/1 [00:00<00:00,  4.60it/s]\n"
     ]
    }
   ],
   "source": [
    "etl(all_csv, 'HSX')\n",
    "etl(all_csv, 'HNX')\n",
    "etl(all_csv, 'UPCOM')"
   ]
  },
  {
   "cell_type": "code",
   "execution_count": 38,
   "metadata": {},
   "outputs": [],
   "source": [
    "for i in all_csv:\n",
    "    os.remove('./csv/' + i)"
   ]
  }
 ],
 "metadata": {
  "kernelspec": {
   "display_name": "Python 3",
   "language": "python",
   "name": "python3"
  },
  "language_info": {
   "codemirror_mode": {
    "name": "ipython",
    "version": 3
   },
   "file_extension": ".py",
   "mimetype": "text/x-python",
   "name": "python",
   "nbconvert_exporter": "python",
   "pygments_lexer": "ipython3",
   "version": "3.7.7"
  }
 },
 "nbformat": 4,
 "nbformat_minor": 4
}
