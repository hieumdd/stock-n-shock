{
 "cells": [
  {
   "cell_type": "code",
   "execution_count": 13,
   "metadata": {},
   "outputs": [],
   "source": [
    "import numpy as np\n",
    "import pandas as pd\n",
    "import os\n",
    "import re\n",
    "from sqlalchemy import create_engine\n",
    "from sqlalchemy.dialects.sqlite import DATE, FLOAT, TEXT\n",
    "import argparse\n",
    "from tqdm import tqdm"
   ]
  },
  {
   "cell_type": "code",
   "execution_count": 14,
   "metadata": {},
   "outputs": [],
   "source": [
    "all_csv = os.listdir('./csv')"
   ]
  },
  {
   "cell_type": "code",
   "execution_count": 21,
   "metadata": {},
   "outputs": [],
   "source": [
    "schema = {\n",
    "    'ticker':TEXT,\n",
    "    'date':DATE,\n",
    "    'open':FLOAT,\n",
    "    'high':FLOAT,\n",
    "    'low':FLOAT,\n",
    "    'close':FLOAT,\n",
    "    'volume':FLOAT\n",
    "}"
   ]
  },
  {
   "cell_type": "code",
   "execution_count": 22,
   "metadata": {},
   "outputs": [],
   "source": [
    "def etl(filenames, floor):\n",
    "    engine = create_engine('sqlite:///vn2.db', echo=False)\n",
    "    regex = re.compile(f'.+{floor}.+')\n",
    "    matches = [m for m in map(regex.match, filenames) if m is not None]\n",
    "    for match in tqdm(matches):\n",
    "        df = pd.read_csv('./csv/' + match.group(0))\n",
    "        df = df.rename(mapper={\n",
    "            '<Ticker>': 'ticker',\n",
    "            '<DTYYYYMMDD>': 'date',\n",
    "            '<Open>': 'open',\n",
    "            '<High>': 'high',\n",
    "            '<Low>': 'low',\n",
    "            '<Close>': 'close',\n",
    "            '<Volume>': 'volume'\n",
    "        }, axis=1)\n",
    "        for i in ['open', 'high', 'close', 'low']:\n",
    "            df[i] = df[i].astype(float)\n",
    "\n",
    "        df['date'] = pd.to_datetime(df['date'], format='%Y%m%d')\n",
    "        df.to_sql(floor, con=engine, if_exists='append', dtype=schema, index=False)"
   ]
  },
  {
   "cell_type": "code",
   "execution_count": 23,
   "metadata": {
    "tags": []
   },
   "outputs": [
    {
     "output_type": "stream",
     "name": "stderr",
     "text": "100%|██████████| 1793/1793 [03:49<00:00,  7.82it/s]\n100%|██████████| 1793/1793 [03:38<00:00,  8.22it/s]\n100%|██████████| 890/890 [01:50<00:00,  8.08it/s]\n"
    }
   ],
   "source": [
    "etl(all_csv, 'HSX')\n",
    "etl(all_csv, 'HNX')\n",
    "etl(all_csv, 'UPCOM')"
   ]
  },
  {
   "cell_type": "code",
   "execution_count": 24,
   "metadata": {},
   "outputs": [],
   "source": [
    "engine = create_engine('sqlite:///vn2.db', echo=False)"
   ]
  },
  {
   "cell_type": "code",
   "execution_count": 42,
   "metadata": {},
   "outputs": [],
   "source": [
    "a = pd.read_sql(\"SELECT * FROM HSX ORDER BY high\", con=engine)"
   ]
  },
  {
   "cell_type": "code",
   "execution_count": 43,
   "metadata": {},
   "outputs": [
    {
     "output_type": "execute_result",
     "data": {
      "text/plain": "                open           high            low          close  \\\ncount  568162.000000  568162.000000  568162.000000  568162.000000   \nmean       26.028733      26.387167      25.689072      26.075847   \nstd        54.793858      55.221148      54.372626      54.834261   \nmin         0.000000       0.000000       0.000000       0.010000   \n25%         7.900000       8.000000       7.800000       7.900000   \n50%        15.300000      15.600000      15.100000      15.400000   \n75%        29.000000      29.350000      28.500000      29.000000   \nmax      1662.000000    1669.750000    1654.810000    1662.370000   \n\n             volume  \ncount  5.681620e+05  \nmean   8.325089e+05  \nstd    8.664047e+06  \nmin    1.000000e+00  \n25%    3.950000e+03  \n50%    4.248000e+04  \n75%    2.874000e+05  \nmax    6.178268e+08  ",
      "text/html": "<div>\n<style scoped>\n    .dataframe tbody tr th:only-of-type {\n        vertical-align: middle;\n    }\n\n    .dataframe tbody tr th {\n        vertical-align: top;\n    }\n\n    .dataframe thead th {\n        text-align: right;\n    }\n</style>\n<table border=\"1\" class=\"dataframe\">\n  <thead>\n    <tr style=\"text-align: right;\">\n      <th></th>\n      <th>open</th>\n      <th>high</th>\n      <th>low</th>\n      <th>close</th>\n      <th>volume</th>\n    </tr>\n  </thead>\n  <tbody>\n    <tr>\n      <th>count</th>\n      <td>568162.000000</td>\n      <td>568162.000000</td>\n      <td>568162.000000</td>\n      <td>568162.000000</td>\n      <td>5.681620e+05</td>\n    </tr>\n    <tr>\n      <th>mean</th>\n      <td>26.028733</td>\n      <td>26.387167</td>\n      <td>25.689072</td>\n      <td>26.075847</td>\n      <td>8.325089e+05</td>\n    </tr>\n    <tr>\n      <th>std</th>\n      <td>54.793858</td>\n      <td>55.221148</td>\n      <td>54.372626</td>\n      <td>54.834261</td>\n      <td>8.664047e+06</td>\n    </tr>\n    <tr>\n      <th>min</th>\n      <td>0.000000</td>\n      <td>0.000000</td>\n      <td>0.000000</td>\n      <td>0.010000</td>\n      <td>1.000000e+00</td>\n    </tr>\n    <tr>\n      <th>25%</th>\n      <td>7.900000</td>\n      <td>8.000000</td>\n      <td>7.800000</td>\n      <td>7.900000</td>\n      <td>3.950000e+03</td>\n    </tr>\n    <tr>\n      <th>50%</th>\n      <td>15.300000</td>\n      <td>15.600000</td>\n      <td>15.100000</td>\n      <td>15.400000</td>\n      <td>4.248000e+04</td>\n    </tr>\n    <tr>\n      <th>75%</th>\n      <td>29.000000</td>\n      <td>29.350000</td>\n      <td>28.500000</td>\n      <td>29.000000</td>\n      <td>2.874000e+05</td>\n    </tr>\n    <tr>\n      <th>max</th>\n      <td>1662.000000</td>\n      <td>1669.750000</td>\n      <td>1654.810000</td>\n      <td>1662.370000</td>\n      <td>6.178268e+08</td>\n    </tr>\n  </tbody>\n</table>\n</div>"
     },
     "metadata": {},
     "execution_count": 43
    }
   ],
   "source": [
    "a.describe()"
   ]
  },
  {
   "cell_type": "code",
   "execution_count": 45,
   "metadata": {},
   "outputs": [
    {
     "output_type": "execute_result",
     "data": {
      "text/plain": "                open           high            low          close  \\\ncount  551697.000000  551697.000000  551697.000000  551697.000000   \nmean       24.226270      24.576921      23.894936      24.271685   \nstd        27.123391      27.460758      26.784007      27.148971   \nmin         0.000000       0.380000       0.360000       0.370000   \n25%         8.250000       8.400000       8.100000       8.300000   \n50%        15.800000      16.000000      15.550000      15.900000   \n75%        29.300000      29.700000      28.900000      29.350000   \nmax       342.000000     347.000000     342.000000     343.000000   \n\n             volume  \ncount  5.516970e+05  \nmean   4.363429e+05  \nstd    1.445251e+06  \nmin    1.000000e+00  \n25%    3.770000e+03  \n50%    4.183000e+04  \n75%    2.918600e+05  \nmax    1.284439e+08  ",
      "text/html": "<div>\n<style scoped>\n    .dataframe tbody tr th:only-of-type {\n        vertical-align: middle;\n    }\n\n    .dataframe tbody tr th {\n        vertical-align: top;\n    }\n\n    .dataframe thead th {\n        text-align: right;\n    }\n</style>\n<table border=\"1\" class=\"dataframe\">\n  <thead>\n    <tr style=\"text-align: right;\">\n      <th></th>\n      <th>open</th>\n      <th>high</th>\n      <th>low</th>\n      <th>close</th>\n      <th>volume</th>\n    </tr>\n  </thead>\n  <tbody>\n    <tr>\n      <th>count</th>\n      <td>551697.000000</td>\n      <td>551697.000000</td>\n      <td>551697.000000</td>\n      <td>551697.000000</td>\n      <td>5.516970e+05</td>\n    </tr>\n    <tr>\n      <th>mean</th>\n      <td>24.226270</td>\n      <td>24.576921</td>\n      <td>23.894936</td>\n      <td>24.271685</td>\n      <td>4.363429e+05</td>\n    </tr>\n    <tr>\n      <th>std</th>\n      <td>27.123391</td>\n      <td>27.460758</td>\n      <td>26.784007</td>\n      <td>27.148971</td>\n      <td>1.445251e+06</td>\n    </tr>\n    <tr>\n      <th>min</th>\n      <td>0.000000</td>\n      <td>0.380000</td>\n      <td>0.360000</td>\n      <td>0.370000</td>\n      <td>1.000000e+00</td>\n    </tr>\n    <tr>\n      <th>25%</th>\n      <td>8.250000</td>\n      <td>8.400000</td>\n      <td>8.100000</td>\n      <td>8.300000</td>\n      <td>3.770000e+03</td>\n    </tr>\n    <tr>\n      <th>50%</th>\n      <td>15.800000</td>\n      <td>16.000000</td>\n      <td>15.550000</td>\n      <td>15.900000</td>\n      <td>4.183000e+04</td>\n    </tr>\n    <tr>\n      <th>75%</th>\n      <td>29.300000</td>\n      <td>29.700000</td>\n      <td>28.900000</td>\n      <td>29.350000</td>\n      <td>2.918600e+05</td>\n    </tr>\n    <tr>\n      <th>max</th>\n      <td>342.000000</td>\n      <td>347.000000</td>\n      <td>342.000000</td>\n      <td>343.000000</td>\n      <td>1.284439e+08</td>\n    </tr>\n  </tbody>\n</table>\n</div>"
     },
     "metadata": {},
     "execution_count": 45
    }
   ],
   "source": [
    "a.loc[a['ticker'].str.len() == 3].describe()"
   ]
  },
  {
   "cell_type": "code",
   "execution_count": null,
   "metadata": {},
   "outputs": [],
   "source": []
  }
 ],
 "metadata": {
  "kernelspec": {
   "display_name": "Python 3",
   "language": "python",
   "name": "python3"
  },
  "language_info": {
   "codemirror_mode": {
    "name": "ipython",
    "version": 3
   },
   "file_extension": ".py",
   "mimetype": "text/x-python",
   "name": "python",
   "nbconvert_exporter": "python",
   "pygments_lexer": "ipython3",
   "version": "3.7.7-final"
  }
 },
 "nbformat": 4,
 "nbformat_minor": 4
}